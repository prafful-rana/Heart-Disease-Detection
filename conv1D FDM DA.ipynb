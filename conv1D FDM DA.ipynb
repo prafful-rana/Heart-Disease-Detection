{
 "cells": [
  {
   "cell_type": "code",
   "execution_count": 1,
   "id": "77ae267c",
   "metadata": {},
   "outputs": [],
   "source": [
    "from scipy.signal import hilbert\n",
    "import math\n",
    "from scipy.fft import fft\n",
    "from scipy.signal import unit_impulse as imp\n",
    "import numpy as np\n",
    "import pandas as pd\n",
    "import matplotlib.pyplot as plt\n",
    "import emd\n",
    "from fdm import fdm"
   ]
  },
  {
   "cell_type": "code",
   "execution_count": 2,
   "id": "e7b8a028",
   "metadata": {},
   "outputs": [],
   "source": [
    "data = pd.read_csv('mitbih_train.csv',header = None)\n",
    "data = np.array(data)\n",
    "labels = data[:,-1]\n",
    "data = data[:,0:-1]"
   ]
  },
  {
   "cell_type": "code",
   "execution_count": 3,
   "id": "d84749e7",
   "metadata": {},
   "outputs": [
    {
     "name": "stderr",
     "output_type": "stream",
     "text": [
      "C:\\Users\\Prafful\\AppData\\Local\\Temp\\ipykernel_9240\\1299854655.py:10: VisibleDeprecationWarning: Creating an ndarray from ragged nested sequences (which is a list-or-tuple of lists-or-tuples-or ndarrays with different lengths or shapes) is deprecated. If you meant to do this, you must specify 'dtype=object' when creating the ndarray.\n",
      "  samples = np.array([np.array(xi) for xi in samples])\n"
     ]
    }
   ],
   "source": [
    "def get_samples(data):\n",
    "    def remove_padding(data):\n",
    "        end = len(data)-1\n",
    "        while data[end]==0:\n",
    "            end=end-1\n",
    "        return data[:end]\n",
    "    samples = []\n",
    "    for i in range(len(data)):\n",
    "        samples.append(remove_padding(data[i]))\n",
    "    samples = np.array([np.array(xi) for xi in samples])\n",
    "    return samples\n",
    "sample = get_samples(data)"
   ]
  },
  {
   "cell_type": "code",
   "execution_count": 4,
   "id": "74a38656",
   "metadata": {},
   "outputs": [
    {
     "data": {
      "text/plain": [
       "87554"
      ]
     },
     "execution_count": 4,
     "metadata": {},
     "output_type": "execute_result"
    }
   ],
   "source": [
    "len(sample)"
   ]
  },
  {
   "cell_type": "code",
   "execution_count": 5,
   "id": "ac19e9ee",
   "metadata": {},
   "outputs": [
    {
     "data": {
      "text/plain": [
       "641"
      ]
     },
     "execution_count": 5,
     "metadata": {},
     "output_type": "execute_result"
    }
   ],
   "source": [
    "labelwise_data = [[],[],[],[],[]]\n",
    "for i in range(0,len(sample)):\n",
    "    val = labels[i]\n",
    "    val = int(val)\n",
    "    labelwise_data[val].append(sample[i])\n",
    "len(labelwise_data[3])"
   ]
  },
  {
   "cell_type": "code",
   "execution_count": 6,
   "id": "07f063ab",
   "metadata": {},
   "outputs": [
    {
     "data": {
      "text/plain": [
       "641"
      ]
     },
     "execution_count": 6,
     "metadata": {},
     "output_type": "execute_result"
    }
   ],
   "source": [
    "curr = 3\n",
    "label_data = labelwise_data[curr]\n",
    "len(label_data)"
   ]
  },
  {
   "cell_type": "code",
   "execution_count": 7,
   "id": "42503658",
   "metadata": {},
   "outputs": [
    {
     "data": {
      "text/plain": [
       "79"
      ]
     },
     "execution_count": 7,
     "metadata": {},
     "output_type": "execute_result"
    }
   ],
   "source": [
    "len(label_data[0])"
   ]
  },
  {
   "cell_type": "code",
   "execution_count": 8,
   "id": "16df6c4d",
   "metadata": {},
   "outputs": [],
   "source": [
    "def phase_shift(samples,alpha):\n",
    "    shifted = []\n",
    "    samples = np.array(samples)\n",
    "    for data in samples:\n",
    "        transformed = hilbert(data)\n",
    "        for val in alpha:\n",
    "            temp = data*math.cos(val) + transformed*math.sin(val)\n",
    "            shifted.append(np.array(temp.real))\n",
    "    return np.array(shifted)"
   ]
  },
  {
   "cell_type": "code",
   "execution_count": 9,
   "id": "a5d3aacf",
   "metadata": {},
   "outputs": [
    {
     "data": {
      "text/plain": [
       "[72471, 2223, 5788, 641, 6431]"
      ]
     },
     "execution_count": 9,
     "metadata": {},
     "output_type": "execute_result"
    }
   ],
   "source": [
    "label_length = [len(labelwise_data[0]),len(labelwise_data[1]),len(labelwise_data[2]),len(labelwise_data[3]),len(labelwise_data[4])]\n",
    "label_length"
   ]
  },
  {
   "cell_type": "code",
   "execution_count": 10,
   "id": "07100e94",
   "metadata": {},
   "outputs": [],
   "source": [
    "fs = 125\n",
    "def create_fibfs(samples):\n",
    "    fibfs = []\n",
    "    for i in range(0,len(samples),1):\n",
    "        sample = samples[i]\n",
    "        sample=np.reshape(sample,(len(sample),1))\n",
    "        fibfs.append(fdm(sample,fs=125,fc=np.array([0,10,20,30,40]),filter_type='dct',plot_subbands=False))\n",
    "    return np.array(fibfs)\n",
    "\n",
    "maximum=186\n",
    "        \n",
    "def create_spectrum(fibfs):\n",
    "    sample_rate = 125\n",
    "    f=0\n",
    "    hht=0\n",
    "    f_arr = []\n",
    "    hht_arr = []\n",
    "    for i in range(0,len(fibfs),1):\n",
    "        IP, IF, IA = emd.spectra.frequency_transform(fibfs[i],sample_rate,'hilbert')\n",
    "        freq_range = (0.1,10,80,'log')\n",
    "        f, hht = emd.spectra.hilberthuang(IF,IA,freq_range,sum_time=False)\n",
    "        \n",
    "        f_arr.append(np.asarray(f))\n",
    "        \n",
    "        \n",
    "        if len(hht[0])<maximum :\n",
    "            final_hht = []\n",
    "            for a in range(0,len(hht),1):\n",
    "                length = len(hht[0])\n",
    "                temp = list(hht[a])\n",
    "                for b in range(0,186-length,1):\n",
    "                    temp.append(0)\n",
    "                final_hht.append(temp)\n",
    "            hht_arr.append(np.asarray(final_hht))\n",
    "        \n",
    "        else:\n",
    "            hht_arr.append(hht)\n",
    "            \n",
    "            \n",
    "    return np.asarray(f_arr),np.asarray(hht_arr)"
   ]
  },
  {
   "cell_type": "code",
   "execution_count": 11,
   "id": "adde2a96",
   "metadata": {},
   "outputs": [
    {
     "name": "stderr",
     "output_type": "stream",
     "text": [
      "C:\\Users\\Prafful\\AppData\\Local\\Temp\\ipykernel_9240\\3316496239.py:1: VisibleDeprecationWarning: Creating an ndarray from ragged nested sequences (which is a list-or-tuple of lists-or-tuples-or ndarrays with different lengths or shapes) is deprecated. If you meant to do this, you must specify 'dtype=object' when creating the ndarray.\n",
      "  new_sample_0 = np.array(labelwise_data[0][0:6500])\n",
      "C:\\Users\\Prafful\\AppData\\Local\\Temp\\ipykernel_9240\\3316496239.py:4: VisibleDeprecationWarning: Creating an ndarray from ragged nested sequences (which is a list-or-tuple of lists-or-tuples-or ndarrays with different lengths or shapes) is deprecated. If you meant to do this, you must specify 'dtype=object' when creating the ndarray.\n",
      "  temp1 = np.array(labelwise_data[1][0:2223])\n",
      "C:\\Users\\Prafful\\AppData\\Local\\Temp\\ipykernel_9240\\4105871267.py:3: VisibleDeprecationWarning: Creating an ndarray from ragged nested sequences (which is a list-or-tuple of lists-or-tuples-or ndarrays with different lengths or shapes) is deprecated. If you meant to do this, you must specify 'dtype=object' when creating the ndarray.\n",
      "  samples = np.array(samples)\n",
      "C:\\Users\\Prafful\\AppData\\Local\\Temp\\ipykernel_9240\\4105871267.py:9: VisibleDeprecationWarning: Creating an ndarray from ragged nested sequences (which is a list-or-tuple of lists-or-tuples-or ndarrays with different lengths or shapes) is deprecated. If you meant to do this, you must specify 'dtype=object' when creating the ndarray.\n",
      "  return np.array(shifted)\n",
      "C:\\Users\\Prafful\\AppData\\Local\\Temp\\ipykernel_9240\\3316496239.py:14: VisibleDeprecationWarning: Creating an ndarray from ragged nested sequences (which is a list-or-tuple of lists-or-tuples-or ndarrays with different lengths or shapes) is deprecated. If you meant to do this, you must specify 'dtype=object' when creating the ndarray.\n",
      "  temp1 = np.array(labelwise_data[3][:])\n",
      "C:\\Users\\Prafful\\AppData\\Local\\Temp\\ipykernel_9240\\3316496239.py:19: VisibleDeprecationWarning: Creating an ndarray from ragged nested sequences (which is a list-or-tuple of lists-or-tuples-or ndarrays with different lengths or shapes) is deprecated. If you meant to do this, you must specify 'dtype=object' when creating the ndarray.\n",
      "  new_sample_4 = np.array(labelwise_data[4][:])\n"
     ]
    }
   ],
   "source": [
    "new_sample_0 = np.array(labelwise_data[0][0:6500])\n",
    "temp_label_0 = np.full(new_sample_0.shape[0],0)\n",
    "## for label 1:\n",
    "temp1 = np.array(labelwise_data[1][0:2223])\n",
    "temp2 = phase_shift(labelwise_data[1][0:2139],alpha = [math.pi/3,math.pi/6])\n",
    "new_sample_1 = np.concatenate((temp1,temp2))\n",
    "temp_label_1 = np.full(new_sample_1.shape[0],1)\n",
    "## for label 2:\n",
    "temp1 = np.array(labelwise_data[2][0:5788])\n",
    "temp2 = phase_shift(labelwise_data[2][0:356],alpha = [math.pi/3,math.pi/6])\n",
    "new_sample_2 = np.concatenate((temp1,temp2))\n",
    "temp_label_2 = np.full(new_sample_2.shape[0],2)\n",
    "## for label 3:\n",
    "temp1 = np.array(labelwise_data[3][:])\n",
    "temp2 = phase_shift(labelwise_data[3][:],alpha = [math.pi/3,math.pi/6,math.pi/8,math.pi/10,math.pi/12,math.pi/14,math.pi/16,math.pi/19,math.pi/20])\n",
    "new_sample_3 = np.concatenate((temp1,temp2))\n",
    "temp_label_3 = np.full(new_sample_3.shape[0],3)\n",
    "## for label 4:\n",
    "new_sample_4 = np.array(labelwise_data[4][:])\n",
    "temp_label_4 = np.full(new_sample_4.shape[0],4)\n",
    "\n",
    "temp_samples = np.concatenate((new_sample_0,new_sample_1,new_sample_2,new_sample_3,new_sample_4))\n",
    "temp_labels = np.concatenate((temp_label_0,temp_label_1,temp_label_2,temp_label_3,temp_label_4))"
   ]
  },
  {
   "cell_type": "code",
   "execution_count": 12,
   "id": "493622ae",
   "metadata": {},
   "outputs": [
    {
     "data": {
      "text/plain": [
       "(32342,)"
      ]
     },
     "execution_count": 12,
     "metadata": {},
     "output_type": "execute_result"
    }
   ],
   "source": [
    "temp_labels.shape"
   ]
  },
  {
   "cell_type": "code",
   "execution_count": 13,
   "id": "ebc91293",
   "metadata": {},
   "outputs": [
    {
     "data": {
      "text/plain": [
       "(32342,)"
      ]
     },
     "execution_count": 13,
     "metadata": {},
     "output_type": "execute_result"
    }
   ],
   "source": [
    "temp_samples.shape"
   ]
  },
  {
   "cell_type": "code",
   "execution_count": 14,
   "id": "6d653cd7",
   "metadata": {},
   "outputs": [],
   "source": [
    "idx = np.random.permutation(len(temp_samples))\n",
    "shuffled_samples , training_labels = temp_samples[idx], temp_labels[idx]"
   ]
  },
  {
   "cell_type": "code",
   "execution_count": 15,
   "id": "1aa5f9a5",
   "metadata": {},
   "outputs": [
    {
     "name": "stderr",
     "output_type": "stream",
     "text": [
      "C:\\Users\\Prafful\\AppData\\Local\\Temp\\ipykernel_9240\\2876654152.py:8: VisibleDeprecationWarning: Creating an ndarray from ragged nested sequences (which is a list-or-tuple of lists-or-tuples-or ndarrays with different lengths or shapes) is deprecated. If you meant to do this, you must specify 'dtype=object' when creating the ndarray.\n",
      "  return np.array(fibfs)\n"
     ]
    }
   ],
   "source": [
    "features = create_fibfs(shuffled_samples)"
   ]
  },
  {
   "cell_type": "code",
   "execution_count": 17,
   "id": "0cd1b5c0",
   "metadata": {},
   "outputs": [
    {
     "data": {
      "text/plain": [
       "(123, 5)"
      ]
     },
     "execution_count": 17,
     "metadata": {},
     "output_type": "execute_result"
    }
   ],
   "source": [
    "np.shape(features[0])"
   ]
  },
  {
   "cell_type": "code",
   "execution_count": 16,
   "id": "a9bed993",
   "metadata": {},
   "outputs": [],
   "source": [
    "#imf and fibfs are used exchangeably, context should be understood.\n",
    "max_imfs = 0\n",
    "for imf in features:\n",
    "    (x,y) = imf.shape\n",
    "    max_imfs = max(y,max_imfs)\n",
    "def pad_imfs(imfs):\n",
    "    final = []\n",
    "    for imf in imfs:\n",
    "        (x,y) = imf.shape\n",
    "        if y<6:\n",
    "            temp_imf = []\n",
    "            for each_period in imf:\n",
    "                temp_imf.append(np.pad(each_period,(0,6-y),'constant',constant_values=(0,0)))\n",
    "            imf = np.array(temp_imf)\n",
    "        \n",
    "        if x<maximum :\n",
    "            pading_log = np.zeros((maximum-x,6))\n",
    "            final.append(np.concatenate((imf,pading_log)))\n",
    "        else:\n",
    "            final.append(imf)\n",
    "    return np.array(final)\n",
    "features = pad_imfs(features)"
   ]
  },
  {
   "cell_type": "code",
   "execution_count": 17,
   "id": "1f2470a3",
   "metadata": {},
   "outputs": [
    {
     "data": {
      "text/plain": [
       "<AxesSubplot:xlabel='Time (samples)'>"
      ]
     },
     "execution_count": 17,
     "metadata": {},
     "output_type": "execute_result"
    },
    {
     "data": {
      "image/png": "[encoded data removed]",
      "text/plain": [
       "<Figure size 1152x720 with 1 Axes>"
      ]
     },
     "metadata": {
      "needs_background": "light"
     },
     "output_type": "display_data"
    }
   ],
   "source": [
    "emd.plotting.plot_imfs(features[0])"
   ]
  },
  {
   "cell_type": "markdown",
   "id": "ea9a3657",
   "metadata": {},
   "source": [
    "# Learning Arena"
   ]
  },
  {
   "cell_type": "code",
   "execution_count": 18,
   "id": "7176dd42",
   "metadata": {},
   "outputs": [],
   "source": [
    "def get_curves(history):\n",
    "    acc = history.history['accuracy']\n",
    "    val_acc = history.history['val_accuracy']\n",
    "    loss = history.history['loss']\n",
    "    val_loss = history.history['val_loss']\n",
    "    \n",
    "    epochs = range(1,len(acc)+1)\n",
    "    \n",
    "    plt.plot(epochs,acc,'bo',label = 'Training acc')\n",
    "    plt.plot(epochs,val_acc,'b',label = 'Validation acc')\n",
    "    plt.title('Training and validation Accuracy')\n",
    "    plt.legend()\n",
    "    plt.figure()\n",
    "    \n",
    "    plt.plot(epochs,loss,'bo',label='Training Loss')\n",
    "    plt.plot(epochs,val_loss,'b',label='Validation Loss')\n",
    "    plt.title('Training and Validation Loss')\n",
    "    plt.legend()\n",
    "    plt.figure()"
   ]
  },
  {
   "cell_type": "code",
   "execution_count": 19,
   "id": "42feccba",
   "metadata": {},
   "outputs": [],
   "source": [
    "from keras.utils import to_categorical\n",
    "labels = to_categorical(training_labels)"
   ]
  },
  {
   "cell_type": "code",
   "execution_count": 21,
   "id": "56569b1b",
   "metadata": {},
   "outputs": [],
   "source": [
    "from keras import layers,models\n",
    "\n",
    "def get_model():\n",
    "    input_seq = layers.Input(shape = (186,6))\n",
    "    conv1 = layers.Conv1D(24,7,padding=\"same\", activation=\"tanh\")(input_seq)\n",
    "    pool1 = layers.MaxPooling1D(5)(conv1)\n",
    "    conv2 = layers.Conv1D(24,7,padding=\"same\", activation=\"tanh\")(pool1)\n",
    "    processed = layers.GlobalMaxPooling1D()(conv2)\n",
    "    compressed = layers.Dense(50, activation=\"relu\")(processed)\n",
    "    compressed = layers.Dropout(0.3)(compressed)\n",
    "    out = layers.Dense(5, activation='softmax')(compressed)\n",
    "    model = models.Model(inputs=input_seq, outputs=out)\n",
    "    model.compile(optimizer = 'RMSprop',loss='kullback_leibler_divergence',metrics=['accuracy'])\n",
    "    return model\n",
    "#model_history = model.fit(features,labels,epochs=75,validation_split=0.2)"
   ]
  },
  {
   "cell_type": "code",
   "execution_count": 33,
   "id": "fd4f9829",
   "metadata": {
    "scrolled": false
   },
   "outputs": [
    {
     "name": "stdout",
     "output_type": "stream",
     "text": [
      "Epoch 1/50\n",
      "809/809 [==============================] - 9s 10ms/step - loss: 0.8333 - accuracy: 0.6903 - val_loss: 0.5055 - val_accuracy: 0.8137\n",
      "Epoch 2/50\n",
      "809/809 [==============================] - 11s 14ms/step - loss: 0.4617 - accuracy: 0.8423 - val_loss: 0.3880 - val_accuracy: 0.8660\n",
      "Epoch 3/50\n",
      "809/809 [==============================] - 9s 11ms/step - loss: 0.3688 - accuracy: 0.8748 - val_loss: 0.3497 - val_accuracy: 0.8834\n",
      "Epoch 4/50\n",
      "809/809 [==============================] - 10s 13ms/step - loss: 0.3147 - accuracy: 0.8952 - val_loss: 0.3126 - val_accuracy: 0.8912\n",
      "Epoch 5/50\n",
      "809/809 [==============================] - 11s 14ms/step - loss: 0.2779 - accuracy: 0.9068 - val_loss: 0.2875 - val_accuracy: 0.9000\n",
      "Epoch 6/50\n",
      "809/809 [==============================] - 11s 13ms/step - loss: 0.2558 - accuracy: 0.9129 - val_loss: 0.2396 - val_accuracy: 0.9201\n",
      "Epoch 7/50\n",
      "809/809 [==============================] - 9s 12ms/step - loss: 0.2396 - accuracy: 0.9191 - val_loss: 0.2443 - val_accuracy: 0.9213\n",
      "Epoch 8/50\n",
      "809/809 [==============================] - 10s 13ms/step - loss: 0.2238 - accuracy: 0.9254 - val_loss: 0.2232 - val_accuracy: 0.9218\n",
      "Epoch 9/50\n",
      "809/809 [==============================] - 8s 10ms/step - loss: 0.2132 - accuracy: 0.9296 - val_loss: 0.2126 - val_accuracy: 0.9289\n",
      "Epoch 10/50\n",
      "809/809 [==============================] - 9s 11ms/step - loss: 0.2013 - accuracy: 0.9333 - val_loss: 0.2047 - val_accuracy: 0.9323\n",
      "Epoch 11/50\n",
      "809/809 [==============================] - 9s 11ms/step - loss: 0.1935 - accuracy: 0.9360 - val_loss: 0.2087 - val_accuracy: 0.9297\n",
      "Epoch 12/50\n",
      "809/809 [==============================] - 11s 14ms/step - loss: 0.1868 - accuracy: 0.9377 - val_loss: 0.2070 - val_accuracy: 0.9278\n",
      "Epoch 13/50\n",
      "809/809 [==============================] - 12s 15ms/step - loss: 0.1809 - accuracy: 0.9396 - val_loss: 0.2225 - val_accuracy: 0.9255\n",
      "Epoch 14/50\n",
      "809/809 [==============================] - 11s 14ms/step - loss: 0.1742 - accuracy: 0.9431 - val_loss: 0.1901 - val_accuracy: 0.9369\n",
      "Epoch 15/50\n",
      "809/809 [==============================] - 10s 12ms/step - loss: 0.1684 - accuracy: 0.9440 - val_loss: 0.1790 - val_accuracy: 0.9409\n",
      "Epoch 16/50\n",
      "809/809 [==============================] - 11s 14ms/step - loss: 0.1680 - accuracy: 0.9439 - val_loss: 0.1964 - val_accuracy: 0.9365\n",
      "Epoch 17/50\n",
      "809/809 [==============================] - 10s 12ms/step - loss: 0.1611 - accuracy: 0.9461 - val_loss: 0.2001 - val_accuracy: 0.9383\n",
      "Epoch 18/50\n",
      "809/809 [==============================] - 10s 13ms/step - loss: 0.1532 - accuracy: 0.9478 - val_loss: 0.1907 - val_accuracy: 0.9369\n",
      "Epoch 19/50\n",
      "809/809 [==============================] - 12s 14ms/step - loss: 0.1513 - accuracy: 0.9487 - val_loss: 0.2461 - val_accuracy: 0.9178\n",
      "Epoch 20/50\n",
      "809/809 [==============================] - 10s 12ms/step - loss: 0.1523 - accuracy: 0.9481 - val_loss: 0.2120 - val_accuracy: 0.9286\n",
      "Epoch 21/50\n",
      "809/809 [==============================] - 10s 13ms/step - loss: 0.1480 - accuracy: 0.9506 - val_loss: 0.1814 - val_accuracy: 0.9425\n",
      "Epoch 22/50\n",
      "809/809 [==============================] - 11s 13ms/step - loss: 0.1444 - accuracy: 0.9518 - val_loss: 0.2054 - val_accuracy: 0.9338\n",
      "Epoch 23/50\n",
      "809/809 [==============================] - 9s 11ms/step - loss: 0.1426 - accuracy: 0.9530 - val_loss: 0.1802 - val_accuracy: 0.9408\n",
      "Epoch 24/50\n",
      "809/809 [==============================] - 11s 13ms/step - loss: 0.1431 - accuracy: 0.9520 - val_loss: 0.1707 - val_accuracy: 0.9448\n",
      "Epoch 25/50\n",
      "809/809 [==============================] - 11s 14ms/step - loss: 0.1383 - accuracy: 0.9548 - val_loss: 0.1830 - val_accuracy: 0.9420\n",
      "Epoch 26/50\n",
      "809/809 [==============================] - 9s 11ms/step - loss: 0.1356 - accuracy: 0.9548 - val_loss: 0.1836 - val_accuracy: 0.9439\n",
      "Epoch 27/50\n",
      "809/809 [==============================] - 11s 14ms/step - loss: 0.1324 - accuracy: 0.9559 - val_loss: 0.1839 - val_accuracy: 0.9414\n",
      "Epoch 28/50\n",
      "809/809 [==============================] - 9s 11ms/step - loss: 0.1328 - accuracy: 0.9562 - val_loss: 0.1757 - val_accuracy: 0.9448\n",
      "Epoch 29/50\n",
      "809/809 [==============================] - 11s 14ms/step - loss: 0.1311 - accuracy: 0.9559 - val_loss: 0.1728 - val_accuracy: 0.9433\n",
      "Epoch 30/50\n",
      "809/809 [==============================] - 11s 14ms/step - loss: 0.1296 - accuracy: 0.9568 - val_loss: 0.1875 - val_accuracy: 0.9402\n",
      "Epoch 31/50\n",
      "809/809 [==============================] - 10s 13ms/step - loss: 0.1286 - accuracy: 0.9566 - val_loss: 0.1732 - val_accuracy: 0.9473\n",
      "Epoch 32/50\n",
      "809/809 [==============================] - 10s 12ms/step - loss: 0.1251 - accuracy: 0.9571 - val_loss: 0.1789 - val_accuracy: 0.9386\n",
      "Epoch 33/50\n",
      "809/809 [==============================] - 11s 14ms/step - loss: 0.1257 - accuracy: 0.9569 - val_loss: 0.1672 - val_accuracy: 0.9468\n",
      "Epoch 34/50\n",
      "809/809 [==============================] - 11s 13ms/step - loss: 0.1238 - accuracy: 0.9583 - val_loss: 0.1808 - val_accuracy: 0.9447\n",
      "Epoch 35/50\n",
      "809/809 [==============================] - 9s 11ms/step - loss: 0.1250 - accuracy: 0.9580 - val_loss: 0.1953 - val_accuracy: 0.9399\n",
      "Epoch 36/50\n",
      "809/809 [==============================] - 11s 14ms/step - loss: 0.1193 - accuracy: 0.9598 - val_loss: 0.1769 - val_accuracy: 0.9416\n",
      "Epoch 37/50\n",
      "809/809 [==============================] - 7s 8ms/step - loss: 0.1190 - accuracy: 0.9605 - val_loss: 0.1709 - val_accuracy: 0.9485\n",
      "Epoch 38/50\n",
      "809/809 [==============================] - 10s 12ms/step - loss: 0.1184 - accuracy: 0.9597 - val_loss: 0.1610 - val_accuracy: 0.9484\n",
      "Epoch 39/50\n",
      "809/809 [==============================] - 11s 13ms/step - loss: 0.1137 - accuracy: 0.9617 - val_loss: 0.2147 - val_accuracy: 0.9331\n",
      "Epoch 40/50\n",
      "809/809 [==============================] - 7s 9ms/step - loss: 0.1155 - accuracy: 0.9613 - val_loss: 0.1700 - val_accuracy: 0.9461\n",
      "Epoch 41/50\n",
      "809/809 [==============================] - 11s 13ms/step - loss: 0.1127 - accuracy: 0.9623 - val_loss: 0.1716 - val_accuracy: 0.9457\n",
      "Epoch 42/50\n",
      "809/809 [==============================] - 9s 11ms/step - loss: 0.1144 - accuracy: 0.9615 - val_loss: 0.1840 - val_accuracy: 0.9425\n",
      "Epoch 43/50\n",
      "809/809 [==============================] - 9s 11ms/step - loss: 0.1149 - accuracy: 0.9618 - val_loss: 0.1889 - val_accuracy: 0.9431\n",
      "Epoch 44/50\n",
      "809/809 [==============================] - 8s 10ms/step - loss: 0.1141 - accuracy: 0.9622 - val_loss: 0.1888 - val_accuracy: 0.9485\n",
      "Epoch 45/50\n",
      "809/809 [==============================] - 11s 13ms/step - loss: 0.1130 - accuracy: 0.9623 - val_loss: 0.1757 - val_accuracy: 0.9459\n",
      "Epoch 46/50\n",
      "809/809 [==============================] - 11s 13ms/step - loss: 0.1093 - accuracy: 0.9628 - val_loss: 0.1763 - val_accuracy: 0.9473\n",
      "Epoch 47/50\n",
      "809/809 [==============================] - 8s 10ms/step - loss: 0.1099 - accuracy: 0.9637 - val_loss: 0.1880 - val_accuracy: 0.9444\n",
      "Epoch 48/50\n",
      "809/809 [==============================] - 12s 15ms/step - loss: 0.1096 - accuracy: 0.9634 - val_loss: 0.2013 - val_accuracy: 0.9442\n",
      "Epoch 49/50\n",
      "809/809 [==============================] - 10s 12ms/step - loss: 0.1093 - accuracy: 0.9636 - val_loss: 0.2799 - val_accuracy: 0.9182\n",
      "Epoch 50/50\n",
      "809/809 [==============================] - 12s 14ms/step - loss: 0.1093 - accuracy: 0.9628 - val_loss: 0.1699 - val_accuracy: 0.9485\n"
     ]
    },
    {
     "data": {
      "image/png": "[encoded data removed]",
      "text/plain": [
       "<Figure size 432x288 with 1 Axes>"
      ]
     },
     "metadata": {
      "needs_background": "light"
     },
     "output_type": "display_data"
    },
    {
     "data": {
      "image/png": "[encoded data removed]",
      "text/plain": [
       "<Figure size 432x288 with 1 Axes>"
      ]
     },
     "metadata": {
      "needs_background": "light"
     },
     "output_type": "display_data"
    },
    {
     "data": {
      "text/plain": [
       "<Figure size 432x288 with 0 Axes>"
      ]
     },
     "metadata": {},
     "output_type": "display_data"
    }
   ],
   "source": [
    "temp_model = get_model()\n",
    "history = temp_model.fit(features,labels,epochs=50,validation_split=0.2)\n",
    "get_curves(history)"
   ]
  },
  {
   "cell_type": "code",
   "execution_count": 34,
   "id": "62820bd9",
   "metadata": {
    "scrolled": true
   },
   "outputs": [
    {
     "name": "stdout",
     "output_type": "stream",
     "text": [
      "Epoch 1/50\n",
      "759/759 [==============================] - 10s 13ms/step - loss: 0.8603 - accuracy: 0.6794\n",
      "Epoch 2/50\n",
      "759/759 [==============================] - 9s 11ms/step - loss: 0.4606 - accuracy: 0.8420\n",
      "Epoch 3/50\n",
      "759/759 [==============================] - 7s 9ms/step - loss: 0.3595 - accuracy: 0.8802\n",
      "Epoch 4/50\n",
      "759/759 [==============================] - 7s 9ms/step - loss: 0.3036 - accuracy: 0.8965\n",
      "Epoch 5/50\n",
      "759/759 [==============================] - 8s 10ms/step - loss: 0.2725 - accuracy: 0.9069\n",
      "Epoch 6/50\n",
      "759/759 [==============================] - 8s 10ms/step - loss: 0.2462 - accuracy: 0.9172\n",
      "Epoch 7/50\n",
      "759/759 [==============================] - 9s 12ms/step - loss: 0.2337 - accuracy: 0.9207\n",
      "Epoch 8/50\n",
      "759/759 [==============================] - 7s 9ms/step - loss: 0.2192 - accuracy: 0.9241\n",
      "Epoch 9/50\n",
      "759/759 [==============================] - 7s 10ms/step - loss: 0.2056 - accuracy: 0.9295\n",
      "Epoch 10/50\n",
      "759/759 [==============================] - 7s 9ms/step - loss: 0.1955 - accuracy: 0.9328\n",
      "Epoch 11/50\n",
      "759/759 [==============================] - 9s 12ms/step - loss: 0.1895 - accuracy: 0.9352\n",
      "Epoch 12/50\n",
      "759/759 [==============================] - 8s 10ms/step - loss: 0.1802 - accuracy: 0.9405\n",
      "Epoch 13/50\n",
      "759/759 [==============================] - 9s 12ms/step - loss: 0.1782 - accuracy: 0.9380\n",
      "Epoch 14/50\n",
      "759/759 [==============================] - 7s 9ms/step - loss: 0.1704 - accuracy: 0.9415\n",
      "Epoch 15/50\n",
      "759/759 [==============================] - 8s 11ms/step - loss: 0.1677 - accuracy: 0.9435\n",
      "Epoch 16/50\n",
      "759/759 [==============================] - 8s 10ms/step - loss: 0.1649 - accuracy: 0.9447\n",
      "Epoch 17/50\n",
      "759/759 [==============================] - 4s 6ms/step - loss: 0.1601 - accuracy: 0.9439\n",
      "Epoch 18/50\n",
      "759/759 [==============================] - 3s 3ms/step - loss: 0.1555 - accuracy: 0.9467\n",
      "Epoch 19/50\n",
      "759/759 [==============================] - 2s 3ms/step - loss: 0.1513 - accuracy: 0.9498\n",
      "Epoch 20/50\n",
      "759/759 [==============================] - 2s 3ms/step - loss: 0.1496 - accuracy: 0.9494\n",
      "Epoch 21/50\n",
      "759/759 [==============================] - 2s 3ms/step - loss: 0.1467 - accuracy: 0.9497\n",
      "Epoch 22/50\n",
      "759/759 [==============================] - 2s 3ms/step - loss: 0.1457 - accuracy: 0.9516\n",
      "Epoch 23/50\n",
      "759/759 [==============================] - 2s 3ms/step - loss: 0.1403 - accuracy: 0.9538\n",
      "Epoch 24/50\n",
      "759/759 [==============================] - 2s 3ms/step - loss: 0.1377 - accuracy: 0.9528\n",
      "Epoch 25/50\n",
      "759/759 [==============================] - 2s 3ms/step - loss: 0.1362 - accuracy: 0.9534\n",
      "Epoch 26/50\n",
      "759/759 [==============================] - 3s 4ms/step - loss: 0.1327 - accuracy: 0.9553\n",
      "Epoch 27/50\n",
      "759/759 [==============================] - 3s 4ms/step - loss: 0.1316 - accuracy: 0.9559\n",
      "Epoch 28/50\n",
      "759/759 [==============================] - 4s 5ms/step - loss: 0.1284 - accuracy: 0.9559\n",
      "Epoch 29/50\n",
      "759/759 [==============================] - 3s 4ms/step - loss: 0.1301 - accuracy: 0.9558\n",
      "Epoch 30/50\n",
      "759/759 [==============================] - 3s 4ms/step - loss: 0.1278 - accuracy: 0.9569\n",
      "Epoch 31/50\n",
      "759/759 [==============================] - 3s 4ms/step - loss: 0.1259 - accuracy: 0.9582\n",
      "Epoch 32/50\n",
      "759/759 [==============================] - 3s 4ms/step - loss: 0.1222 - accuracy: 0.9588\n",
      "Epoch 33/50\n",
      "759/759 [==============================] - 3s 4ms/step - loss: 0.1229 - accuracy: 0.9590\n",
      "Epoch 34/50\n",
      "759/759 [==============================] - 3s 3ms/step - loss: 0.1194 - accuracy: 0.9585\n",
      "Epoch 35/50\n",
      "759/759 [==============================] - 3s 4ms/step - loss: 0.1180 - accuracy: 0.9579\n",
      "Epoch 36/50\n",
      "759/759 [==============================] - 3s 4ms/step - loss: 0.1188 - accuracy: 0.9605\n",
      "Epoch 37/50\n",
      "759/759 [==============================] - 3s 3ms/step - loss: 0.1163 - accuracy: 0.9606\n",
      "Epoch 38/50\n",
      "759/759 [==============================] - 2s 3ms/step - loss: 0.1167 - accuracy: 0.9598\n",
      "Epoch 39/50\n",
      "759/759 [==============================] - 2s 3ms/step - loss: 0.1131 - accuracy: 0.9617\n",
      "Epoch 40/50\n",
      "759/759 [==============================] - 2s 3ms/step - loss: 0.1134 - accuracy: 0.9604\n",
      "Epoch 41/50\n",
      "759/759 [==============================] - 3s 4ms/step - loss: 0.1118 - accuracy: 0.9618\n",
      "Epoch 42/50\n",
      "759/759 [==============================] - 3s 4ms/step - loss: 0.1094 - accuracy: 0.9633\n",
      "Epoch 43/50\n",
      "759/759 [==============================] - 3s 4ms/step - loss: 0.1104 - accuracy: 0.9625\n",
      "Epoch 44/50\n",
      "759/759 [==============================] - 3s 4ms/step - loss: 0.1082 - accuracy: 0.9630\n",
      "Epoch 45/50\n",
      "759/759 [==============================] - 3s 4ms/step - loss: 0.1092 - accuracy: 0.9620\n",
      "Epoch 46/50\n",
      "759/759 [==============================] - 2s 3ms/step - loss: 0.1067 - accuracy: 0.9635\n",
      "Epoch 47/50\n",
      "759/759 [==============================] - 2s 3ms/step - loss: 0.1050 - accuracy: 0.9645\n",
      "Epoch 48/50\n",
      "759/759 [==============================] - 3s 3ms/step - loss: 0.1043 - accuracy: 0.9649\n",
      "Epoch 49/50\n",
      "759/759 [==============================] - 3s 4ms/step - loss: 0.1029 - accuracy: 0.9638\n",
      "Epoch 50/50\n",
      "759/759 [==============================] - 3s 4ms/step - loss: 0.1041 - accuracy: 0.9633\n",
      "253/253 [==============================] - 1s 2ms/step - loss: 0.1555 - accuracy: 0.9545\n",
      "Epoch 1/50\n",
      "759/759 [==============================] - 3s 4ms/step - loss: 0.8335 - accuracy: 0.6989\n",
      "Epoch 2/50\n",
      "759/759 [==============================] - 2s 3ms/step - loss: 0.4497 - accuracy: 0.8461\n",
      "Epoch 3/50\n",
      "759/759 [==============================] - 3s 4ms/step - loss: 0.3559 - accuracy: 0.8795\n",
      "Epoch 4/50\n",
      "759/759 [==============================] - 3s 4ms/step - loss: 0.3067 - accuracy: 0.8955\n",
      "Epoch 5/50\n",
      "759/759 [==============================] - 2s 3ms/step - loss: 0.2738 - accuracy: 0.9072\n",
      "Epoch 6/50\n",
      "759/759 [==============================] - 2s 3ms/step - loss: 0.2511 - accuracy: 0.9151\n",
      "Epoch 7/50\n",
      "759/759 [==============================] - 3s 3ms/step - loss: 0.2328 - accuracy: 0.9223\n",
      "Epoch 8/50\n",
      "759/759 [==============================] - 4s 5ms/step - loss: 0.2197 - accuracy: 0.9251\n",
      "Epoch 9/50\n",
      "759/759 [==============================] - 2s 3ms/step - loss: 0.2088 - accuracy: 0.9297\n",
      "Epoch 10/50\n",
      "759/759 [==============================] - 3s 4ms/step - loss: 0.1988 - accuracy: 0.9330\n",
      "Epoch 11/50\n",
      "759/759 [==============================] - 3s 3ms/step - loss: 0.1918 - accuracy: 0.9354\n",
      "Epoch 12/50\n",
      "759/759 [==============================] - 2s 3ms/step - loss: 0.1825 - accuracy: 0.9392\n",
      "Epoch 13/50\n",
      "759/759 [==============================] - 2s 3ms/step - loss: 0.1784 - accuracy: 0.9397\n",
      "Epoch 14/50\n",
      "759/759 [==============================] - 3s 3ms/step - loss: 0.1731 - accuracy: 0.9418\n",
      "Epoch 15/50\n",
      "759/759 [==============================] - 3s 3ms/step - loss: 0.1676 - accuracy: 0.9427\n",
      "Epoch 16/50\n",
      "759/759 [==============================] - 3s 4ms/step - loss: 0.1612 - accuracy: 0.9461\n",
      "Epoch 17/50\n",
      "759/759 [==============================] - 2s 3ms/step - loss: 0.1614 - accuracy: 0.9467\n",
      "Epoch 18/50\n",
      "759/759 [==============================] - 3s 3ms/step - loss: 0.1580 - accuracy: 0.9475\n",
      "Epoch 19/50\n",
      "759/759 [==============================] - 3s 3ms/step - loss: 0.1537 - accuracy: 0.9473\n",
      "Epoch 20/50\n",
      "759/759 [==============================] - 5s 6ms/step - loss: 0.1494 - accuracy: 0.9483\n",
      "Epoch 21/50\n",
      "759/759 [==============================] - 3s 4ms/step - loss: 0.1457 - accuracy: 0.9501\n",
      "Epoch 22/50\n",
      "759/759 [==============================] - 3s 3ms/step - loss: 0.1439 - accuracy: 0.9507\n",
      "Epoch 23/50\n",
      "759/759 [==============================] - 3s 3ms/step - loss: 0.1410 - accuracy: 0.9522\n",
      "Epoch 24/50\n",
      "759/759 [==============================] - 3s 3ms/step - loss: 0.1440 - accuracy: 0.9510\n",
      "Epoch 25/50\n",
      "759/759 [==============================] - 3s 4ms/step - loss: 0.1383 - accuracy: 0.9541\n",
      "Epoch 26/50\n",
      "759/759 [==============================] - 4s 6ms/step - loss: 0.1374 - accuracy: 0.9524\n",
      "Epoch 27/50\n",
      "759/759 [==============================] - 3s 3ms/step - loss: 0.1341 - accuracy: 0.9545\n",
      "Epoch 28/50\n",
      "759/759 [==============================] - 3s 3ms/step - loss: 0.1327 - accuracy: 0.9537\n",
      "Epoch 29/50\n",
      "759/759 [==============================] - 3s 4ms/step - loss: 0.1287 - accuracy: 0.9567\n",
      "Epoch 30/50\n",
      "759/759 [==============================] - 2s 3ms/step - loss: 0.1304 - accuracy: 0.9552\n",
      "Epoch 31/50\n",
      "759/759 [==============================] - 3s 3ms/step - loss: 0.1268 - accuracy: 0.9569\n",
      "Epoch 32/50\n",
      "759/759 [==============================] - 3s 4ms/step - loss: 0.1244 - accuracy: 0.9572\n",
      "Epoch 33/50\n",
      "759/759 [==============================] - 3s 4ms/step - loss: 0.1256 - accuracy: 0.9574\n",
      "Epoch 34/50\n",
      "759/759 [==============================] - 3s 4ms/step - loss: 0.1276 - accuracy: 0.9564\n",
      "Epoch 35/50\n",
      "759/759 [==============================] - 3s 5ms/step - loss: 0.1227 - accuracy: 0.9589\n",
      "Epoch 36/50\n",
      "759/759 [==============================] - 3s 3ms/step - loss: 0.1252 - accuracy: 0.9572\n",
      "Epoch 37/50\n",
      "759/759 [==============================] - 4s 5ms/step - loss: 0.1243 - accuracy: 0.9580\n",
      "Epoch 38/50\n",
      "759/759 [==============================] - 3s 4ms/step - loss: 0.1213 - accuracy: 0.9582\n",
      "Epoch 39/50\n",
      "759/759 [==============================] - 3s 3ms/step - loss: 0.1218 - accuracy: 0.9587\n",
      "Epoch 40/50\n",
      "759/759 [==============================] - 3s 4ms/step - loss: 0.1215 - accuracy: 0.9588\n",
      "Epoch 41/50\n",
      "759/759 [==============================] - 3s 5ms/step - loss: 0.1176 - accuracy: 0.9589\n",
      "Epoch 42/50\n",
      "759/759 [==============================] - 3s 4ms/step - loss: 0.1161 - accuracy: 0.9610\n",
      "Epoch 43/50\n",
      "759/759 [==============================] - 3s 4ms/step - loss: 0.1154 - accuracy: 0.9605\n",
      "Epoch 44/50\n",
      "759/759 [==============================] - 4s 5ms/step - loss: 0.1165 - accuracy: 0.9615\n",
      "Epoch 45/50\n",
      "759/759 [==============================] - 2s 3ms/step - loss: 0.1149 - accuracy: 0.9600\n",
      "Epoch 46/50\n",
      "759/759 [==============================] - 2s 3ms/step - loss: 0.1145 - accuracy: 0.9606\n",
      "Epoch 47/50\n",
      "759/759 [==============================] - 4s 5ms/step - loss: 0.1137 - accuracy: 0.9615\n",
      "Epoch 48/50\n",
      "759/759 [==============================] - 3s 3ms/step - loss: 0.1119 - accuracy: 0.9625\n",
      "Epoch 49/50\n",
      "759/759 [==============================] - 2s 3ms/step - loss: 0.1135 - accuracy: 0.9614\n",
      "Epoch 50/50\n",
      "759/759 [==============================] - 2s 3ms/step - loss: 0.1108 - accuracy: 0.9618\n",
      "253/253 [==============================] - 0s 1ms/step - loss: 0.1526 - accuracy: 0.9551\n",
      "Epoch 1/50\n",
      "759/759 [==============================] - 4s 5ms/step - loss: 0.8550 - accuracy: 0.6980\n",
      "Epoch 2/50\n",
      "759/759 [==============================] - 3s 4ms/step - loss: 0.4534 - accuracy: 0.8457\n",
      "Epoch 3/50\n",
      "759/759 [==============================] - 3s 4ms/step - loss: 0.3572 - accuracy: 0.8785\n",
      "Epoch 4/50\n",
      "759/759 [==============================] - 3s 4ms/step - loss: 0.3096 - accuracy: 0.8984\n",
      "Epoch 5/50\n",
      "759/759 [==============================] - 3s 3ms/step - loss: 0.2810 - accuracy: 0.9074\n",
      "Epoch 6/50\n",
      "759/759 [==============================] - 3s 4ms/step - loss: 0.2608 - accuracy: 0.9138\n",
      "Epoch 7/50\n",
      "759/759 [==============================] - 3s 4ms/step - loss: 0.2428 - accuracy: 0.9193\n",
      "Epoch 8/50\n",
      "759/759 [==============================] - 3s 3ms/step - loss: 0.2263 - accuracy: 0.9234\n",
      "Epoch 9/50\n",
      "759/759 [==============================] - 3s 3ms/step - loss: 0.2181 - accuracy: 0.9289\n",
      "Epoch 10/50\n",
      "759/759 [==============================] - 2s 3ms/step - loss: 0.2041 - accuracy: 0.9302\n",
      "Epoch 11/50\n",
      "759/759 [==============================] - 2s 3ms/step - loss: 0.1978 - accuracy: 0.9345\n",
      "Epoch 12/50\n",
      "759/759 [==============================] - 3s 3ms/step - loss: 0.1904 - accuracy: 0.9366\n",
      "Epoch 13/50\n",
      "759/759 [==============================] - 3s 4ms/step - loss: 0.1851 - accuracy: 0.9382\n",
      "Epoch 14/50\n",
      "759/759 [==============================] - 2s 3ms/step - loss: 0.1795 - accuracy: 0.9392\n",
      "Epoch 15/50\n",
      "759/759 [==============================] - 3s 4ms/step - loss: 0.1752 - accuracy: 0.9403\n",
      "Epoch 16/50\n",
      "759/759 [==============================] - 3s 5ms/step - loss: 0.1694 - accuracy: 0.9439\n",
      "Epoch 17/50\n",
      "759/759 [==============================] - 2s 3ms/step - loss: 0.1659 - accuracy: 0.9443\n",
      "Epoch 18/50\n",
      "759/759 [==============================] - 2s 3ms/step - loss: 0.1598 - accuracy: 0.9480\n",
      "Epoch 19/50\n",
      "759/759 [==============================] - 3s 3ms/step - loss: 0.1577 - accuracy: 0.9489\n",
      "Epoch 20/50\n",
      "759/759 [==============================] - 3s 4ms/step - loss: 0.1533 - accuracy: 0.9493\n",
      "Epoch 21/50\n",
      "759/759 [==============================] - 4s 5ms/step - loss: 0.1489 - accuracy: 0.9493\n",
      "Epoch 22/50\n",
      "759/759 [==============================] - 2s 3ms/step - loss: 0.1492 - accuracy: 0.9495\n",
      "Epoch 23/50\n",
      "759/759 [==============================] - 3s 4ms/step - loss: 0.1462 - accuracy: 0.9514\n",
      "Epoch 24/50\n",
      "759/759 [==============================] - 3s 4ms/step - loss: 0.1445 - accuracy: 0.9511\n",
      "Epoch 25/50\n",
      "759/759 [==============================] - 2s 3ms/step - loss: 0.1418 - accuracy: 0.9527\n",
      "Epoch 26/50\n",
      "759/759 [==============================] - 2s 3ms/step - loss: 0.1395 - accuracy: 0.9524\n",
      "Epoch 27/50\n",
      "759/759 [==============================] - 2s 3ms/step - loss: 0.1380 - accuracy: 0.9539\n",
      "Epoch 28/50\n",
      "759/759 [==============================] - 3s 4ms/step - loss: 0.1365 - accuracy: 0.9537\n",
      "Epoch 29/50\n",
      "759/759 [==============================] - 3s 5ms/step - loss: 0.1392 - accuracy: 0.9529\n",
      "Epoch 30/50\n",
      "759/759 [==============================] - 2s 3ms/step - loss: 0.1347 - accuracy: 0.9550\n",
      "Epoch 31/50\n",
      "759/759 [==============================] - 3s 4ms/step - loss: 0.1322 - accuracy: 0.9550\n",
      "Epoch 32/50\n",
      "759/759 [==============================] - 3s 4ms/step - loss: 0.1296 - accuracy: 0.9568\n",
      "Epoch 33/50\n",
      "759/759 [==============================] - 3s 3ms/step - loss: 0.1266 - accuracy: 0.9580\n",
      "Epoch 34/50\n",
      "759/759 [==============================] - 3s 4ms/step - loss: 0.1270 - accuracy: 0.9579\n",
      "Epoch 35/50\n",
      "759/759 [==============================] - 3s 4ms/step - loss: 0.1255 - accuracy: 0.9583\n",
      "Epoch 36/50\n",
      "759/759 [==============================] - 3s 4ms/step - loss: 0.1254 - accuracy: 0.9580\n",
      "Epoch 37/50\n",
      "759/759 [==============================] - 3s 4ms/step - loss: 0.1248 - accuracy: 0.9572\n",
      "Epoch 38/50\n",
      "759/759 [==============================] - 3s 4ms/step - loss: 0.1250 - accuracy: 0.9587\n",
      "Epoch 39/50\n",
      "759/759 [==============================] - 2s 3ms/step - loss: 0.1208 - accuracy: 0.9582\n",
      "Epoch 40/50\n",
      "759/759 [==============================] - 3s 4ms/step - loss: 0.1242 - accuracy: 0.9577\n",
      "Epoch 41/50\n",
      "759/759 [==============================] - 3s 4ms/step - loss: 0.1226 - accuracy: 0.9574\n",
      "Epoch 42/50\n",
      "759/759 [==============================] - 3s 4ms/step - loss: 0.1200 - accuracy: 0.9598\n",
      "Epoch 43/50\n",
      "759/759 [==============================] - 3s 4ms/step - loss: 0.1172 - accuracy: 0.9606\n",
      "Epoch 44/50\n",
      "759/759 [==============================] - 3s 3ms/step - loss: 0.1196 - accuracy: 0.9599\n",
      "Epoch 45/50\n",
      "759/759 [==============================] - 3s 4ms/step - loss: 0.1140 - accuracy: 0.9610\n",
      "Epoch 46/50\n",
      "759/759 [==============================] - 3s 4ms/step - loss: 0.1190 - accuracy: 0.9607\n",
      "Epoch 47/50\n",
      "759/759 [==============================] - 2s 3ms/step - loss: 0.1169 - accuracy: 0.9594\n",
      "Epoch 48/50\n",
      "759/759 [==============================] - 3s 4ms/step - loss: 0.1135 - accuracy: 0.9623\n",
      "Epoch 49/50\n",
      "759/759 [==============================] - 3s 4ms/step - loss: 0.1158 - accuracy: 0.9608\n",
      "Epoch 50/50\n",
      "759/759 [==============================] - 6s 8ms/step - loss: 0.1151 - accuracy: 0.9609\n",
      "253/253 [==============================] - 1s 2ms/step - loss: 0.1481 - accuracy: 0.9541\n",
      "Epoch 1/50\n",
      "759/759 [==============================] - 4s 4ms/step - loss: 0.7928 - accuracy: 0.7230\n",
      "Epoch 2/50\n",
      "759/759 [==============================] - 3s 4ms/step - loss: 0.4257 - accuracy: 0.8597\n",
      "Epoch 3/50\n",
      "759/759 [==============================] - 3s 4ms/step - loss: 0.3462 - accuracy: 0.8848\n",
      "Epoch 4/50\n",
      "759/759 [==============================] - 4s 5ms/step - loss: 0.3014 - accuracy: 0.8991\n",
      "Epoch 5/50\n",
      "759/759 [==============================] - 3s 4ms/step - loss: 0.2709 - accuracy: 0.9118\n",
      "Epoch 6/50\n",
      "759/759 [==============================] - 3s 4ms/step - loss: 0.2442 - accuracy: 0.9172\n",
      "Epoch 7/50\n",
      "759/759 [==============================] - 3s 4ms/step - loss: 0.2291 - accuracy: 0.9229\n",
      "Epoch 8/50\n",
      "759/759 [==============================] - 3s 4ms/step - loss: 0.2144 - accuracy: 0.9268\n",
      "Epoch 9/50\n",
      "759/759 [==============================] - 4s 5ms/step - loss: 0.2030 - accuracy: 0.9311\n",
      "Epoch 10/50\n",
      "759/759 [==============================] - 3s 4ms/step - loss: 0.1903 - accuracy: 0.9341\n",
      "Epoch 11/50\n",
      "759/759 [==============================] - 3s 4ms/step - loss: 0.1831 - accuracy: 0.9382\n",
      "Epoch 12/50\n",
      "759/759 [==============================] - 3s 4ms/step - loss: 0.1775 - accuracy: 0.9407\n",
      "Epoch 13/50\n",
      "759/759 [==============================] - 3s 4ms/step - loss: 0.1727 - accuracy: 0.9414\n",
      "Epoch 14/50\n",
      "759/759 [==============================] - 3s 4ms/step - loss: 0.1648 - accuracy: 0.9429\n",
      "Epoch 15/50\n",
      "759/759 [==============================] - 3s 4ms/step - loss: 0.1594 - accuracy: 0.9464\n",
      "Epoch 16/50\n",
      "759/759 [==============================] - 3s 4ms/step - loss: 0.1559 - accuracy: 0.9464\n",
      "Epoch 17/50\n",
      "759/759 [==============================] - 4s 5ms/step - loss: 0.1494 - accuracy: 0.9492\n",
      "Epoch 18/50\n",
      "759/759 [==============================] - 3s 4ms/step - loss: 0.1483 - accuracy: 0.9494\n",
      "Epoch 19/50\n",
      "759/759 [==============================] - 3s 4ms/step - loss: 0.1420 - accuracy: 0.9494\n",
      "Epoch 20/50\n",
      "759/759 [==============================] - 3s 4ms/step - loss: 0.1417 - accuracy: 0.9521\n",
      "Epoch 21/50\n",
      "759/759 [==============================] - 3s 4ms/step - loss: 0.1394 - accuracy: 0.9526\n",
      "Epoch 22/50\n",
      "759/759 [==============================] - 3s 4ms/step - loss: 0.1373 - accuracy: 0.9530\n",
      "Epoch 23/50\n",
      "759/759 [==============================] - 3s 4ms/step - loss: 0.1302 - accuracy: 0.9545\n",
      "Epoch 24/50\n",
      "759/759 [==============================] - 3s 4ms/step - loss: 0.1315 - accuracy: 0.9539\n",
      "Epoch 25/50\n",
      "759/759 [==============================] - 3s 4ms/step - loss: 0.1253 - accuracy: 0.9556\n",
      "Epoch 26/50\n",
      "759/759 [==============================] - 3s 4ms/step - loss: 0.1281 - accuracy: 0.9558\n",
      "Epoch 27/50\n",
      "759/759 [==============================] - 3s 4ms/step - loss: 0.1239 - accuracy: 0.9575\n",
      "Epoch 28/50\n",
      "759/759 [==============================] - 3s 4ms/step - loss: 0.1224 - accuracy: 0.9584\n",
      "Epoch 29/50\n",
      "759/759 [==============================] - 3s 4ms/step - loss: 0.1187 - accuracy: 0.9586\n",
      "Epoch 30/50\n",
      "759/759 [==============================] - 3s 4ms/step - loss: 0.1176 - accuracy: 0.9589\n",
      "Epoch 31/50\n",
      "759/759 [==============================] - 3s 4ms/step - loss: 0.1168 - accuracy: 0.9596\n",
      "Epoch 32/50\n",
      "759/759 [==============================] - 3s 4ms/step - loss: 0.1168 - accuracy: 0.9602\n",
      "Epoch 33/50\n",
      "759/759 [==============================] - 3s 4ms/step - loss: 0.1151 - accuracy: 0.9590\n",
      "Epoch 34/50\n",
      "759/759 [==============================] - 3s 4ms/step - loss: 0.1135 - accuracy: 0.9597\n",
      "Epoch 35/50\n",
      "759/759 [==============================] - 3s 4ms/step - loss: 0.1125 - accuracy: 0.9606\n",
      "Epoch 36/50\n",
      "759/759 [==============================] - 3s 4ms/step - loss: 0.1095 - accuracy: 0.9621\n",
      "Epoch 37/50\n",
      "759/759 [==============================] - 3s 4ms/step - loss: 0.1118 - accuracy: 0.9610\n",
      "Epoch 38/50\n",
      "759/759 [==============================] - 3s 4ms/step - loss: 0.1115 - accuracy: 0.9627\n",
      "Epoch 39/50\n",
      "759/759 [==============================] - 3s 4ms/step - loss: 0.1097 - accuracy: 0.9626\n",
      "Epoch 40/50\n",
      "759/759 [==============================] - 3s 4ms/step - loss: 0.1087 - accuracy: 0.9631\n",
      "Epoch 41/50\n",
      "759/759 [==============================] - 3s 4ms/step - loss: 0.1074 - accuracy: 0.9627\n",
      "Epoch 42/50\n",
      "759/759 [==============================] - 3s 4ms/step - loss: 0.1032 - accuracy: 0.9635\n",
      "Epoch 43/50\n",
      "759/759 [==============================] - 3s 4ms/step - loss: 0.1057 - accuracy: 0.9631\n",
      "Epoch 44/50\n",
      "759/759 [==============================] - 3s 4ms/step - loss: 0.1042 - accuracy: 0.9643\n",
      "Epoch 45/50\n",
      "759/759 [==============================] - 3s 4ms/step - loss: 0.1031 - accuracy: 0.9634\n",
      "Epoch 46/50\n",
      "759/759 [==============================] - 3s 4ms/step - loss: 0.1029 - accuracy: 0.9643\n",
      "Epoch 47/50\n",
      "759/759 [==============================] - 4s 5ms/step - loss: 0.0990 - accuracy: 0.9637\n",
      "Epoch 48/50\n",
      "759/759 [==============================] - 3s 4ms/step - loss: 0.0990 - accuracy: 0.9657\n",
      "Epoch 49/50\n",
      "759/759 [==============================] - 4s 5ms/step - loss: 0.1001 - accuracy: 0.9652\n",
      "Epoch 50/50\n",
      "759/759 [==============================] - 4s 6ms/step - loss: 0.0993 - accuracy: 0.9651\n",
      "253/253 [==============================] - 1s 3ms/step - loss: 0.1600 - accuracy: 0.9539\n"
     ]
    }
   ],
   "source": [
    "k = 4\n",
    "num_val_samples = len(features)//k\n",
    "validation_scores = []\n",
    "model = None\n",
    "for fold in range(k):\n",
    "    val_data = features[num_val_samples*fold:num_val_samples*(fold+1)]\n",
    "    val_label = labels[num_val_samples*fold:num_val_samples*(fold+1)]\n",
    "    train_data = np.concatenate((features[:num_val_samples*fold],features[num_val_samples*(fold+1):]))\n",
    "    train_label = np.concatenate((labels[:num_val_samples*fold],labels[num_val_samples*(fold+1):]))\n",
    "    model = get_model()\n",
    "    model.fit(train_data,train_label,epochs=50)\n",
    "    val_score = model.evaluate(val_data,val_label)\n",
    "    validation_scores.append(val_score)"
   ]
  },
  {
   "cell_type": "code",
   "execution_count": 35,
   "id": "b7ff0078",
   "metadata": {},
   "outputs": [
    {
     "data": {
      "text/plain": [
       "[[0.15549850463867188, 0.9544836282730103],\n",
       " [0.15262970328330994, 0.9551020264625549],\n",
       " [0.1480955332517624, 0.9541125297546387],\n",
       " [0.1599549800157547, 0.9538651704788208]]"
      ]
     },
     "execution_count": 35,
     "metadata": {},
     "output_type": "execute_result"
    }
   ],
   "source": [
    "validation_scores"
   ]
  },
  {
   "cell_type": "code",
   "execution_count": 36,
   "id": "20c38e9c",
   "metadata": {},
   "outputs": [
    {
     "data": {
      "text/plain": [
       "array([0.15404468, 0.95439084])"
      ]
     },
     "execution_count": 36,
     "metadata": {},
     "output_type": "execute_result"
    }
   ],
   "source": [
    "validation_scores = np.array(validation_scores)\n",
    "sum(validation_scores)/len(validation_scores)"
   ]
  },
  {
   "cell_type": "code",
   "execution_count": 26,
   "id": "fd262894",
   "metadata": {},
   "outputs": [
    {
     "data": {
      "text/plain": [
       "(21892, 187)"
      ]
     },
     "execution_count": 26,
     "metadata": {},
     "output_type": "execute_result"
    }
   ],
   "source": [
    "test_data = pd.read_csv('mitbih_test.csv',header = None)\n",
    "test_data = np.array(test_data)\n",
    "test_labels = test_data[:,-1]\n",
    "test_data = test_data[:,:-1]\n",
    "test_data.shape"
   ]
  },
  {
   "cell_type": "code",
   "execution_count": 27,
   "id": "bb1676f0",
   "metadata": {},
   "outputs": [
    {
     "name": "stderr",
     "output_type": "stream",
     "text": [
      "C:\\Users\\Prafful\\AppData\\Local\\Temp\\ipykernel_16024\\1299854655.py:10: VisibleDeprecationWarning: Creating an ndarray from ragged nested sequences (which is a list-or-tuple of lists-or-tuples-or ndarrays with different lengths or shapes) is deprecated. If you meant to do this, you must specify 'dtype=object' when creating the ndarray.\n",
      "  samples = np.array([np.array(xi) for xi in samples])\n",
      "C:\\Users\\Prafful\\AppData\\Local\\Temp\\ipykernel_16024\\2876654152.py:8: VisibleDeprecationWarning: Creating an ndarray from ragged nested sequences (which is a list-or-tuple of lists-or-tuples-or ndarrays with different lengths or shapes) is deprecated. If you meant to do this, you must specify 'dtype=object' when creating the ndarray.\n",
      "  return np.array(fibfs)\n"
     ]
    }
   ],
   "source": [
    "temp0 = get_samples(test_data)\n",
    "test_imfs = create_fibfs(temp0)"
   ]
  },
  {
   "cell_type": "code",
   "execution_count": 28,
   "id": "2d0f37a1",
   "metadata": {},
   "outputs": [
    {
     "data": {
      "text/plain": [
       "(21892,)"
      ]
     },
     "execution_count": 28,
     "metadata": {},
     "output_type": "execute_result"
    }
   ],
   "source": [
    "test_imfs.shape"
   ]
  },
  {
   "cell_type": "code",
   "execution_count": 29,
   "id": "b5d525e9",
   "metadata": {},
   "outputs": [],
   "source": [
    "final_features = pad_imfs(test_imfs)\n",
    "final_target = to_categorical(test_labels)"
   ]
  },
  {
   "cell_type": "code",
   "execution_count": 30,
   "id": "6b5f246f",
   "metadata": {},
   "outputs": [
    {
     "data": {
      "text/plain": [
       "((21892, 186, 6), (21892, 5))"
      ]
     },
     "execution_count": 30,
     "metadata": {},
     "output_type": "execute_result"
    }
   ],
   "source": [
    "(final_features.shape,final_target.shape)"
   ]
  },
  {
   "cell_type": "code",
   "execution_count": 37,
   "id": "47ccafbb",
   "metadata": {},
   "outputs": [
    {
     "name": "stdout",
     "output_type": "stream",
     "text": [
      "685/685 [==============================] - 1s 2ms/step - loss: 0.1629 - accuracy: 0.9564\n"
     ]
    },
    {
     "data": {
      "text/plain": [
       "[0.1629004180431366, 0.9564224481582642]"
      ]
     },
     "execution_count": 37,
     "metadata": {},
     "output_type": "execute_result"
    }
   ],
   "source": [
    "model.evaluate(final_features,final_target)"
   ]
  },
  {
   "cell_type": "code",
   "execution_count": null,
   "id": "8145736e",
   "metadata": {},
   "outputs": [],
   "source": []
  }
 ],
 "metadata": {
  "kernelspec": {
   "display_name": "Python 3 (ipykernel)",
   "language": "python",
   "name": "python3"
  },
  "language_info": {
   "codemirror_mode": {
    "name": "ipython",
    "version": 3
   },
   "file_extension": ".py",
   "mimetype": "text/x-python",
   "name": "python",
   "nbconvert_exporter": "python",
   "pygments_lexer": "ipython3",
   "version": "3.9.12"
  }
 },
 "nbformat": 4,
 "nbformat_minor": 5
}
