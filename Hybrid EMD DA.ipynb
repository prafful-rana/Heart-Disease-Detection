{
 "cells": [
  {
   "cell_type": "code",
   "execution_count": 1,
   "id": "77ae267c",
   "metadata": {},
   "outputs": [],
   "source": [
    "from scipy.signal import hilbert\n",
    "import math\n",
    "from scipy.fft import fft\n",
    "from scipy.signal import unit_impulse as imp\n",
    "import numpy as np\n",
    "import pandas as pd\n",
    "import matplotlib.pyplot as plt\n",
    "import emd\n",
    "from fdm import fdm"
   ]
  },
  {
   "cell_type": "code",
   "execution_count": 2,
   "id": "e7b8a028",
   "metadata": {},
   "outputs": [],
   "source": [
    "data = pd.read_csv('mitbih_train.csv',header = None)\n",
    "data = np.array(data)\n",
    "labels = data[:,-1]\n",
    "data = data[:,0:-1]"
   ]
  },
  {
   "cell_type": "code",
   "execution_count": 3,
   "id": "d84749e7",
   "metadata": {},
   "outputs": [
    {
     "name": "stderr",
     "output_type": "stream",
     "text": [
      "C:\\Users\\Prafful\\AppData\\Local\\Temp\\ipykernel_10696\\1299854655.py:10: VisibleDeprecationWarning: Creating an ndarray from ragged nested sequences (which is a list-or-tuple of lists-or-tuples-or ndarrays with different lengths or shapes) is deprecated. If you meant to do this, you must specify 'dtype=object' when creating the ndarray.\n",
      "  samples = np.array([np.array(xi) for xi in samples])\n"
     ]
    }
   ],
   "source": [
    "def get_samples(data):\n",
    "    def remove_padding(data):\n",
    "        end = len(data)-1\n",
    "        while data[end]==0:\n",
    "            end=end-1\n",
    "        return data[:end]\n",
    "    samples = []\n",
    "    for i in range(len(data)):\n",
    "        samples.append(remove_padding(data[i]))\n",
    "    samples = np.array([np.array(xi) for xi in samples])\n",
    "    return samples\n",
    "sample = get_samples(data)"
   ]
  },
  {
   "cell_type": "code",
   "execution_count": 4,
   "id": "74a38656",
   "metadata": {},
   "outputs": [
    {
     "data": {
      "text/plain": [
       "87554"
      ]
     },
     "execution_count": 4,
     "metadata": {},
     "output_type": "execute_result"
    }
   ],
   "source": [
    "len(sample)"
   ]
  },
  {
   "cell_type": "code",
   "execution_count": 5,
   "id": "ac19e9ee",
   "metadata": {},
   "outputs": [
    {
     "data": {
      "text/plain": [
       "641"
      ]
     },
     "execution_count": 5,
     "metadata": {},
     "output_type": "execute_result"
    }
   ],
   "source": [
    "labelwise_data = [[],[],[],[],[]]\n",
    "for i in range(0,len(sample)):\n",
    "    val = labels[i]\n",
    "    val = int(val)\n",
    "    labelwise_data[val].append(sample[i])\n",
    "len(labelwise_data[3])"
   ]
  },
  {
   "cell_type": "code",
   "execution_count": 6,
   "id": "07f063ab",
   "metadata": {},
   "outputs": [
    {
     "data": {
      "text/plain": [
       "641"
      ]
     },
     "execution_count": 6,
     "metadata": {},
     "output_type": "execute_result"
    }
   ],
   "source": [
    "curr = 3\n",
    "label_data = labelwise_data[curr]\n",
    "len(label_data)"
   ]
  },
  {
   "cell_type": "code",
   "execution_count": 7,
   "id": "42503658",
   "metadata": {},
   "outputs": [
    {
     "data": {
      "text/plain": [
       "79"
      ]
     },
     "execution_count": 7,
     "metadata": {},
     "output_type": "execute_result"
    }
   ],
   "source": [
    "len(label_data[0])"
   ]
  },
  {
   "cell_type": "code",
   "execution_count": 8,
   "id": "16df6c4d",
   "metadata": {},
   "outputs": [],
   "source": [
    "def phase_shift(samples,alpha):\n",
    "    shifted = []\n",
    "    samples = np.array(samples)\n",
    "    for data in samples:\n",
    "        transformed = hilbert(data)\n",
    "        for val in alpha:\n",
    "            temp = data*math.cos(val) + transformed*math.sin(val)\n",
    "            shifted.append(np.array(temp.real))\n",
    "    return np.array(shifted)"
   ]
  },
  {
   "cell_type": "code",
   "execution_count": 9,
   "id": "a5d3aacf",
   "metadata": {},
   "outputs": [
    {
     "data": {
      "text/plain": [
       "[72471, 2223, 5788, 641, 6431]"
      ]
     },
     "execution_count": 9,
     "metadata": {},
     "output_type": "execute_result"
    }
   ],
   "source": [
    "label_length = [len(labelwise_data[0]),len(labelwise_data[1]),len(labelwise_data[2]),len(labelwise_data[3]),len(labelwise_data[4])]\n",
    "label_length"
   ]
  },
  {
   "cell_type": "code",
   "execution_count": 10,
   "id": "07100e94",
   "metadata": {},
   "outputs": [],
   "source": [
    "fs = 125\n",
    "def get_imfs(samples):\n",
    "    length = len(samples)\n",
    "    imfs = []\n",
    "    for i in range(length):\n",
    "        imfs.append(emd.sift.sift(samples[i]))\n",
    "    imfs = np.array(imfs)\n",
    "    return imfs\n",
    "\n",
    "maximum=186\n",
    "        \n",
    "def create_spectrum(fibfs):\n",
    "    sample_rate = 125\n",
    "    f=0\n",
    "    hht=0\n",
    "    f_arr = []\n",
    "    hht_arr = []\n",
    "    for i in range(0,len(fibfs),1):\n",
    "        IP, IF, IA = emd.spectra.frequency_transform(fibfs[i],sample_rate,'hilbert')\n",
    "        freq_range = (0.1,10,80,'log')\n",
    "        f, hht = emd.spectra.hilberthuang(IF,IA,freq_range,sum_time=False)\n",
    "        \n",
    "        f_arr.append(np.asarray(f))\n",
    "        \n",
    "        \n",
    "        if len(hht[0])<maximum :\n",
    "            final_hht = []\n",
    "            for a in range(0,len(hht),1):\n",
    "                length = len(hht[0])\n",
    "                temp = list(hht[a])\n",
    "                for b in range(0,186-length,1):\n",
    "                    temp.append(0)\n",
    "                final_hht.append(temp)\n",
    "            hht_arr.append(np.asarray(final_hht))\n",
    "        \n",
    "        else:\n",
    "            hht_arr.append(hht)\n",
    "            \n",
    "            \n",
    "    return np.asarray(f_arr),np.asarray(hht_arr)"
   ]
  },
  {
   "cell_type": "code",
   "execution_count": 11,
   "id": "adde2a96",
   "metadata": {},
   "outputs": [
    {
     "name": "stderr",
     "output_type": "stream",
     "text": [
      "C:\\Users\\Prafful\\AppData\\Local\\Temp\\ipykernel_10696\\3316496239.py:1: VisibleDeprecationWarning: Creating an ndarray from ragged nested sequences (which is a list-or-tuple of lists-or-tuples-or ndarrays with different lengths or shapes) is deprecated. If you meant to do this, you must specify 'dtype=object' when creating the ndarray.\n",
      "  new_sample_0 = np.array(labelwise_data[0][0:6500])\n",
      "C:\\Users\\Prafful\\AppData\\Local\\Temp\\ipykernel_10696\\3316496239.py:4: VisibleDeprecationWarning: Creating an ndarray from ragged nested sequences (which is a list-or-tuple of lists-or-tuples-or ndarrays with different lengths or shapes) is deprecated. If you meant to do this, you must specify 'dtype=object' when creating the ndarray.\n",
      "  temp1 = np.array(labelwise_data[1][0:2223])\n",
      "C:\\Users\\Prafful\\AppData\\Local\\Temp\\ipykernel_10696\\4105871267.py:3: VisibleDeprecationWarning: Creating an ndarray from ragged nested sequences (which is a list-or-tuple of lists-or-tuples-or ndarrays with different lengths or shapes) is deprecated. If you meant to do this, you must specify 'dtype=object' when creating the ndarray.\n",
      "  samples = np.array(samples)\n",
      "C:\\Users\\Prafful\\AppData\\Local\\Temp\\ipykernel_10696\\4105871267.py:9: VisibleDeprecationWarning: Creating an ndarray from ragged nested sequences (which is a list-or-tuple of lists-or-tuples-or ndarrays with different lengths or shapes) is deprecated. If you meant to do this, you must specify 'dtype=object' when creating the ndarray.\n",
      "  return np.array(shifted)\n",
      "C:\\Users\\Prafful\\AppData\\Local\\Temp\\ipykernel_10696\\3316496239.py:14: VisibleDeprecationWarning: Creating an ndarray from ragged nested sequences (which is a list-or-tuple of lists-or-tuples-or ndarrays with different lengths or shapes) is deprecated. If you meant to do this, you must specify 'dtype=object' when creating the ndarray.\n",
      "  temp1 = np.array(labelwise_data[3][:])\n",
      "C:\\Users\\Prafful\\AppData\\Local\\Temp\\ipykernel_10696\\3316496239.py:19: VisibleDeprecationWarning: Creating an ndarray from ragged nested sequences (which is a list-or-tuple of lists-or-tuples-or ndarrays with different lengths or shapes) is deprecated. If you meant to do this, you must specify 'dtype=object' when creating the ndarray.\n",
      "  new_sample_4 = np.array(labelwise_data[4][:])\n"
     ]
    }
   ],
   "source": [
    "new_sample_0 = np.array(labelwise_data[0][0:6500])\n",
    "temp_label_0 = np.full(new_sample_0.shape[0],0)\n",
    "## for label 1:\n",
    "temp1 = np.array(labelwise_data[1][0:2223])\n",
    "temp2 = phase_shift(labelwise_data[1][0:2139],alpha = [math.pi/3,math.pi/6])\n",
    "new_sample_1 = np.concatenate((temp1,temp2))\n",
    "temp_label_1 = np.full(new_sample_1.shape[0],1)\n",
    "## for label 2:\n",
    "temp1 = np.array(labelwise_data[2][0:5788])\n",
    "temp2 = phase_shift(labelwise_data[2][0:356],alpha = [math.pi/3,math.pi/6])\n",
    "new_sample_2 = np.concatenate((temp1,temp2))\n",
    "temp_label_2 = np.full(new_sample_2.shape[0],2)\n",
    "## for label 3:\n",
    "temp1 = np.array(labelwise_data[3][:])\n",
    "temp2 = phase_shift(labelwise_data[3][:],alpha = [math.pi/3,math.pi/6,math.pi/8,math.pi/10,math.pi/12,math.pi/14,math.pi/16,math.pi/19,math.pi/20])\n",
    "new_sample_3 = np.concatenate((temp1,temp2))\n",
    "temp_label_3 = np.full(new_sample_3.shape[0],3)\n",
    "## for label 4:\n",
    "new_sample_4 = np.array(labelwise_data[4][:])\n",
    "temp_label_4 = np.full(new_sample_4.shape[0],4)\n",
    "\n",
    "temp_samples = np.concatenate((new_sample_0,new_sample_1,new_sample_2,new_sample_3,new_sample_4))\n",
    "temp_labels = np.concatenate((temp_label_0,temp_label_1,temp_label_2,temp_label_3,temp_label_4))"
   ]
  },
  {
   "cell_type": "code",
   "execution_count": 12,
   "id": "493622ae",
   "metadata": {},
   "outputs": [
    {
     "data": {
      "text/plain": [
       "(32342,)"
      ]
     },
     "execution_count": 12,
     "metadata": {},
     "output_type": "execute_result"
    }
   ],
   "source": [
    "temp_labels.shape"
   ]
  },
  {
   "cell_type": "code",
   "execution_count": 13,
   "id": "ebc91293",
   "metadata": {},
   "outputs": [
    {
     "data": {
      "text/plain": [
       "(32342,)"
      ]
     },
     "execution_count": 13,
     "metadata": {},
     "output_type": "execute_result"
    }
   ],
   "source": [
    "temp_samples.shape"
   ]
  },
  {
   "cell_type": "code",
   "execution_count": 14,
   "id": "6d653cd7",
   "metadata": {},
   "outputs": [],
   "source": [
    "idx = np.random.permutation(len(temp_samples))\n",
    "shuffled_samples , training_labels = temp_samples[idx], temp_labels[idx]"
   ]
  },
  {
   "cell_type": "code",
   "execution_count": 15,
   "id": "1aa5f9a5",
   "metadata": {},
   "outputs": [
    {
     "name": "stderr",
     "output_type": "stream",
     "text": [
      "C:\\Users\\Prafful\\AppData\\Local\\Temp\\ipykernel_10696\\1046651556.py:7: VisibleDeprecationWarning: Creating an ndarray from ragged nested sequences (which is a list-or-tuple of lists-or-tuples-or ndarrays with different lengths or shapes) is deprecated. If you meant to do this, you must specify 'dtype=object' when creating the ndarray.\n",
      "  imfs = np.array(imfs)\n"
     ]
    }
   ],
   "source": [
    "temp_features = get_imfs(shuffled_samples)"
   ]
  },
  {
   "cell_type": "code",
   "execution_count": 16,
   "id": "a9bed993",
   "metadata": {},
   "outputs": [],
   "source": [
    "max_imfs = 0\n",
    "for imf in temp_features:\n",
    "    (x,y) = imf.shape\n",
    "    max_imfs = max(y,max_imfs)\n",
    "def pad_imfs(imfs):\n",
    "    final = []\n",
    "    for imf in imfs:\n",
    "        (x,y) = imf.shape\n",
    "        if y<6:\n",
    "            temp_imf = []\n",
    "            for each_period in imf:\n",
    "                temp_imf.append(np.pad(each_period,(0,6-y),'constant',constant_values=(0,0)))\n",
    "            imf = np.array(temp_imf)\n",
    "        \n",
    "        if x<maximum :\n",
    "            pading_log = np.zeros((maximum-x,6))\n",
    "            final.append(np.concatenate((imf,pading_log)))\n",
    "        else:\n",
    "            final.append(imf)\n",
    "    return np.array(final)\n",
    "features = pad_imfs(temp_features)"
   ]
  },
  {
   "cell_type": "code",
   "execution_count": 17,
   "id": "1f2470a3",
   "metadata": {
    "scrolled": true
   },
   "outputs": [
    {
     "data": {
      "text/plain": [
       "<AxesSubplot:xlabel='Time (samples)'>"
      ]
     },
     "execution_count": 17,
     "metadata": {},
     "output_type": "execute_result"
    },
    {
     "data": {
      "image/png": "[encoded data removed]",
      "text/plain": [
       "<Figure size 1152x720 with 1 Axes>"
      ]
     },
     "metadata": {
      "needs_background": "light"
     },
     "output_type": "display_data"
    }
   ],
   "source": [
    "emd.plotting.plot_imfs(features[0])"
   ]
  },
  {
   "cell_type": "code",
   "execution_count": 18,
   "id": "bb2c977c",
   "metadata": {},
   "outputs": [],
   "source": [
    "def create_spectrum(imfs):\n",
    "    sample_rate = 125\n",
    "    f=0\n",
    "    hht=0\n",
    "    f_arr = []\n",
    "    hht_arr = []\n",
    "    for i in range(0,len(imfs),1):\n",
    "        IP, IF, IA = emd.spectra.frequency_transform(imfs[i],sample_rate,'hilbert')\n",
    "        freq_range = (0.1,10,80,'log')\n",
    "        f, hht = emd.spectra.hilberthuang(IF,IA,freq_range,sum_time=False)\n",
    "        \n",
    "        \n",
    "        f_arr.append(np.asarray(f))\n",
    "        \n",
    "        \n",
    "        if len(hht[0])<maximum :\n",
    "            final_hht = []\n",
    "            for a in range(0,len(hht),1):\n",
    "                length = len(hht[0])\n",
    "                temp = list(hht[a])\n",
    "                for b in range(0,186-length,1):\n",
    "                    temp.append(0)\n",
    "                final_hht.append(temp)\n",
    "            hht_arr.append(np.asarray(final_hht))\n",
    "        else:\n",
    "            hht_arr.append(hht)\n",
    "            \n",
    "            \n",
    "    return np.asarray(f_arr),np.asarray(hht_arr)\n",
    "image_f,image_hht = create_spectrum(temp_features)"
   ]
  },
  {
   "cell_type": "markdown",
   "id": "ea9a3657",
   "metadata": {},
   "source": [
    "# Learning Arena"
   ]
  },
  {
   "cell_type": "code",
   "execution_count": 19,
   "id": "7176dd42",
   "metadata": {},
   "outputs": [],
   "source": [
    "def get_curves(history):\n",
    "    acc = history.history['accuracy']\n",
    "    val_acc = history.history['val_accuracy']\n",
    "    loss = history.history['loss']\n",
    "    val_loss = history.history['val_loss']\n",
    "    \n",
    "    epochs = range(1,len(acc)+1)\n",
    "    \n",
    "    plt.plot(epochs,acc,'bo',label = 'Training acc')\n",
    "    plt.plot(epochs,val_acc,'b',label = 'Validation acc')\n",
    "    plt.title('Training and validation Accuracy')\n",
    "    plt.legend()\n",
    "    plt.figure()\n",
    "    \n",
    "    plt.plot(epochs,loss,'bo',label='Training Loss')\n",
    "    plt.plot(epochs,val_loss,'b',label='Validation Loss')\n",
    "    plt.title('Training and Validation Loss')\n",
    "    plt.legend()\n",
    "    plt.figure()"
   ]
  },
  {
   "cell_type": "code",
   "execution_count": 20,
   "id": "42feccba",
   "metadata": {},
   "outputs": [],
   "source": [
    "from keras.utils import to_categorical\n",
    "labels = to_categorical(training_labels)"
   ]
  },
  {
   "cell_type": "code",
   "execution_count": 21,
   "id": "56569b1b",
   "metadata": {},
   "outputs": [],
   "source": [
    "from keras import layers,models\n",
    "\n",
    "def get_1dconv():\n",
    "    input_seq = layers.Input(shape = (186,6))\n",
    "    conv1 = layers.Conv1D(24,7,padding=\"same\", activation=\"relu\")(input_seq)\n",
    "    pool1 = layers.MaxPooling1D(5)(conv1)\n",
    "    conv2 = layers.Conv1D(24,7,padding=\"same\", activation=\"relu\")(pool1)\n",
    "    processed = layers.GlobalMaxPooling1D()(conv2)\n",
    "    compressed = layers.Dense(50, activation=\"relu\")(processed)\n",
    "    compressed = layers.Dropout(0.3)(compressed)\n",
    "    model = models.Model(inputs=input_seq,outputs=compressed)\n",
    "    return model\n",
    "\n",
    "def get_2dconv():\n",
    "    model = models.Sequential()\n",
    "    model.add(layers.Conv2D(32,(3,3),activation = 'relu', input_shape=(80,186,1)))\n",
    "    model.add(layers.MaxPooling2D((2,2)))\n",
    "    model.add(layers.Conv2D(64,(3,3),activation='relu'))\n",
    "    model.add(layers.MaxPooling2D((2,2)))\n",
    "    model.add(layers.Dropout(0.5))\n",
    "    model.add(layers.Flatten())\n",
    "    model.add(layers.Dense(64,activation='relu'))\n",
    "    model.add(layers.Dropout(0.5))\n",
    "    return model\n",
    "\n",
    "def get_model():\n",
    "    conv1D = get_1dconv()\n",
    "    conv2D = get_2dconv()\n",
    "    t_series_input = layers.Input(shape=(186,6))\n",
    "    image_input = layers.Input(shape=(80,186,1))\n",
    "\n",
    "    inp1 = conv1D(t_series_input)\n",
    "    inp2 = conv2D(image_input)\n",
    "\n",
    "    merged = layers.Concatenate()([inp1,inp2])\n",
    "\n",
    "    out = layers.Dense(5, activation='softmax')(merged)\n",
    "\n",
    "    model = models.Model(inputs=[t_series_input,image_input], outputs=out)\n",
    "    model.compile(optimizer = 'RMSprop',loss='categorical_crossentropy',metrics=['accuracy'])\n",
    "    return model\n",
    "##model_history = model.fit(features,labels,epochs=75,validation_split=0.2)"
   ]
  },
  {
   "cell_type": "code",
   "execution_count": 22,
   "id": "cddc2a7c",
   "metadata": {},
   "outputs": [
    {
     "name": "stdout",
     "output_type": "stream",
     "text": [
      "Epoch 1/50\n",
      "809/809 [==============================] - 194s 239ms/step - loss: 0.7100 - accuracy: 0.7489 - val_loss: 0.5103 - val_accuracy: 0.8232\n",
      "Epoch 2/50\n",
      "809/809 [==============================] - 193s 238ms/step - loss: 0.4460 - accuracy: 0.8445 - val_loss: 0.3914 - val_accuracy: 0.8658\n",
      "Epoch 3/50\n",
      "809/809 [==============================] - 193s 239ms/step - loss: 0.3525 - accuracy: 0.8793 - val_loss: 0.3220 - val_accuracy: 0.8890\n",
      "Epoch 4/50\n",
      "809/809 [==============================] - 195s 242ms/step - loss: 0.3061 - accuracy: 0.8955 - val_loss: 0.2957 - val_accuracy: 0.8953\n",
      "Epoch 5/50\n",
      "809/809 [==============================] - 194s 240ms/step - loss: 0.2796 - accuracy: 0.9050 - val_loss: 0.3283 - val_accuracy: 0.8960\n",
      "Epoch 6/50\n",
      "809/809 [==============================] - 191s 235ms/step - loss: 0.2577 - accuracy: 0.9103 - val_loss: 0.2709 - val_accuracy: 0.9071\n",
      "Epoch 7/50\n",
      "809/809 [==============================] - 191s 236ms/step - loss: 0.2421 - accuracy: 0.9171 - val_loss: 0.2530 - val_accuracy: 0.9113\n",
      "Epoch 8/50\n",
      "809/809 [==============================] - 192s 237ms/step - loss: 0.2344 - accuracy: 0.9211 - val_loss: 0.2304 - val_accuracy: 0.9226\n",
      "Epoch 9/50\n",
      "809/809 [==============================] - 193s 238ms/step - loss: 0.2205 - accuracy: 0.9257 - val_loss: 0.2898 - val_accuracy: 0.9086\n",
      "Epoch 10/50\n",
      "809/809 [==============================] - 193s 239ms/step - loss: 0.2149 - accuracy: 0.9267 - val_loss: 0.2566 - val_accuracy: 0.9151\n",
      "Epoch 11/50\n",
      "809/809 [==============================] - 194s 240ms/step - loss: 0.2081 - accuracy: 0.9286 - val_loss: 0.2433 - val_accuracy: 0.9170\n",
      "Epoch 12/50\n",
      "809/809 [==============================] - 194s 240ms/step - loss: 0.2003 - accuracy: 0.9334 - val_loss: 0.2062 - val_accuracy: 0.9284\n",
      "Epoch 13/50\n",
      "809/809 [==============================] - 193s 239ms/step - loss: 0.1963 - accuracy: 0.9353 - val_loss: 0.2119 - val_accuracy: 0.9278\n",
      "Epoch 14/50\n",
      "809/809 [==============================] - 193s 238ms/step - loss: 0.1896 - accuracy: 0.9353 - val_loss: 0.1945 - val_accuracy: 0.9338\n",
      "Epoch 15/50\n",
      "809/809 [==============================] - 192s 238ms/step - loss: 0.1850 - accuracy: 0.9380 - val_loss: 0.2090 - val_accuracy: 0.9292\n",
      "Epoch 16/50\n",
      "809/809 [==============================] - 191s 236ms/step - loss: 0.1855 - accuracy: 0.9375 - val_loss: 0.2195 - val_accuracy: 0.9284\n",
      "Epoch 17/50\n",
      "809/809 [==============================] - 190s 235ms/step - loss: 0.1746 - accuracy: 0.9410 - val_loss: 0.2217 - val_accuracy: 0.9294\n",
      "Epoch 18/50\n",
      "809/809 [==============================] - 190s 235ms/step - loss: 0.1768 - accuracy: 0.9427 - val_loss: 0.5236 - val_accuracy: 0.8793\n",
      "Epoch 19/50\n",
      "809/809 [==============================] - 190s 235ms/step - loss: 0.1738 - accuracy: 0.9423 - val_loss: 0.2173 - val_accuracy: 0.9290\n",
      "Epoch 20/50\n",
      "809/809 [==============================] - 190s 235ms/step - loss: 0.1727 - accuracy: 0.9429 - val_loss: 0.2485 - val_accuracy: 0.9221\n",
      "Epoch 21/50\n",
      "809/809 [==============================] - 190s 235ms/step - loss: 0.1703 - accuracy: 0.9443 - val_loss: 0.2137 - val_accuracy: 0.9335\n",
      "Epoch 22/50\n",
      "809/809 [==============================] - 191s 236ms/step - loss: 0.1689 - accuracy: 0.9437 - val_loss: 0.1984 - val_accuracy: 0.9341\n",
      "Epoch 23/50\n",
      "809/809 [==============================] - 190s 235ms/step - loss: 0.1669 - accuracy: 0.9456 - val_loss: 0.1904 - val_accuracy: 0.9377\n",
      "Epoch 24/50\n",
      "809/809 [==============================] - 190s 235ms/step - loss: 0.1662 - accuracy: 0.9454 - val_loss: 0.2269 - val_accuracy: 0.9238\n",
      "Epoch 25/50\n",
      "809/809 [==============================] - 190s 235ms/step - loss: 0.1659 - accuracy: 0.9477 - val_loss: 0.2004 - val_accuracy: 0.9363\n",
      "Epoch 26/50\n",
      "809/809 [==============================] - 190s 235ms/step - loss: 0.1609 - accuracy: 0.9470 - val_loss: 0.2316 - val_accuracy: 0.9320\n",
      "Epoch 27/50\n",
      "809/809 [==============================] - 191s 236ms/step - loss: 0.1595 - accuracy: 0.9490 - val_loss: 0.2086 - val_accuracy: 0.9283\n",
      "Epoch 28/50\n",
      "809/809 [==============================] - 190s 235ms/step - loss: 0.1528 - accuracy: 0.9505 - val_loss: 0.1927 - val_accuracy: 0.9422\n",
      "Epoch 29/50\n",
      "809/809 [==============================] - 191s 236ms/step - loss: 0.1529 - accuracy: 0.9496 - val_loss: 0.2042 - val_accuracy: 0.9362\n",
      "Epoch 30/50\n",
      "809/809 [==============================] - 190s 235ms/step - loss: 0.1563 - accuracy: 0.9501 - val_loss: 0.2261 - val_accuracy: 0.9300\n",
      "Epoch 31/50\n",
      "809/809 [==============================] - 191s 236ms/step - loss: 0.1542 - accuracy: 0.9494 - val_loss: 0.2150 - val_accuracy: 0.9323\n",
      "Epoch 32/50\n",
      "809/809 [==============================] - 191s 236ms/step - loss: 0.1522 - accuracy: 0.9513 - val_loss: 0.2065 - val_accuracy: 0.9420\n",
      "Epoch 33/50\n",
      "809/809 [==============================] - 193s 239ms/step - loss: 0.1507 - accuracy: 0.9511 - val_loss: 0.2109 - val_accuracy: 0.9380\n",
      "Epoch 34/50\n",
      "809/809 [==============================] - 194s 240ms/step - loss: 0.1460 - accuracy: 0.9513 - val_loss: 0.2040 - val_accuracy: 0.9394\n",
      "Epoch 35/50\n",
      "809/809 [==============================] - 193s 239ms/step - loss: 0.1512 - accuracy: 0.9512 - val_loss: 0.1997 - val_accuracy: 0.9423\n",
      "Epoch 36/50\n",
      "809/809 [==============================] - 194s 240ms/step - loss: 0.1512 - accuracy: 0.9524 - val_loss: 0.2018 - val_accuracy: 0.9388\n",
      "Epoch 37/50\n",
      "809/809 [==============================] - 194s 239ms/step - loss: 0.1518 - accuracy: 0.9526 - val_loss: 0.3383 - val_accuracy: 0.9103\n",
      "Epoch 38/50\n",
      "809/809 [==============================] - 194s 239ms/step - loss: 0.1539 - accuracy: 0.9505 - val_loss: 0.2206 - val_accuracy: 0.9345\n",
      "Epoch 39/50\n",
      "809/809 [==============================] - 194s 239ms/step - loss: 0.1515 - accuracy: 0.9518 - val_loss: 0.2239 - val_accuracy: 0.9392\n",
      "Epoch 40/50\n",
      "809/809 [==============================] - 194s 239ms/step - loss: 0.1502 - accuracy: 0.9535 - val_loss: 0.2072 - val_accuracy: 0.9392\n",
      "Epoch 41/50\n",
      "809/809 [==============================] - 194s 240ms/step - loss: 0.1534 - accuracy: 0.9547 - val_loss: 0.2155 - val_accuracy: 0.9406\n",
      "Epoch 42/50\n",
      "809/809 [==============================] - 193s 239ms/step - loss: 0.1537 - accuracy: 0.9507 - val_loss: 0.2511 - val_accuracy: 0.9263\n",
      "Epoch 43/50\n",
      "809/809 [==============================] - 193s 239ms/step - loss: 0.1492 - accuracy: 0.9540 - val_loss: 0.1932 - val_accuracy: 0.9464\n",
      "Epoch 44/50\n",
      "809/809 [==============================] - 193s 238ms/step - loss: 0.1503 - accuracy: 0.9534 - val_loss: 0.2065 - val_accuracy: 0.9434\n",
      "Epoch 45/50\n",
      "809/809 [==============================] - 193s 239ms/step - loss: 0.1492 - accuracy: 0.9539 - val_loss: 0.2020 - val_accuracy: 0.9413\n",
      "Epoch 46/50\n",
      "809/809 [==============================] - 193s 239ms/step - loss: 0.1612 - accuracy: 0.9532 - val_loss: 0.2267 - val_accuracy: 0.9456\n",
      "Epoch 47/50\n",
      "809/809 [==============================] - 193s 238ms/step - loss: 0.1465 - accuracy: 0.9547 - val_loss: 0.2205 - val_accuracy: 0.9408\n",
      "Epoch 48/50\n",
      "809/809 [==============================] - 193s 239ms/step - loss: 0.1520 - accuracy: 0.9544 - val_loss: 0.2626 - val_accuracy: 0.9380\n",
      "Epoch 49/50\n",
      "809/809 [==============================] - 193s 239ms/step - loss: 0.1538 - accuracy: 0.9527 - val_loss: 0.2130 - val_accuracy: 0.9454\n",
      "Epoch 50/50\n",
      "809/809 [==============================] - 194s 239ms/step - loss: 0.1492 - accuracy: 0.9532 - val_loss: 0.2998 - val_accuracy: 0.9295\n"
     ]
    },
    {
     "data": {
      "image/png": "[encoded data removed]",
      "text/plain": [
       "<Figure size 432x288 with 1 Axes>"
      ]
     },
     "metadata": {
      "needs_background": "light"
     },
     "output_type": "display_data"
    },
    {
     "data": {
      "image/png": "[encoded data removed]",
      "text/plain": [
       "<Figure size 432x288 with 1 Axes>"
      ]
     },
     "metadata": {
      "needs_background": "light"
     },
     "output_type": "display_data"
    },
    {
     "data": {
      "text/plain": [
       "<Figure size 432x288 with 0 Axes>"
      ]
     },
     "metadata": {},
     "output_type": "display_data"
    }
   ],
   "source": [
    "temp_model = get_model()\n",
    "history = temp_model.fit([features,image_hht],labels,epochs=50,validation_split=0.2)\n",
    "get_curves(history)"
   ]
  },
  {
   "cell_type": "code",
   "execution_count": 23,
   "id": "13d2f15d",
   "metadata": {
    "scrolled": true
   },
   "outputs": [
    {
     "name": "stdout",
     "output_type": "stream",
     "text": [
      "Epoch 1/50\n",
      "759/759 [==============================] - 174s 227ms/step - loss: 0.7316 - accuracy: 0.7396\n",
      "Epoch 2/50\n",
      "759/759 [==============================] - 173s 228ms/step - loss: 0.4693 - accuracy: 0.8325\n",
      "Epoch 3/50\n",
      "759/759 [==============================] - 174s 229ms/step - loss: 0.3791 - accuracy: 0.8699\n",
      "Epoch 4/50\n",
      "759/759 [==============================] - 173s 227ms/step - loss: 0.3320 - accuracy: 0.8866\n",
      "Epoch 5/50\n",
      "759/759 [==============================] - 172s 227ms/step - loss: 0.3033 - accuracy: 0.8951\n",
      "Epoch 6/50\n",
      "759/759 [==============================] - 173s 228ms/step - loss: 0.2817 - accuracy: 0.9042\n",
      "Epoch 7/50\n",
      "759/759 [==============================] - 172s 227ms/step - loss: 0.2649 - accuracy: 0.9079\n",
      "Epoch 8/50\n",
      "759/759 [==============================] - 173s 228ms/step - loss: 0.2493 - accuracy: 0.9128\n",
      "Epoch 9/50\n",
      "759/759 [==============================] - 172s 227ms/step - loss: 0.2344 - accuracy: 0.9200\n",
      "Epoch 10/50\n",
      "759/759 [==============================] - 173s 227ms/step - loss: 0.2270 - accuracy: 0.9212\n",
      "Epoch 11/50\n",
      "759/759 [==============================] - 173s 228ms/step - loss: 0.2252 - accuracy: 0.9242\n",
      "Epoch 12/50\n",
      "759/759 [==============================] - 173s 227ms/step - loss: 0.2137 - accuracy: 0.9266\n",
      "Epoch 13/50\n",
      "759/759 [==============================] - 172s 227ms/step - loss: 0.2082 - accuracy: 0.9298\n",
      "Epoch 14/50\n",
      "759/759 [==============================] - 172s 227ms/step - loss: 0.1961 - accuracy: 0.9313\n",
      "Epoch 15/50\n",
      "759/759 [==============================] - 172s 227ms/step - loss: 0.1943 - accuracy: 0.9347\n",
      "Epoch 16/50\n",
      "759/759 [==============================] - 177s 233ms/step - loss: 0.1848 - accuracy: 0.9373\n",
      "Epoch 17/50\n",
      "759/759 [==============================] - 173s 228ms/step - loss: 0.1854 - accuracy: 0.9387\n",
      "Epoch 18/50\n",
      "759/759 [==============================] - 173s 228ms/step - loss: 0.1805 - accuracy: 0.9385\n",
      "Epoch 19/50\n",
      "759/759 [==============================] - 173s 228ms/step - loss: 0.1813 - accuracy: 0.9390\n",
      "Epoch 20/50\n",
      "759/759 [==============================] - 172s 227ms/step - loss: 0.1779 - accuracy: 0.9399\n",
      "Epoch 21/50\n",
      "759/759 [==============================] - 173s 228ms/step - loss: 0.1785 - accuracy: 0.9394\n",
      "Epoch 22/50\n",
      "759/759 [==============================] - 173s 228ms/step - loss: 0.1756 - accuracy: 0.9415\n",
      "Epoch 23/50\n",
      "759/759 [==============================] - 173s 227ms/step - loss: 0.1721 - accuracy: 0.9431\n",
      "Epoch 24/50\n",
      "759/759 [==============================] - 173s 228ms/step - loss: 0.1727 - accuracy: 0.9420\n",
      "Epoch 25/50\n",
      "759/759 [==============================] - 172s 227ms/step - loss: 0.1650 - accuracy: 0.9433\n",
      "Epoch 26/50\n",
      "759/759 [==============================] - 175s 231ms/step - loss: 0.1600 - accuracy: 0.9460\n",
      "Epoch 27/50\n",
      "759/759 [==============================] - 176s 232ms/step - loss: 0.1624 - accuracy: 0.9455\n",
      "Epoch 28/50\n",
      "759/759 [==============================] - 170s 224ms/step - loss: 0.1641 - accuracy: 0.9462\n",
      "Epoch 29/50\n",
      "759/759 [==============================] - 172s 227ms/step - loss: 0.1622 - accuracy: 0.9452\n",
      "Epoch 30/50\n",
      "759/759 [==============================] - 200s 264ms/step - loss: 0.1565 - accuracy: 0.9482\n",
      "Epoch 31/50\n",
      "759/759 [==============================] - 200s 264ms/step - loss: 0.1537 - accuracy: 0.9473\n",
      "Epoch 32/50\n",
      "759/759 [==============================] - 184s 243ms/step - loss: 0.1499 - accuracy: 0.9502\n",
      "Epoch 33/50\n",
      "759/759 [==============================] - 181s 239ms/step - loss: 0.1512 - accuracy: 0.9493\n",
      "Epoch 34/50\n",
      "759/759 [==============================] - 181s 239ms/step - loss: 0.1543 - accuracy: 0.9492\n",
      "Epoch 35/50\n",
      "759/759 [==============================] - 187s 247ms/step - loss: 0.1510 - accuracy: 0.9504\n",
      "Epoch 36/50\n",
      "759/759 [==============================] - 191s 251ms/step - loss: 0.1532 - accuracy: 0.9490\n",
      "Epoch 37/50\n",
      "759/759 [==============================] - 172s 227ms/step - loss: 0.1479 - accuracy: 0.9510\n",
      "Epoch 38/50\n",
      "759/759 [==============================] - 173s 228ms/step - loss: 0.1455 - accuracy: 0.9509\n",
      "Epoch 39/50\n",
      "759/759 [==============================] - 172s 227ms/step - loss: 0.1523 - accuracy: 0.9504\n",
      "Epoch 40/50\n",
      "759/759 [==============================] - 172s 226ms/step - loss: 0.1461 - accuracy: 0.9524\n",
      "Epoch 41/50\n",
      "759/759 [==============================] - 172s 226ms/step - loss: 0.1484 - accuracy: 0.9505\n",
      "Epoch 42/50\n",
      "759/759 [==============================] - 172s 227ms/step - loss: 0.1486 - accuracy: 0.9511\n",
      "Epoch 43/50\n",
      "759/759 [==============================] - 172s 227ms/step - loss: 0.1435 - accuracy: 0.9530\n",
      "Epoch 44/50\n",
      "759/759 [==============================] - 172s 227ms/step - loss: 0.1430 - accuracy: 0.9522\n",
      "Epoch 45/50\n",
      "759/759 [==============================] - 170s 224ms/step - loss: 0.1421 - accuracy: 0.9537\n",
      "Epoch 46/50\n",
      "759/759 [==============================] - 176s 232ms/step - loss: 0.1501 - accuracy: 0.9520\n",
      "Epoch 47/50\n",
      "759/759 [==============================] - 173s 228ms/step - loss: 0.1456 - accuracy: 0.9537\n",
      "Epoch 48/50\n",
      "759/759 [==============================] - 174s 229ms/step - loss: 0.1487 - accuracy: 0.9536\n",
      "Epoch 49/50\n",
      "759/759 [==============================] - 175s 230ms/step - loss: 0.1411 - accuracy: 0.9542\n",
      "Epoch 50/50\n",
      "759/759 [==============================] - 176s 232ms/step - loss: 0.1473 - accuracy: 0.9539\n",
      "253/253 [==============================] - 13s 50ms/step - loss: 0.2017 - accuracy: 0.9440\n",
      "Epoch 1/50\n",
      "759/759 [==============================] - 177s 231ms/step - loss: 0.7525 - accuracy: 0.7368\n",
      "Epoch 2/50\n",
      "759/759 [==============================] - 175s 231ms/step - loss: 0.4557 - accuracy: 0.8383\n",
      "Epoch 3/50\n",
      "759/759 [==============================] - 174s 230ms/step - loss: 0.3679 - accuracy: 0.8721\n",
      "Epoch 4/50\n",
      "759/759 [==============================] - 175s 231ms/step - loss: 0.3219 - accuracy: 0.8871\n",
      "Epoch 5/50\n",
      "759/759 [==============================] - 175s 231ms/step - loss: 0.2900 - accuracy: 0.8997\n",
      "Epoch 6/50\n",
      "759/759 [==============================] - 174s 229ms/step - loss: 0.2689 - accuracy: 0.9065\n",
      "Epoch 7/50\n",
      "759/759 [==============================] - 173s 228ms/step - loss: 0.2528 - accuracy: 0.9114\n",
      "Epoch 8/50\n",
      "759/759 [==============================] - 173s 228ms/step - loss: 0.2388 - accuracy: 0.9188\n",
      "Epoch 9/50\n",
      "759/759 [==============================] - 175s 230ms/step - loss: 0.2300 - accuracy: 0.9224\n",
      "Epoch 10/50\n",
      "759/759 [==============================] - 174s 230ms/step - loss: 0.2224 - accuracy: 0.9235\n",
      "Epoch 11/50\n",
      "759/759 [==============================] - 174s 230ms/step - loss: 0.2097 - accuracy: 0.9284\n",
      "Epoch 12/50\n",
      "759/759 [==============================] - 173s 228ms/step - loss: 0.2102 - accuracy: 0.9284\n",
      "Epoch 13/50\n",
      "759/759 [==============================] - 174s 229ms/step - loss: 0.2094 - accuracy: 0.9296\n",
      "Epoch 14/50\n",
      "759/759 [==============================] - 174s 229ms/step - loss: 0.1962 - accuracy: 0.9345\n",
      "Epoch 15/50\n",
      "759/759 [==============================] - 174s 230ms/step - loss: 0.1927 - accuracy: 0.9339\n",
      "Epoch 16/50\n",
      "759/759 [==============================] - 173s 228ms/step - loss: 0.1824 - accuracy: 0.9388\n",
      "Epoch 17/50\n",
      "759/759 [==============================] - 173s 228ms/step - loss: 0.1778 - accuracy: 0.9400\n",
      "Epoch 18/50\n",
      "759/759 [==============================] - 178s 234ms/step - loss: 0.1793 - accuracy: 0.9403\n",
      "Epoch 19/50\n",
      "759/759 [==============================] - 177s 233ms/step - loss: 0.1763 - accuracy: 0.9415\n",
      "Epoch 20/50\n",
      "759/759 [==============================] - 175s 231ms/step - loss: 0.1823 - accuracy: 0.9406\n",
      "Epoch 21/50\n",
      "759/759 [==============================] - 174s 229ms/step - loss: 0.1797 - accuracy: 0.9423\n",
      "Epoch 22/50\n",
      "759/759 [==============================] - 174s 230ms/step - loss: 0.1693 - accuracy: 0.9441\n",
      "Epoch 23/50\n",
      "759/759 [==============================] - 175s 230ms/step - loss: 0.1702 - accuracy: 0.9446\n",
      "Epoch 24/50\n",
      "759/759 [==============================] - 174s 230ms/step - loss: 0.1672 - accuracy: 0.9463\n",
      "Epoch 25/50\n",
      "759/759 [==============================] - 175s 231ms/step - loss: 0.1639 - accuracy: 0.9462\n",
      "Epoch 26/50\n",
      "759/759 [==============================] - 173s 228ms/step - loss: 0.1626 - accuracy: 0.9469\n",
      "Epoch 27/50\n",
      "759/759 [==============================] - 173s 228ms/step - loss: 0.1596 - accuracy: 0.9474\n",
      "Epoch 28/50\n",
      "759/759 [==============================] - 178s 235ms/step - loss: 0.1629 - accuracy: 0.9491\n",
      "Epoch 29/50\n",
      "759/759 [==============================] - 174s 229ms/step - loss: 0.1560 - accuracy: 0.9504\n",
      "Epoch 30/50\n",
      "759/759 [==============================] - 175s 231ms/step - loss: 0.1526 - accuracy: 0.9515\n",
      "Epoch 31/50\n",
      "759/759 [==============================] - 174s 229ms/step - loss: 0.1454 - accuracy: 0.9510\n",
      "Epoch 32/50\n",
      "759/759 [==============================] - 174s 229ms/step - loss: 0.1488 - accuracy: 0.9526\n",
      "Epoch 33/50\n",
      "759/759 [==============================] - 173s 228ms/step - loss: 0.1470 - accuracy: 0.9519\n",
      "Epoch 34/50\n",
      "759/759 [==============================] - 173s 228ms/step - loss: 0.1499 - accuracy: 0.9518\n",
      "Epoch 35/50\n",
      "759/759 [==============================] - 175s 231ms/step - loss: 0.1452 - accuracy: 0.9525\n",
      "Epoch 36/50\n",
      "759/759 [==============================] - 174s 230ms/step - loss: 0.1467 - accuracy: 0.9533\n",
      "Epoch 37/50\n",
      "759/759 [==============================] - 173s 228ms/step - loss: 0.1407 - accuracy: 0.9535\n",
      "Epoch 38/50\n",
      "759/759 [==============================] - 173s 228ms/step - loss: 0.1469 - accuracy: 0.9541\n",
      "Epoch 39/50\n",
      "759/759 [==============================] - 173s 228ms/step - loss: 0.1458 - accuracy: 0.9530\n",
      "Epoch 40/50\n",
      "759/759 [==============================] - 173s 228ms/step - loss: 0.1396 - accuracy: 0.9539\n",
      "Epoch 41/50\n",
      "759/759 [==============================] - 174s 229ms/step - loss: 0.1422 - accuracy: 0.9552\n",
      "Epoch 42/50\n",
      "759/759 [==============================] - 173s 228ms/step - loss: 0.1405 - accuracy: 0.9549\n",
      "Epoch 43/50\n",
      "759/759 [==============================] - 173s 228ms/step - loss: 0.1444 - accuracy: 0.9547\n",
      "Epoch 44/50\n",
      "759/759 [==============================] - 173s 228ms/step - loss: 0.1484 - accuracy: 0.9548\n",
      "Epoch 45/50\n",
      "759/759 [==============================] - 173s 228ms/step - loss: 0.1523 - accuracy: 0.9533\n",
      "Epoch 46/50\n",
      "759/759 [==============================] - 173s 228ms/step - loss: 0.1395 - accuracy: 0.9570\n",
      "Epoch 47/50\n",
      "759/759 [==============================] - 173s 228ms/step - loss: 0.1361 - accuracy: 0.9563\n",
      "Epoch 48/50\n",
      "759/759 [==============================] - 173s 228ms/step - loss: 0.1462 - accuracy: 0.9568\n",
      "Epoch 49/50\n",
      "759/759 [==============================] - 173s 228ms/step - loss: 0.1530 - accuracy: 0.9560\n",
      "Epoch 50/50\n",
      "759/759 [==============================] - 173s 228ms/step - loss: 0.1361 - accuracy: 0.9579\n",
      "253/253 [==============================] - 12s 48ms/step - loss: 0.1600 - accuracy: 0.9544\n",
      "Epoch 1/50\n",
      "759/759 [==============================] - 181s 235ms/step - loss: 0.7500 - accuracy: 0.7300\n",
      "Epoch 2/50\n",
      "759/759 [==============================] - 176s 232ms/step - loss: 0.4815 - accuracy: 0.8315\n",
      "Epoch 3/50\n",
      "759/759 [==============================] - 179s 236ms/step - loss: 0.3882 - accuracy: 0.8654\n",
      "Epoch 4/50\n",
      "759/759 [==============================] - 176s 232ms/step - loss: 0.3439 - accuracy: 0.8841\n",
      "Epoch 5/50\n",
      "759/759 [==============================] - 176s 232ms/step - loss: 0.3118 - accuracy: 0.8942\n",
      "Epoch 6/50\n",
      "759/759 [==============================] - 177s 233ms/step - loss: 0.2840 - accuracy: 0.9042\n",
      "Epoch 7/50\n",
      "759/759 [==============================] - 175s 231ms/step - loss: 0.2651 - accuracy: 0.9087\n",
      "Epoch 8/50\n",
      "759/759 [==============================] - 178s 235ms/step - loss: 0.2491 - accuracy: 0.9166\n",
      "Epoch 9/50\n",
      "759/759 [==============================] - 176s 231ms/step - loss: 0.2351 - accuracy: 0.9203\n",
      "Epoch 10/50\n",
      "759/759 [==============================] - 175s 231ms/step - loss: 0.2244 - accuracy: 0.9237\n",
      "Epoch 11/50\n",
      "759/759 [==============================] - 175s 230ms/step - loss: 0.2187 - accuracy: 0.9245\n",
      "Epoch 12/50\n",
      "759/759 [==============================] - 175s 230ms/step - loss: 0.2099 - accuracy: 0.9272\n",
      "Epoch 13/50\n",
      "759/759 [==============================] - 175s 230ms/step - loss: 0.2073 - accuracy: 0.9298\n",
      "Epoch 14/50\n",
      "759/759 [==============================] - 175s 231ms/step - loss: 0.1978 - accuracy: 0.9340\n",
      "Epoch 15/50\n",
      "759/759 [==============================] - 175s 230ms/step - loss: 0.1955 - accuracy: 0.9330\n",
      "Epoch 16/50\n",
      "759/759 [==============================] - 175s 230ms/step - loss: 0.1914 - accuracy: 0.9371\n",
      "Epoch 17/50\n",
      "759/759 [==============================] - 174s 230ms/step - loss: 0.1851 - accuracy: 0.9359\n",
      "Epoch 18/50\n",
      "759/759 [==============================] - 175s 230ms/step - loss: 0.1843 - accuracy: 0.9394\n",
      "Epoch 19/50\n",
      "759/759 [==============================] - 175s 231ms/step - loss: 0.1809 - accuracy: 0.9397\n",
      "Epoch 20/50\n",
      "759/759 [==============================] - 175s 230ms/step - loss: 0.1773 - accuracy: 0.9409\n",
      "Epoch 21/50\n",
      "759/759 [==============================] - 174s 230ms/step - loss: 0.1794 - accuracy: 0.9423\n",
      "Epoch 22/50\n",
      "759/759 [==============================] - 174s 230ms/step - loss: 0.1730 - accuracy: 0.9434\n",
      "Epoch 23/50\n",
      "759/759 [==============================] - 175s 231ms/step - loss: 0.1688 - accuracy: 0.9436\n",
      "Epoch 24/50\n",
      "759/759 [==============================] - 175s 231ms/step - loss: 0.1653 - accuracy: 0.9446\n",
      "Epoch 25/50\n",
      "759/759 [==============================] - 174s 230ms/step - loss: 0.1645 - accuracy: 0.9466\n",
      "Epoch 26/50\n",
      "759/759 [==============================] - 175s 231ms/step - loss: 0.1510 - accuracy: 0.9495\n",
      "Epoch 27/50\n",
      "759/759 [==============================] - 174s 230ms/step - loss: 0.1609 - accuracy: 0.9472\n",
      "Epoch 28/50\n",
      "759/759 [==============================] - 175s 230ms/step - loss: 0.1638 - accuracy: 0.9469\n",
      "Epoch 29/50\n",
      "759/759 [==============================] - 175s 230ms/step - loss: 0.1568 - accuracy: 0.9479\n",
      "Epoch 30/50\n",
      "759/759 [==============================] - 174s 230ms/step - loss: 0.1586 - accuracy: 0.9469\n",
      "Epoch 31/50\n",
      "759/759 [==============================] - 175s 230ms/step - loss: 0.1537 - accuracy: 0.9508\n",
      "Epoch 32/50\n",
      "759/759 [==============================] - 174s 230ms/step - loss: 0.1468 - accuracy: 0.9508\n",
      "Epoch 33/50\n",
      "759/759 [==============================] - 174s 230ms/step - loss: 0.1477 - accuracy: 0.9520\n",
      "Epoch 34/50\n",
      "759/759 [==============================] - 175s 231ms/step - loss: 0.1423 - accuracy: 0.9534\n",
      "Epoch 35/50\n",
      "759/759 [==============================] - 175s 230ms/step - loss: 0.1444 - accuracy: 0.9542\n",
      "Epoch 36/50\n",
      "759/759 [==============================] - 175s 230ms/step - loss: 0.1439 - accuracy: 0.9530\n",
      "Epoch 37/50\n",
      "759/759 [==============================] - 174s 230ms/step - loss: 0.1525 - accuracy: 0.9521\n",
      "Epoch 38/50\n",
      "759/759 [==============================] - 175s 230ms/step - loss: 0.1443 - accuracy: 0.9534\n",
      "Epoch 39/50\n",
      "759/759 [==============================] - 174s 230ms/step - loss: 0.1426 - accuracy: 0.9543\n",
      "Epoch 40/50\n",
      "759/759 [==============================] - 175s 230ms/step - loss: 0.1381 - accuracy: 0.9560\n",
      "Epoch 41/50\n",
      "759/759 [==============================] - 175s 231ms/step - loss: 0.1389 - accuracy: 0.9551\n",
      "Epoch 42/50\n",
      "759/759 [==============================] - 175s 230ms/step - loss: 0.1380 - accuracy: 0.9536\n",
      "Epoch 43/50\n",
      "759/759 [==============================] - 174s 230ms/step - loss: 0.1348 - accuracy: 0.9557\n",
      "Epoch 44/50\n",
      "759/759 [==============================] - 175s 231ms/step - loss: 0.1326 - accuracy: 0.9561\n",
      "Epoch 45/50\n",
      "759/759 [==============================] - 175s 231ms/step - loss: 0.1363 - accuracy: 0.9570\n",
      "Epoch 46/50\n",
      "759/759 [==============================] - 175s 230ms/step - loss: 0.1334 - accuracy: 0.9562\n",
      "Epoch 47/50\n",
      "759/759 [==============================] - 176s 232ms/step - loss: 0.1392 - accuracy: 0.9546\n",
      "Epoch 48/50\n",
      "759/759 [==============================] - 175s 230ms/step - loss: 0.1371 - accuracy: 0.9561\n",
      "Epoch 49/50\n",
      "759/759 [==============================] - 175s 230ms/step - loss: 0.1345 - accuracy: 0.9567\n",
      "Epoch 50/50\n",
      "759/759 [==============================] - 175s 230ms/step - loss: 0.1377 - accuracy: 0.9549\n",
      "253/253 [==============================] - 13s 52ms/step - loss: 0.1891 - accuracy: 0.9537\n",
      "Epoch 1/50\n",
      "759/759 [==============================] - 176s 231ms/step - loss: 0.7350 - accuracy: 0.7413\n",
      "Epoch 2/50\n",
      "759/759 [==============================] - 173s 228ms/step - loss: 0.4502 - accuracy: 0.8391\n",
      "Epoch 3/50\n",
      "759/759 [==============================] - 173s 228ms/step - loss: 0.3590 - accuracy: 0.8767\n",
      "Epoch 4/50\n"
     ]
    },
    {
     "name": "stdout",
     "output_type": "stream",
     "text": [
      "759/759 [==============================] - 173s 227ms/step - loss: 0.3114 - accuracy: 0.8912\n",
      "Epoch 5/50\n",
      "759/759 [==============================] - 175s 231ms/step - loss: 0.2804 - accuracy: 0.9032\n",
      "Epoch 6/50\n",
      "759/759 [==============================] - 173s 227ms/step - loss: 0.2592 - accuracy: 0.9113\n",
      "Epoch 7/50\n",
      "759/759 [==============================] - 172s 226ms/step - loss: 0.2440 - accuracy: 0.9161\n",
      "Epoch 8/50\n",
      "759/759 [==============================] - 172s 227ms/step - loss: 0.2353 - accuracy: 0.9204\n",
      "Epoch 9/50\n",
      "759/759 [==============================] - 172s 227ms/step - loss: 0.2191 - accuracy: 0.9233\n",
      "Epoch 10/50\n",
      "759/759 [==============================] - 172s 227ms/step - loss: 0.2107 - accuracy: 0.9285\n",
      "Epoch 11/50\n",
      "759/759 [==============================] - 173s 228ms/step - loss: 0.2061 - accuracy: 0.9299\n",
      "Epoch 12/50\n",
      "759/759 [==============================] - 172s 227ms/step - loss: 0.2018 - accuracy: 0.9316\n",
      "Epoch 13/50\n",
      "759/759 [==============================] - 172s 227ms/step - loss: 0.1973 - accuracy: 0.9331\n",
      "Epoch 14/50\n",
      "759/759 [==============================] - 172s 227ms/step - loss: 0.1932 - accuracy: 0.9354\n",
      "Epoch 15/50\n",
      "759/759 [==============================] - 172s 227ms/step - loss: 0.1893 - accuracy: 0.9376\n",
      "Epoch 16/50\n",
      "759/759 [==============================] - 173s 228ms/step - loss: 0.1827 - accuracy: 0.9385\n",
      "Epoch 17/50\n",
      "759/759 [==============================] - 172s 227ms/step - loss: 0.1846 - accuracy: 0.9404\n",
      "Epoch 18/50\n",
      "759/759 [==============================] - 172s 227ms/step - loss: 0.1765 - accuracy: 0.9423\n",
      "Epoch 19/50\n",
      "759/759 [==============================] - 172s 226ms/step - loss: 0.1755 - accuracy: 0.9423\n",
      "Epoch 20/50\n",
      "759/759 [==============================] - 173s 228ms/step - loss: 0.1692 - accuracy: 0.9442\n",
      "Epoch 21/50\n",
      "759/759 [==============================] - 172s 227ms/step - loss: 0.1764 - accuracy: 0.9436\n",
      "Epoch 22/50\n",
      "759/759 [==============================] - 174s 229ms/step - loss: 0.1716 - accuracy: 0.9446\n",
      "Epoch 23/50\n",
      "759/759 [==============================] - 172s 227ms/step - loss: 0.1703 - accuracy: 0.9457\n",
      "Epoch 24/50\n",
      "759/759 [==============================] - 173s 228ms/step - loss: 0.1664 - accuracy: 0.9467\n",
      "Epoch 25/50\n",
      "759/759 [==============================] - 172s 226ms/step - loss: 0.1687 - accuracy: 0.9461\n",
      "Epoch 26/50\n",
      "759/759 [==============================] - 172s 227ms/step - loss: 0.1647 - accuracy: 0.9484\n",
      "Epoch 27/50\n",
      "759/759 [==============================] - 175s 231ms/step - loss: 0.1601 - accuracy: 0.9480\n",
      "Epoch 28/50\n",
      "759/759 [==============================] - 174s 230ms/step - loss: 0.1551 - accuracy: 0.9509\n",
      "Epoch 29/50\n",
      "759/759 [==============================] - 172s 227ms/step - loss: 0.1537 - accuracy: 0.9521\n",
      "Epoch 30/50\n",
      "759/759 [==============================] - 172s 227ms/step - loss: 0.1569 - accuracy: 0.9502\n",
      "Epoch 31/50\n",
      "759/759 [==============================] - 172s 227ms/step - loss: 0.1627 - accuracy: 0.9504\n",
      "Epoch 32/50\n",
      "759/759 [==============================] - 172s 227ms/step - loss: 0.1632 - accuracy: 0.9488\n",
      "Epoch 33/50\n",
      "759/759 [==============================] - 173s 227ms/step - loss: 0.1568 - accuracy: 0.9507\n",
      "Epoch 34/50\n",
      "759/759 [==============================] - 172s 226ms/step - loss: 0.1547 - accuracy: 0.9516\n",
      "Epoch 35/50\n",
      "759/759 [==============================] - 172s 227ms/step - loss: 0.1671 - accuracy: 0.9523\n",
      "Epoch 36/50\n",
      "759/759 [==============================] - 172s 227ms/step - loss: 0.1665 - accuracy: 0.9518\n",
      "Epoch 37/50\n",
      "759/759 [==============================] - 172s 227ms/step - loss: 0.1609 - accuracy: 0.9522\n",
      "Epoch 38/50\n",
      "759/759 [==============================] - 173s 228ms/step - loss: 0.1658 - accuracy: 0.9519\n",
      "Epoch 39/50\n",
      "759/759 [==============================] - 173s 227ms/step - loss: 0.1479 - accuracy: 0.9534\n",
      "Epoch 40/50\n",
      "759/759 [==============================] - 172s 227ms/step - loss: 0.1399 - accuracy: 0.9561\n",
      "Epoch 41/50\n",
      "759/759 [==============================] - 172s 227ms/step - loss: 0.1441 - accuracy: 0.9563\n",
      "Epoch 42/50\n",
      "759/759 [==============================] - 173s 227ms/step - loss: 0.1430 - accuracy: 0.9558\n",
      "Epoch 43/50\n",
      "759/759 [==============================] - 173s 228ms/step - loss: 0.1450 - accuracy: 0.9558\n",
      "Epoch 44/50\n",
      "759/759 [==============================] - 172s 227ms/step - loss: 0.1352 - accuracy: 0.9575\n",
      "Epoch 45/50\n",
      "759/759 [==============================] - 172s 227ms/step - loss: 0.1404 - accuracy: 0.9554\n",
      "Epoch 46/50\n",
      "759/759 [==============================] - 173s 228ms/step - loss: 0.1453 - accuracy: 0.9547\n",
      "Epoch 47/50\n",
      "759/759 [==============================] - 173s 228ms/step - loss: 0.1376 - accuracy: 0.9558\n",
      "Epoch 48/50\n",
      "759/759 [==============================] - 173s 228ms/step - loss: 0.1459 - accuracy: 0.9551\n",
      "Epoch 49/50\n",
      "759/759 [==============================] - 172s 227ms/step - loss: 0.1471 - accuracy: 0.9559\n",
      "Epoch 50/50\n",
      "759/759 [==============================] - 173s 227ms/step - loss: 0.1463 - accuracy: 0.9550\n",
      "253/253 [==============================] - 13s 49ms/step - loss: 0.2060 - accuracy: 0.9464\n"
     ]
    }
   ],
   "source": [
    "k=4\n",
    "num_val_samples = len(features)//4\n",
    "val_scores=[]\n",
    "for fold in range(k):\n",
    "    val_data = features[num_val_samples*fold:num_val_samples*(fold+1)]\n",
    "    val_img_data = image_hht[num_val_samples*fold:num_val_samples*(fold+1)]\n",
    "    val_label = labels[num_val_samples*fold:num_val_samples*(fold+1)]\n",
    "    \n",
    "    train_data = np.concatenate((features[:num_val_samples*fold],features[num_val_samples*(fold+1):]))\n",
    "    train_img_data = np.concatenate((image_hht[:num_val_samples*fold],image_hht[num_val_samples*(fold+1):]))\n",
    "    train_label = np.concatenate((labels[:num_val_samples*fold],labels[num_val_samples*(fold+1):]))\n",
    "    \n",
    "    model = get_model()\n",
    "    model.fit([train_data,train_img_data],train_label,epochs=50)\n",
    "    val_score = model.evaluate([val_data,val_img_data],val_label)\n",
    "    val_scores.append(val_score)"
   ]
  },
  {
   "cell_type": "code",
   "execution_count": 24,
   "id": "be133c0f",
   "metadata": {},
   "outputs": [
    {
     "data": {
      "text/plain": [
       "[[0.20165449380874634, 0.9439703226089478],\n",
       " [0.15996406972408295, 0.9543599486351013],\n",
       " [0.1891375184059143, 0.9537414908409119],\n",
       " [0.20599491894245148, 0.946444034576416]]"
      ]
     },
     "execution_count": 24,
     "metadata": {},
     "output_type": "execute_result"
    }
   ],
   "source": [
    "val_scores"
   ]
  },
  {
   "cell_type": "code",
   "execution_count": 33,
   "id": "2e702d61",
   "metadata": {},
   "outputs": [
    {
     "data": {
      "text/plain": [
       "array([0.18918775, 0.94962895])"
      ]
     },
     "execution_count": 33,
     "metadata": {},
     "output_type": "execute_result"
    }
   ],
   "source": [
    "val_scores = np.array(val_scores)\n",
    "sum(val_scores)/len(val_scores)"
   ]
  },
  {
   "cell_type": "code",
   "execution_count": 25,
   "id": "fd262894",
   "metadata": {},
   "outputs": [
    {
     "data": {
      "text/plain": [
       "(21892, 187)"
      ]
     },
     "execution_count": 25,
     "metadata": {},
     "output_type": "execute_result"
    }
   ],
   "source": [
    "test_data = pd.read_csv('mitbih_test.csv',header = None)\n",
    "test_data = np.array(test_data)\n",
    "test_labels = test_data[:,-1]\n",
    "test_data = test_data[:,:-1]\n",
    "test_data.shape"
   ]
  },
  {
   "cell_type": "code",
   "execution_count": 26,
   "id": "bb1676f0",
   "metadata": {},
   "outputs": [
    {
     "name": "stderr",
     "output_type": "stream",
     "text": [
      "C:\\Users\\Prafful\\AppData\\Local\\Temp\\ipykernel_10696\\1299854655.py:10: VisibleDeprecationWarning: Creating an ndarray from ragged nested sequences (which is a list-or-tuple of lists-or-tuples-or ndarrays with different lengths or shapes) is deprecated. If you meant to do this, you must specify 'dtype=object' when creating the ndarray.\n",
      "  samples = np.array([np.array(xi) for xi in samples])\n",
      "C:\\Users\\Prafful\\AppData\\Local\\Temp\\ipykernel_10696\\1046651556.py:7: VisibleDeprecationWarning: Creating an ndarray from ragged nested sequences (which is a list-or-tuple of lists-or-tuples-or ndarrays with different lengths or shapes) is deprecated. If you meant to do this, you must specify 'dtype=object' when creating the ndarray.\n",
      "  imfs = np.array(imfs)\n"
     ]
    }
   ],
   "source": [
    "temp0 = get_samples(test_data)\n",
    "test_imfs = get_imfs(temp0)"
   ]
  },
  {
   "cell_type": "code",
   "execution_count": 27,
   "id": "2d0f37a1",
   "metadata": {},
   "outputs": [
    {
     "data": {
      "text/plain": [
       "(21892,)"
      ]
     },
     "execution_count": 27,
     "metadata": {},
     "output_type": "execute_result"
    }
   ],
   "source": [
    "test_imfs.shape"
   ]
  },
  {
   "cell_type": "code",
   "execution_count": 28,
   "id": "b5d525e9",
   "metadata": {},
   "outputs": [],
   "source": [
    "final_features = pad_imfs(test_imfs)\n",
    "final_target = to_categorical(test_labels)"
   ]
  },
  {
   "cell_type": "code",
   "execution_count": 29,
   "id": "d3a5e3ec",
   "metadata": {},
   "outputs": [],
   "source": [
    "test_f,final_images = create_spectrum(test_imfs)"
   ]
  },
  {
   "cell_type": "code",
   "execution_count": 30,
   "id": "6b5f246f",
   "metadata": {},
   "outputs": [
    {
     "data": {
      "text/plain": [
       "((21892, 186, 6), (21892, 5))"
      ]
     },
     "execution_count": 30,
     "metadata": {},
     "output_type": "execute_result"
    }
   ],
   "source": [
    "(final_features.shape,final_target.shape)"
   ]
  },
  {
   "cell_type": "code",
   "execution_count": 31,
   "id": "47ccafbb",
   "metadata": {},
   "outputs": [
    {
     "name": "stdout",
     "output_type": "stream",
     "text": [
      "685/685 [==============================] - 34s 49ms/step - loss: 0.2963 - accuracy: 0.9314\n"
     ]
    },
    {
     "data": {
      "text/plain": [
       "[0.29630517959594727, 0.9313904643058777]"
      ]
     },
     "execution_count": 31,
     "metadata": {},
     "output_type": "execute_result"
    }
   ],
   "source": [
    "model.evaluate([final_features,final_images],final_target)"
   ]
  },
  {
   "cell_type": "code",
   "execution_count": 32,
   "id": "c2a2d68d",
   "metadata": {},
   "outputs": [
    {
     "name": "stdout",
     "output_type": "stream",
     "text": [
      "685/685 [==============================] - 35s 51ms/step - loss: 0.2902 - accuracy: 0.9394\n"
     ]
    },
    {
     "data": {
      "text/plain": [
       "[0.2902427017688751, 0.9394299387931824]"
      ]
     },
     "execution_count": 32,
     "metadata": {},
     "output_type": "execute_result"
    }
   ],
   "source": [
    "temp_model.evaluate([final_features,final_images],final_target)"
   ]
  },
  {
   "cell_type": "code",
   "execution_count": null,
   "id": "23a0dc49",
   "metadata": {},
   "outputs": [],
   "source": []
  }
 ],
 "metadata": {
  "kernelspec": {
   "display_name": "Python 3 (ipykernel)",
   "language": "python",
   "name": "python3"
  },
  "language_info": {
   "codemirror_mode": {
    "name": "ipython",
    "version": 3
   },
   "file_extension": ".py",
   "mimetype": "text/x-python",
   "name": "python",
   "nbconvert_exporter": "python",
   "pygments_lexer": "ipython3",
   "version": "3.9.12"
  }
 },
 "nbformat": 4,
 "nbformat_minor": 5
}
