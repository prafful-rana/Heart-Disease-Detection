{
 "cells": [
  {
   "cell_type": "code",
   "execution_count": 1,
   "id": "77ae267c",
   "metadata": {},
   "outputs": [],
   "source": [
    "from scipy.signal import hilbert\n",
    "import math\n",
    "from scipy.fft import fft\n",
    "from scipy.signal import unit_impulse as imp\n",
    "import numpy as np\n",
    "import pandas as pd\n",
    "import matplotlib.pyplot as plt\n",
    "import emd\n",
    "from fdm import fdm"
   ]
  },
  {
   "cell_type": "code",
   "execution_count": 2,
   "id": "e7b8a028",
   "metadata": {},
   "outputs": [],
   "source": [
    "data = pd.read_csv('mitbih_train.csv',header = None)\n",
    "data = np.array(data)\n",
    "labels = data[:,-1]\n",
    "data = data[:,0:-1]"
   ]
  },
  {
   "cell_type": "code",
   "execution_count": 3,
   "id": "d84749e7",
   "metadata": {},
   "outputs": [
    {
     "name": "stderr",
     "output_type": "stream",
     "text": [
      "C:\\Users\\Prafful\\AppData\\Local\\Temp\\ipykernel_3892\\1299854655.py:10: VisibleDeprecationWarning: Creating an ndarray from ragged nested sequences (which is a list-or-tuple of lists-or-tuples-or ndarrays with different lengths or shapes) is deprecated. If you meant to do this, you must specify 'dtype=object' when creating the ndarray.\n",
      "  samples = np.array([np.array(xi) for xi in samples])\n"
     ]
    }
   ],
   "source": [
    "def get_samples(data):\n",
    "    def remove_padding(data):\n",
    "        end = len(data)-1\n",
    "        while data[end]==0:\n",
    "            end=end-1\n",
    "        return data[:end]\n",
    "    samples = []\n",
    "    for i in range(len(data)):\n",
    "        samples.append(remove_padding(data[i]))\n",
    "    samples = np.array([np.array(xi) for xi in samples])\n",
    "    return samples\n",
    "sample = get_samples(data)"
   ]
  },
  {
   "cell_type": "code",
   "execution_count": 4,
   "id": "74a38656",
   "metadata": {},
   "outputs": [
    {
     "data": {
      "text/plain": [
       "87554"
      ]
     },
     "execution_count": 4,
     "metadata": {},
     "output_type": "execute_result"
    }
   ],
   "source": [
    "len(sample)"
   ]
  },
  {
   "cell_type": "code",
   "execution_count": 5,
   "id": "ac19e9ee",
   "metadata": {},
   "outputs": [
    {
     "data": {
      "text/plain": [
       "641"
      ]
     },
     "execution_count": 5,
     "metadata": {},
     "output_type": "execute_result"
    }
   ],
   "source": [
    "labelwise_data = [[],[],[],[],[]]\n",
    "for i in range(0,len(sample)):\n",
    "    val = labels[i]\n",
    "    val = int(val)\n",
    "    labelwise_data[val].append(sample[i])\n",
    "len(labelwise_data[3])"
   ]
  },
  {
   "cell_type": "code",
   "execution_count": 6,
   "id": "07f063ab",
   "metadata": {},
   "outputs": [
    {
     "data": {
      "text/plain": [
       "641"
      ]
     },
     "execution_count": 6,
     "metadata": {},
     "output_type": "execute_result"
    }
   ],
   "source": [
    "curr = 3\n",
    "label_data = labelwise_data[curr]\n",
    "len(label_data)"
   ]
  },
  {
   "cell_type": "code",
   "execution_count": 7,
   "id": "42503658",
   "metadata": {},
   "outputs": [
    {
     "data": {
      "text/plain": [
       "79"
      ]
     },
     "execution_count": 7,
     "metadata": {},
     "output_type": "execute_result"
    }
   ],
   "source": [
    "len(label_data[0])"
   ]
  },
  {
   "cell_type": "code",
   "execution_count": 8,
   "id": "16df6c4d",
   "metadata": {},
   "outputs": [],
   "source": [
    "def phase_shift(samples,alpha):\n",
    "    shifted = []\n",
    "    samples = np.array(samples)\n",
    "    for data in samples:\n",
    "        transformed = hilbert(data)\n",
    "        for val in alpha:\n",
    "            temp = data*math.cos(val) + transformed*math.sin(val)\n",
    "            shifted.append(np.array(temp.real))\n",
    "    return np.array(shifted)"
   ]
  },
  {
   "cell_type": "code",
   "execution_count": 9,
   "id": "a5d3aacf",
   "metadata": {},
   "outputs": [
    {
     "data": {
      "text/plain": [
       "[72471, 2223, 5788, 641, 6431]"
      ]
     },
     "execution_count": 9,
     "metadata": {},
     "output_type": "execute_result"
    }
   ],
   "source": [
    "label_length = [len(labelwise_data[0]),len(labelwise_data[1]),len(labelwise_data[2]),len(labelwise_data[3]),len(labelwise_data[4])]\n",
    "label_length"
   ]
  },
  {
   "cell_type": "code",
   "execution_count": 10,
   "id": "07100e94",
   "metadata": {},
   "outputs": [],
   "source": [
    "fs = 125\n",
    "def get_imfs(samples):\n",
    "    length = len(samples)\n",
    "    imfs = []\n",
    "    for i in range(length):\n",
    "        imfs.append(emd.sift.sift(samples[i]))\n",
    "    imfs = np.array(imfs)\n",
    "    return imfs\n",
    "\n",
    "maximum=186\n",
    "        \n",
    "def create_spectrum(fibfs):\n",
    "    sample_rate = 125\n",
    "    f=0\n",
    "    hht=0\n",
    "    f_arr = []\n",
    "    hht_arr = []\n",
    "    for i in range(0,len(fibfs),1):\n",
    "        IP, IF, IA = emd.spectra.frequency_transform(fibfs[i],sample_rate,'hilbert')\n",
    "        freq_range = (0.1,10,80,'log')\n",
    "        f, hht = emd.spectra.hilberthuang(IF,IA,freq_range,sum_time=False)\n",
    "        \n",
    "        f_arr.append(np.asarray(f))\n",
    "        \n",
    "        \n",
    "        if len(hht[0])<maximum :\n",
    "            final_hht = []\n",
    "            for a in range(0,len(hht),1):\n",
    "                length = len(hht[0])\n",
    "                temp = list(hht[a])\n",
    "                for b in range(0,186-length,1):\n",
    "                    temp.append(0)\n",
    "                final_hht.append(temp)\n",
    "            hht_arr.append(np.asarray(final_hht))\n",
    "        \n",
    "        else:\n",
    "            hht_arr.append(hht)\n",
    "            \n",
    "            \n",
    "    return np.asarray(f_arr),np.asarray(hht_arr)"
   ]
  },
  {
   "cell_type": "code",
   "execution_count": 11,
   "id": "adde2a96",
   "metadata": {},
   "outputs": [
    {
     "name": "stderr",
     "output_type": "stream",
     "text": [
      "C:\\Users\\Prafful\\AppData\\Local\\Temp\\ipykernel_3892\\3316496239.py:1: VisibleDeprecationWarning: Creating an ndarray from ragged nested sequences (which is a list-or-tuple of lists-or-tuples-or ndarrays with different lengths or shapes) is deprecated. If you meant to do this, you must specify 'dtype=object' when creating the ndarray.\n",
      "  new_sample_0 = np.array(labelwise_data[0][0:6500])\n",
      "C:\\Users\\Prafful\\AppData\\Local\\Temp\\ipykernel_3892\\3316496239.py:4: VisibleDeprecationWarning: Creating an ndarray from ragged nested sequences (which is a list-or-tuple of lists-or-tuples-or ndarrays with different lengths or shapes) is deprecated. If you meant to do this, you must specify 'dtype=object' when creating the ndarray.\n",
      "  temp1 = np.array(labelwise_data[1][0:2223])\n",
      "C:\\Users\\Prafful\\AppData\\Local\\Temp\\ipykernel_3892\\4105871267.py:3: VisibleDeprecationWarning: Creating an ndarray from ragged nested sequences (which is a list-or-tuple of lists-or-tuples-or ndarrays with different lengths or shapes) is deprecated. If you meant to do this, you must specify 'dtype=object' when creating the ndarray.\n",
      "  samples = np.array(samples)\n",
      "C:\\Users\\Prafful\\AppData\\Local\\Temp\\ipykernel_3892\\4105871267.py:9: VisibleDeprecationWarning: Creating an ndarray from ragged nested sequences (which is a list-or-tuple of lists-or-tuples-or ndarrays with different lengths or shapes) is deprecated. If you meant to do this, you must specify 'dtype=object' when creating the ndarray.\n",
      "  return np.array(shifted)\n",
      "C:\\Users\\Prafful\\AppData\\Local\\Temp\\ipykernel_3892\\3316496239.py:14: VisibleDeprecationWarning: Creating an ndarray from ragged nested sequences (which is a list-or-tuple of lists-or-tuples-or ndarrays with different lengths or shapes) is deprecated. If you meant to do this, you must specify 'dtype=object' when creating the ndarray.\n",
      "  temp1 = np.array(labelwise_data[3][:])\n",
      "C:\\Users\\Prafful\\AppData\\Local\\Temp\\ipykernel_3892\\3316496239.py:19: VisibleDeprecationWarning: Creating an ndarray from ragged nested sequences (which is a list-or-tuple of lists-or-tuples-or ndarrays with different lengths or shapes) is deprecated. If you meant to do this, you must specify 'dtype=object' when creating the ndarray.\n",
      "  new_sample_4 = np.array(labelwise_data[4][:])\n"
     ]
    }
   ],
   "source": [
    "new_sample_0 = np.array(labelwise_data[0][0:6500])\n",
    "temp_label_0 = np.full(new_sample_0.shape[0],0)\n",
    "## for label 1:\n",
    "temp1 = np.array(labelwise_data[1][0:2223])\n",
    "temp2 = phase_shift(labelwise_data[1][0:2139],alpha = [math.pi/3,math.pi/6])\n",
    "new_sample_1 = np.concatenate((temp1,temp2))\n",
    "temp_label_1 = np.full(new_sample_1.shape[0],1)\n",
    "## for label 2:\n",
    "temp1 = np.array(labelwise_data[2][0:5788])\n",
    "temp2 = phase_shift(labelwise_data[2][0:356],alpha = [math.pi/3,math.pi/6])\n",
    "new_sample_2 = np.concatenate((temp1,temp2))\n",
    "temp_label_2 = np.full(new_sample_2.shape[0],2)\n",
    "## for label 3:\n",
    "temp1 = np.array(labelwise_data[3][:])\n",
    "temp2 = phase_shift(labelwise_data[3][:],alpha = [math.pi/3,math.pi/6,math.pi/8,math.pi/10,math.pi/12,math.pi/14,math.pi/16,math.pi/19,math.pi/20])\n",
    "new_sample_3 = np.concatenate((temp1,temp2))\n",
    "temp_label_3 = np.full(new_sample_3.shape[0],3)\n",
    "## for label 4:\n",
    "new_sample_4 = np.array(labelwise_data[4][:])\n",
    "temp_label_4 = np.full(new_sample_4.shape[0],4)\n",
    "\n",
    "temp_samples = np.concatenate((new_sample_0,new_sample_1,new_sample_2,new_sample_3,new_sample_4))\n",
    "temp_labels = np.concatenate((temp_label_0,temp_label_1,temp_label_2,temp_label_3,temp_label_4))"
   ]
  },
  {
   "cell_type": "code",
   "execution_count": 12,
   "id": "493622ae",
   "metadata": {},
   "outputs": [
    {
     "data": {
      "text/plain": [
       "(32342,)"
      ]
     },
     "execution_count": 12,
     "metadata": {},
     "output_type": "execute_result"
    }
   ],
   "source": [
    "temp_labels.shape"
   ]
  },
  {
   "cell_type": "code",
   "execution_count": 13,
   "id": "ebc91293",
   "metadata": {},
   "outputs": [
    {
     "data": {
      "text/plain": [
       "(32342,)"
      ]
     },
     "execution_count": 13,
     "metadata": {},
     "output_type": "execute_result"
    }
   ],
   "source": [
    "temp_samples.shape"
   ]
  },
  {
   "cell_type": "code",
   "execution_count": 14,
   "id": "6d653cd7",
   "metadata": {},
   "outputs": [],
   "source": [
    "idx = np.random.permutation(len(temp_samples))\n",
    "shuffled_samples , training_labels = temp_samples[idx], temp_labels[idx]"
   ]
  },
  {
   "cell_type": "code",
   "execution_count": 15,
   "id": "1aa5f9a5",
   "metadata": {},
   "outputs": [
    {
     "name": "stderr",
     "output_type": "stream",
     "text": [
      "C:\\Users\\Prafful\\AppData\\Local\\Temp\\ipykernel_3892\\1046651556.py:7: VisibleDeprecationWarning: Creating an ndarray from ragged nested sequences (which is a list-or-tuple of lists-or-tuples-or ndarrays with different lengths or shapes) is deprecated. If you meant to do this, you must specify 'dtype=object' when creating the ndarray.\n",
      "  imfs = np.array(imfs)\n"
     ]
    }
   ],
   "source": [
    "features = get_imfs(shuffled_samples)"
   ]
  },
  {
   "cell_type": "code",
   "execution_count": 16,
   "id": "a9bed993",
   "metadata": {},
   "outputs": [],
   "source": [
    "max_imfs = 0\n",
    "for imf in features:\n",
    "    (x,y) = imf.shape\n",
    "    max_imfs = max(y,max_imfs)\n",
    "def pad_imfs(imfs):\n",
    "    final = []\n",
    "    for imf in imfs:\n",
    "        (x,y) = imf.shape\n",
    "        if y<6:\n",
    "            temp_imf = []\n",
    "            for each_period in imf:\n",
    "                temp_imf.append(np.pad(each_period,(0,6-y),'constant',constant_values=(0,0)))\n",
    "            imf = np.array(temp_imf)\n",
    "        \n",
    "        if x<maximum :\n",
    "            pading_log = np.zeros((maximum-x,6))\n",
    "            final.append(np.concatenate((imf,pading_log)))\n",
    "        else:\n",
    "            final.append(imf)\n",
    "    return np.array(final)\n",
    "features = pad_imfs(features)"
   ]
  },
  {
   "cell_type": "code",
   "execution_count": 17,
   "id": "1f2470a3",
   "metadata": {},
   "outputs": [
    {
     "data": {
      "text/plain": [
       "<AxesSubplot:xlabel='Time (samples)'>"
      ]
     },
     "execution_count": 17,
     "metadata": {},
     "output_type": "execute_result"
    },
    {
     "data": {
      "image/png": "[encoded data removed]",
      "text/plain": [
       "<Figure size 1152x720 with 1 Axes>"
      ]
     },
     "metadata": {
      "needs_background": "light"
     },
     "output_type": "display_data"
    }
   ],
   "source": [
    "emd.plotting.plot_imfs(features[0])"
   ]
  },
  {
   "cell_type": "markdown",
   "id": "ea9a3657",
   "metadata": {},
   "source": [
    "# Learning Arena"
   ]
  },
  {
   "cell_type": "code",
   "execution_count": 18,
   "id": "7176dd42",
   "metadata": {},
   "outputs": [],
   "source": [
    "def get_curves(history):\n",
    "    acc = history.history['accuracy']\n",
    "    val_acc = history.history['val_accuracy']\n",
    "    loss = history.history['loss']\n",
    "    val_loss = history.history['val_loss']\n",
    "    \n",
    "    epochs = range(1,len(acc)+1)\n",
    "    \n",
    "    plt.plot(epochs,acc,'bo',label = 'Training acc')\n",
    "    plt.plot(epochs,val_acc,'b',label = 'Validation acc')\n",
    "    plt.title('Training and validation Accuracy')\n",
    "    plt.legend()\n",
    "    plt.figure()\n",
    "    \n",
    "    plt.plot(epochs,loss,'bo',label='Training Loss')\n",
    "    plt.plot(epochs,val_loss,'b',label='Validation Loss')\n",
    "    plt.title('Training and Validation Loss')\n",
    "    plt.legend()\n",
    "    plt.figure()"
   ]
  },
  {
   "cell_type": "code",
   "execution_count": 19,
   "id": "42feccba",
   "metadata": {},
   "outputs": [],
   "source": [
    "from keras.utils import to_categorical\n",
    "labels = to_categorical(training_labels)"
   ]
  },
  {
   "cell_type": "code",
   "execution_count": 20,
   "id": "56569b1b",
   "metadata": {},
   "outputs": [],
   "source": [
    "from keras import layers,models\n",
    "\n",
    "def get_model():\n",
    "    input_seq = layers.Input(shape = (186,6))\n",
    "    conv1 = layers.Conv1D(24,7,padding=\"same\", activation=\"tanh\")(input_seq)\n",
    "    pool1 = layers.MaxPooling1D(5)(conv1)\n",
    "    conv2 = layers.Conv1D(24,7,padding=\"same\", activation=\"tanh\")(pool1)\n",
    "    processed = layers.GlobalMaxPooling1D()(conv2)\n",
    "    compressed = layers.Dense(50, activation=\"relu\")(processed)\n",
    "    compressed = layers.Dropout(0.3)(compressed)\n",
    "    out = layers.Dense(5, activation='softmax')(compressed)\n",
    "    model = models.Model(inputs=input_seq, outputs=out)\n",
    "    model.compile(optimizer = 'RMSprop',loss='kullback_leibler_divergence',metrics=['accuracy'])\n",
    "    return model\n",
    "##model_history = model.fit(features,labels,epochs=75,validation_split=0.2)"
   ]
  },
  {
   "cell_type": "code",
   "execution_count": 22,
   "id": "4985043a",
   "metadata": {
    "scrolled": false
   },
   "outputs": [
    {
     "name": "stdout",
     "output_type": "stream",
     "text": [
      "Epoch 1/50\n",
      "809/809 [==============================] - 10s 11ms/step - loss: 0.9134 - accuracy: 0.6513 - val_loss: 0.5386 - val_accuracy: 0.8035\n",
      "Epoch 2/50\n",
      "809/809 [==============================] - 10s 12ms/step - loss: 0.4961 - accuracy: 0.8261 - val_loss: 0.4204 - val_accuracy: 0.8522\n",
      "Epoch 3/50\n",
      "809/809 [==============================] - 8s 10ms/step - loss: 0.3898 - accuracy: 0.8641 - val_loss: 0.3376 - val_accuracy: 0.8788\n",
      "Epoch 4/50\n",
      "809/809 [==============================] - 11s 14ms/step - loss: 0.3417 - accuracy: 0.8811 - val_loss: 0.3009 - val_accuracy: 0.8890\n",
      "Epoch 5/50\n",
      "809/809 [==============================] - 9s 11ms/step - loss: 0.3073 - accuracy: 0.8950 - val_loss: 0.2866 - val_accuracy: 0.9017\n",
      "Epoch 6/50\n",
      "809/809 [==============================] - 10s 12ms/step - loss: 0.2827 - accuracy: 0.9026 - val_loss: 0.2463 - val_accuracy: 0.9148\n",
      "Epoch 7/50\n",
      "809/809 [==============================] - 10s 12ms/step - loss: 0.2640 - accuracy: 0.9097 - val_loss: 0.2577 - val_accuracy: 0.9141\n",
      "Epoch 8/50\n",
      "809/809 [==============================] - 9s 11ms/step - loss: 0.2483 - accuracy: 0.9177 - val_loss: 0.2367 - val_accuracy: 0.9187\n",
      "Epoch 9/50\n",
      "809/809 [==============================] - 11s 14ms/step - loss: 0.2320 - accuracy: 0.9202 - val_loss: 0.2211 - val_accuracy: 0.9266\n",
      "Epoch 10/50\n",
      "809/809 [==============================] - 9s 11ms/step - loss: 0.2283 - accuracy: 0.9237 - val_loss: 0.2091 - val_accuracy: 0.9281\n",
      "Epoch 11/50\n",
      "809/809 [==============================] - 9s 12ms/step - loss: 0.2188 - accuracy: 0.9260 - val_loss: 0.2079 - val_accuracy: 0.9287\n",
      "Epoch 12/50\n",
      "809/809 [==============================] - 11s 13ms/step - loss: 0.2128 - accuracy: 0.9282 - val_loss: 0.2104 - val_accuracy: 0.9281\n",
      "Epoch 13/50\n",
      "809/809 [==============================] - 8s 10ms/step - loss: 0.2055 - accuracy: 0.9302 - val_loss: 0.2139 - val_accuracy: 0.9278\n",
      "Epoch 14/50\n",
      "809/809 [==============================] - 11s 14ms/step - loss: 0.2014 - accuracy: 0.9328 - val_loss: 0.2051 - val_accuracy: 0.9312\n",
      "Epoch 15/50\n",
      "809/809 [==============================] - 8s 10ms/step - loss: 0.1960 - accuracy: 0.9356 - val_loss: 0.2089 - val_accuracy: 0.9300\n",
      "Epoch 16/50\n",
      "809/809 [==============================] - 9s 11ms/step - loss: 0.1881 - accuracy: 0.9374 - val_loss: 0.1924 - val_accuracy: 0.9331\n",
      "Epoch 17/50\n",
      "809/809 [==============================] - 10s 12ms/step - loss: 0.1876 - accuracy: 0.9374 - val_loss: 0.1891 - val_accuracy: 0.9379\n",
      "Epoch 18/50\n",
      "809/809 [==============================] - 9s 11ms/step - loss: 0.1814 - accuracy: 0.9392 - val_loss: 0.1774 - val_accuracy: 0.9416\n",
      "Epoch 19/50\n",
      "809/809 [==============================] - 10s 13ms/step - loss: 0.1772 - accuracy: 0.9401 - val_loss: 0.2216 - val_accuracy: 0.9304\n",
      "Epoch 20/50\n",
      "809/809 [==============================] - 8s 9ms/step - loss: 0.1750 - accuracy: 0.9415 - val_loss: 0.2134 - val_accuracy: 0.9297\n",
      "Epoch 21/50\n",
      "809/809 [==============================] - 8s 10ms/step - loss: 0.1710 - accuracy: 0.9430 - val_loss: 0.1746 - val_accuracy: 0.9440\n",
      "Epoch 22/50\n",
      "809/809 [==============================] - 8s 10ms/step - loss: 0.1710 - accuracy: 0.9417 - val_loss: 0.1765 - val_accuracy: 0.9428\n",
      "Epoch 23/50\n",
      "809/809 [==============================] - 8s 10ms/step - loss: 0.1655 - accuracy: 0.9441 - val_loss: 0.1943 - val_accuracy: 0.9375\n",
      "Epoch 24/50\n",
      "809/809 [==============================] - 7s 8ms/step - loss: 0.1629 - accuracy: 0.9454 - val_loss: 0.1806 - val_accuracy: 0.9442\n",
      "Epoch 25/50\n",
      "809/809 [==============================] - 10s 13ms/step - loss: 0.1635 - accuracy: 0.9449 - val_loss: 0.1885 - val_accuracy: 0.9411\n",
      "Epoch 26/50\n",
      "809/809 [==============================] - 9s 12ms/step - loss: 0.1622 - accuracy: 0.9454 - val_loss: 0.1669 - val_accuracy: 0.9476\n",
      "Epoch 27/50\n",
      "809/809 [==============================] - 7s 8ms/step - loss: 0.1584 - accuracy: 0.9459 - val_loss: 0.1693 - val_accuracy: 0.9459\n",
      "Epoch 28/50\n",
      "809/809 [==============================] - 6s 8ms/step - loss: 0.1562 - accuracy: 0.9474 - val_loss: 0.1885 - val_accuracy: 0.9400\n",
      "Epoch 29/50\n",
      "809/809 [==============================] - 8s 9ms/step - loss: 0.1554 - accuracy: 0.9480 - val_loss: 0.2100 - val_accuracy: 0.9360\n",
      "Epoch 30/50\n",
      "809/809 [==============================] - 6s 7ms/step - loss: 0.1541 - accuracy: 0.9494 - val_loss: 0.1949 - val_accuracy: 0.9371\n",
      "Epoch 31/50\n",
      "809/809 [==============================] - 7s 9ms/step - loss: 0.1527 - accuracy: 0.9479 - val_loss: 0.1579 - val_accuracy: 0.9478\n",
      "Epoch 32/50\n",
      "809/809 [==============================] - 7s 8ms/step - loss: 0.1491 - accuracy: 0.9501 - val_loss: 0.2021 - val_accuracy: 0.9394\n",
      "Epoch 33/50\n",
      "809/809 [==============================] - 7s 9ms/step - loss: 0.1502 - accuracy: 0.9498 - val_loss: 0.1752 - val_accuracy: 0.9437\n",
      "Epoch 34/50\n",
      "809/809 [==============================] - 7s 9ms/step - loss: 0.1474 - accuracy: 0.9511 - val_loss: 0.1833 - val_accuracy: 0.9464\n",
      "Epoch 35/50\n",
      "809/809 [==============================] - 7s 9ms/step - loss: 0.1481 - accuracy: 0.9508 - val_loss: 0.1843 - val_accuracy: 0.9409\n",
      "Epoch 36/50\n",
      "809/809 [==============================] - 8s 10ms/step - loss: 0.1432 - accuracy: 0.9523 - val_loss: 0.1838 - val_accuracy: 0.9417\n",
      "Epoch 37/50\n",
      "809/809 [==============================] - 7s 8ms/step - loss: 0.1431 - accuracy: 0.9526 - val_loss: 0.1706 - val_accuracy: 0.9470\n",
      "Epoch 38/50\n",
      "809/809 [==============================] - 9s 11ms/step - loss: 0.1414 - accuracy: 0.9523 - val_loss: 0.1823 - val_accuracy: 0.9400\n",
      "Epoch 39/50\n",
      "809/809 [==============================] - 6s 8ms/step - loss: 0.1395 - accuracy: 0.9542 - val_loss: 0.1698 - val_accuracy: 0.9465\n",
      "Epoch 40/50\n",
      "809/809 [==============================] - 9s 11ms/step - loss: 0.1418 - accuracy: 0.9530 - val_loss: 0.1918 - val_accuracy: 0.9400\n",
      "Epoch 41/50\n",
      "809/809 [==============================] - 6s 8ms/step - loss: 0.1402 - accuracy: 0.9530 - val_loss: 0.1718 - val_accuracy: 0.9474\n",
      "Epoch 42/50\n",
      "809/809 [==============================] - 7s 9ms/step - loss: 0.1365 - accuracy: 0.9546 - val_loss: 0.1661 - val_accuracy: 0.9485\n",
      "Epoch 43/50\n",
      "809/809 [==============================] - 6s 8ms/step - loss: 0.1373 - accuracy: 0.9544 - val_loss: 0.1868 - val_accuracy: 0.9461\n",
      "Epoch 44/50\n",
      "809/809 [==============================] - 6s 8ms/step - loss: 0.1354 - accuracy: 0.9539 - val_loss: 0.1952 - val_accuracy: 0.9414\n",
      "Epoch 45/50\n",
      "809/809 [==============================] - 7s 9ms/step - loss: 0.1344 - accuracy: 0.9541 - val_loss: 0.2187 - val_accuracy: 0.9335\n",
      "Epoch 46/50\n",
      "809/809 [==============================] - 7s 8ms/step - loss: 0.1342 - accuracy: 0.9551 - val_loss: 0.1782 - val_accuracy: 0.9461\n",
      "Epoch 47/50\n",
      "809/809 [==============================] - 8s 10ms/step - loss: 0.1340 - accuracy: 0.9546 - val_loss: 0.1944 - val_accuracy: 0.9428\n",
      "Epoch 48/50\n",
      "809/809 [==============================] - 5s 7ms/step - loss: 0.1344 - accuracy: 0.9554 - val_loss: 0.1904 - val_accuracy: 0.9430\n",
      "Epoch 49/50\n",
      "809/809 [==============================] - 6s 8ms/step - loss: 0.1343 - accuracy: 0.9552 - val_loss: 0.1701 - val_accuracy: 0.9482\n",
      "Epoch 50/50\n",
      "809/809 [==============================] - 6s 8ms/step - loss: 0.1303 - accuracy: 0.9559 - val_loss: 0.1750 - val_accuracy: 0.9478\n"
     ]
    },
    {
     "data": {
      "image/png": "[encoded data removed]",
      "text/plain": [
       "<Figure size 432x288 with 1 Axes>"
      ]
     },
     "metadata": {
      "needs_background": "light"
     },
     "output_type": "display_data"
    },
    {
     "data": {
      "image/png": "[encoded data removed]",
      "text/plain": [
       "<Figure size 432x288 with 1 Axes>"
      ]
     },
     "metadata": {
      "needs_background": "light"
     },
     "output_type": "display_data"
    },
    {
     "data": {
      "text/plain": [
       "<Figure size 432x288 with 0 Axes>"
      ]
     },
     "metadata": {},
     "output_type": "display_data"
    }
   ],
   "source": [
    "temp_model = get_model()\n",
    "history = temp_model.fit(features,labels,epochs=50,validation_split=0.2)\n",
    "get_curves(history)"
   ]
  },
  {
   "cell_type": "code",
   "execution_count": 31,
   "id": "13d2f15d",
   "metadata": {
    "scrolled": true
   },
   "outputs": [
    {
     "name": "stdout",
     "output_type": "stream",
     "text": [
      "Epoch 1/50\n",
      "759/759 [==============================] - 3s 3ms/step - loss: 0.9207 - accuracy: 0.6481\n",
      "Epoch 2/50\n",
      "759/759 [==============================] - 2s 3ms/step - loss: 0.4902 - accuracy: 0.8276\n",
      "Epoch 3/50\n",
      "759/759 [==============================] - 3s 3ms/step - loss: 0.3804 - accuracy: 0.8687\n",
      "Epoch 4/50\n",
      "759/759 [==============================] - 2s 3ms/step - loss: 0.3288 - accuracy: 0.8863\n",
      "Epoch 5/50\n",
      "759/759 [==============================] - 3s 4ms/step - loss: 0.2974 - accuracy: 0.8981\n",
      "Epoch 6/50\n",
      "759/759 [==============================] - 2s 3ms/step - loss: 0.2751 - accuracy: 0.9072\n",
      "Epoch 7/50\n",
      "759/759 [==============================] - 2s 3ms/step - loss: 0.2585 - accuracy: 0.9113\n",
      "Epoch 8/50\n",
      "759/759 [==============================] - 3s 3ms/step - loss: 0.2469 - accuracy: 0.9145\n",
      "Epoch 9/50\n",
      "759/759 [==============================] - 3s 3ms/step - loss: 0.2325 - accuracy: 0.9199\n",
      "Epoch 10/50\n",
      "759/759 [==============================] - 3s 3ms/step - loss: 0.2250 - accuracy: 0.9226\n",
      "Epoch 11/50\n",
      "759/759 [==============================] - 3s 4ms/step - loss: 0.2171 - accuracy: 0.9247\n",
      "Epoch 12/50\n",
      "759/759 [==============================] - 3s 3ms/step - loss: 0.2070 - accuracy: 0.9301\n",
      "Epoch 13/50\n",
      "759/759 [==============================] - 3s 3ms/step - loss: 0.2002 - accuracy: 0.9310\n",
      "Epoch 14/50\n",
      "759/759 [==============================] - 3s 3ms/step - loss: 0.1966 - accuracy: 0.9329\n",
      "Epoch 15/50\n",
      "759/759 [==============================] - 3s 3ms/step - loss: 0.1909 - accuracy: 0.9356\n",
      "Epoch 16/50\n",
      "759/759 [==============================] - 3s 3ms/step - loss: 0.1839 - accuracy: 0.9371\n",
      "Epoch 17/50\n",
      "759/759 [==============================] - 3s 3ms/step - loss: 0.1822 - accuracy: 0.9361\n",
      "Epoch 18/50\n",
      "759/759 [==============================] - 3s 4ms/step - loss: 0.1797 - accuracy: 0.9384\n",
      "Epoch 19/50\n",
      "759/759 [==============================] - 3s 3ms/step - loss: 0.1749 - accuracy: 0.9402\n",
      "Epoch 20/50\n",
      "759/759 [==============================] - 3s 3ms/step - loss: 0.1701 - accuracy: 0.9415\n",
      "Epoch 21/50\n",
      "759/759 [==============================] - 3s 3ms/step - loss: 0.1693 - accuracy: 0.9414\n",
      "Epoch 22/50\n",
      "759/759 [==============================] - 3s 3ms/step - loss: 0.1654 - accuracy: 0.9434\n",
      "Epoch 23/50\n",
      "759/759 [==============================] - 3s 3ms/step - loss: 0.1639 - accuracy: 0.9436\n",
      "Epoch 24/50\n",
      "759/759 [==============================] - 3s 4ms/step - loss: 0.1621 - accuracy: 0.9452\n",
      "Epoch 25/50\n",
      "759/759 [==============================] - 3s 3ms/step - loss: 0.1573 - accuracy: 0.9453\n",
      "Epoch 26/50\n",
      "759/759 [==============================] - 2s 3ms/step - loss: 0.1554 - accuracy: 0.9468\n",
      "Epoch 27/50\n",
      "759/759 [==============================] - 2s 3ms/step - loss: 0.1527 - accuracy: 0.9468\n",
      "Epoch 28/50\n",
      "759/759 [==============================] - 2s 3ms/step - loss: 0.1514 - accuracy: 0.9493\n",
      "Epoch 29/50\n",
      "759/759 [==============================] - 3s 3ms/step - loss: 0.1485 - accuracy: 0.9483\n",
      "Epoch 30/50\n",
      "759/759 [==============================] - 3s 4ms/step - loss: 0.1467 - accuracy: 0.9492\n",
      "Epoch 31/50\n",
      "759/759 [==============================] - 3s 3ms/step - loss: 0.1431 - accuracy: 0.9518\n",
      "Epoch 32/50\n",
      "759/759 [==============================] - 3s 3ms/step - loss: 0.1413 - accuracy: 0.9511\n",
      "Epoch 33/50\n",
      "759/759 [==============================] - 3s 3ms/step - loss: 0.1417 - accuracy: 0.9518\n",
      "Epoch 34/50\n",
      "759/759 [==============================] - 3s 3ms/step - loss: 0.1407 - accuracy: 0.9509\n",
      "Epoch 35/50\n",
      "759/759 [==============================] - 2s 3ms/step - loss: 0.1380 - accuracy: 0.9529\n",
      "Epoch 36/50\n",
      "759/759 [==============================] - 3s 4ms/step - loss: 0.1386 - accuracy: 0.9514\n",
      "Epoch 37/50\n",
      "759/759 [==============================] - 3s 3ms/step - loss: 0.1368 - accuracy: 0.9514\n",
      "Epoch 38/50\n",
      "759/759 [==============================] - 3s 3ms/step - loss: 0.1384 - accuracy: 0.9522\n",
      "Epoch 39/50\n",
      "759/759 [==============================] - 3s 3ms/step - loss: 0.1343 - accuracy: 0.9528\n",
      "Epoch 40/50\n",
      "759/759 [==============================] - 3s 3ms/step - loss: 0.1345 - accuracy: 0.9528\n",
      "Epoch 41/50\n",
      "759/759 [==============================] - 3s 3ms/step - loss: 0.1322 - accuracy: 0.9539\n",
      "Epoch 42/50\n",
      "759/759 [==============================] - 3s 4ms/step - loss: 0.1352 - accuracy: 0.9542\n",
      "Epoch 43/50\n",
      "759/759 [==============================] - 3s 4ms/step - loss: 0.1310 - accuracy: 0.9540\n",
      "Epoch 44/50\n",
      "759/759 [==============================] - 3s 3ms/step - loss: 0.1292 - accuracy: 0.9544\n",
      "Epoch 45/50\n",
      "759/759 [==============================] - 3s 3ms/step - loss: 0.1306 - accuracy: 0.9555\n",
      "Epoch 46/50\n",
      "759/759 [==============================] - 3s 3ms/step - loss: 0.1276 - accuracy: 0.9561\n",
      "Epoch 47/50\n",
      "759/759 [==============================] - 3s 3ms/step - loss: 0.1289 - accuracy: 0.9558\n",
      "Epoch 48/50\n",
      "759/759 [==============================] - 3s 4ms/step - loss: 0.1260 - accuracy: 0.9557\n",
      "Epoch 49/50\n",
      "759/759 [==============================] - 3s 3ms/step - loss: 0.1267 - accuracy: 0.9566\n",
      "Epoch 50/50\n",
      "759/759 [==============================] - 3s 3ms/step - loss: 0.1265 - accuracy: 0.9565\n",
      "253/253 [==============================] - 1s 2ms/step - loss: 0.1754 - accuracy: 0.9459\n",
      "Epoch 1/50\n",
      "759/759 [==============================] - 3s 3ms/step - loss: 0.9554 - accuracy: 0.6280\n",
      "Epoch 2/50\n",
      "759/759 [==============================] - 3s 4ms/step - loss: 0.5411 - accuracy: 0.8107\n",
      "Epoch 3/50\n",
      "759/759 [==============================] - 3s 3ms/step - loss: 0.4165 - accuracy: 0.8601\n",
      "Epoch 4/50\n",
      "759/759 [==============================] - 3s 4ms/step - loss: 0.3577 - accuracy: 0.8782\n",
      "Epoch 5/50\n",
      "759/759 [==============================] - 3s 3ms/step - loss: 0.3281 - accuracy: 0.8899\n",
      "Epoch 6/50\n",
      "759/759 [==============================] - 3s 3ms/step - loss: 0.3029 - accuracy: 0.8959\n",
      "Epoch 7/50\n",
      "759/759 [==============================] - 3s 3ms/step - loss: 0.2835 - accuracy: 0.9050\n",
      "Epoch 8/50\n",
      "759/759 [==============================] - 3s 3ms/step - loss: 0.2705 - accuracy: 0.9078\n",
      "Epoch 9/50\n",
      "759/759 [==============================] - 3s 4ms/step - loss: 0.2561 - accuracy: 0.9137\n",
      "Epoch 10/50\n",
      "759/759 [==============================] - 3s 4ms/step - loss: 0.2395 - accuracy: 0.9185\n",
      "Epoch 11/50\n",
      "759/759 [==============================] - 3s 3ms/step - loss: 0.2308 - accuracy: 0.9210\n",
      "Epoch 12/50\n",
      "759/759 [==============================] - 3s 3ms/step - loss: 0.2219 - accuracy: 0.9251\n",
      "Epoch 13/50\n",
      "759/759 [==============================] - 3s 3ms/step - loss: 0.2147 - accuracy: 0.9288\n",
      "Epoch 14/50\n",
      "759/759 [==============================] - 3s 3ms/step - loss: 0.2089 - accuracy: 0.9271\n",
      "Epoch 15/50\n",
      "759/759 [==============================] - 3s 3ms/step - loss: 0.2014 - accuracy: 0.9314\n",
      "Epoch 16/50\n",
      "759/759 [==============================] - 3s 4ms/step - loss: 0.1987 - accuracy: 0.9323\n",
      "Epoch 17/50\n",
      "759/759 [==============================] - 3s 3ms/step - loss: 0.1923 - accuracy: 0.9348\n",
      "Epoch 18/50\n",
      "759/759 [==============================] - 3s 4ms/step - loss: 0.1863 - accuracy: 0.9367\n",
      "Epoch 19/50\n",
      "759/759 [==============================] - 3s 4ms/step - loss: 0.1832 - accuracy: 0.9385\n",
      "Epoch 20/50\n",
      "759/759 [==============================] - 3s 3ms/step - loss: 0.1777 - accuracy: 0.9403\n",
      "Epoch 21/50\n",
      "759/759 [==============================] - 3s 3ms/step - loss: 0.1745 - accuracy: 0.9400\n",
      "Epoch 22/50\n",
      "759/759 [==============================] - 3s 4ms/step - loss: 0.1750 - accuracy: 0.9399\n",
      "Epoch 23/50\n",
      "759/759 [==============================] - 3s 4ms/step - loss: 0.1696 - accuracy: 0.9419\n",
      "Epoch 24/50\n",
      "759/759 [==============================] - 3s 4ms/step - loss: 0.1681 - accuracy: 0.9442\n",
      "Epoch 25/50\n",
      "759/759 [==============================] - 3s 3ms/step - loss: 0.1646 - accuracy: 0.9439\n",
      "Epoch 26/50\n",
      "759/759 [==============================] - 3s 4ms/step - loss: 0.1619 - accuracy: 0.9447\n",
      "Epoch 27/50\n",
      "759/759 [==============================] - 3s 3ms/step - loss: 0.1599 - accuracy: 0.9454\n",
      "Epoch 28/50\n",
      "759/759 [==============================] - 2s 3ms/step - loss: 0.1588 - accuracy: 0.9449\n",
      "Epoch 29/50\n",
      "759/759 [==============================] - 2s 3ms/step - loss: 0.1564 - accuracy: 0.9474\n",
      "Epoch 30/50\n",
      "759/759 [==============================] - 2s 3ms/step - loss: 0.1553 - accuracy: 0.9476\n",
      "Epoch 31/50\n",
      "759/759 [==============================] - 3s 3ms/step - loss: 0.1494 - accuracy: 0.9495\n",
      "Epoch 32/50\n",
      "759/759 [==============================] - 2s 3ms/step - loss: 0.1497 - accuracy: 0.9497\n",
      "Epoch 33/50\n",
      "759/759 [==============================] - 3s 4ms/step - loss: 0.1491 - accuracy: 0.9501\n",
      "Epoch 34/50\n",
      "759/759 [==============================] - 3s 4ms/step - loss: 0.1431 - accuracy: 0.9507\n",
      "Epoch 35/50\n",
      "759/759 [==============================] - 3s 4ms/step - loss: 0.1435 - accuracy: 0.9508\n",
      "Epoch 36/50\n",
      "759/759 [==============================] - 3s 4ms/step - loss: 0.1440 - accuracy: 0.9514\n",
      "Epoch 37/50\n",
      "759/759 [==============================] - 3s 4ms/step - loss: 0.1439 - accuracy: 0.9516\n",
      "Epoch 38/50\n",
      "759/759 [==============================] - 3s 4ms/step - loss: 0.1429 - accuracy: 0.9514\n",
      "Epoch 39/50\n",
      "759/759 [==============================] - 3s 4ms/step - loss: 0.1383 - accuracy: 0.9525\n",
      "Epoch 40/50\n",
      "759/759 [==============================] - 3s 3ms/step - loss: 0.1360 - accuracy: 0.9528\n",
      "Epoch 41/50\n",
      "759/759 [==============================] - 3s 3ms/step - loss: 0.1364 - accuracy: 0.9530\n",
      "Epoch 42/50\n",
      "759/759 [==============================] - 3s 4ms/step - loss: 0.1328 - accuracy: 0.9549\n",
      "Epoch 43/50\n",
      "759/759 [==============================] - 2s 3ms/step - loss: 0.1355 - accuracy: 0.9551\n",
      "Epoch 44/50\n",
      "759/759 [==============================] - 2s 3ms/step - loss: 0.1318 - accuracy: 0.9553\n",
      "Epoch 45/50\n",
      "759/759 [==============================] - 2s 3ms/step - loss: 0.1336 - accuracy: 0.9541\n",
      "Epoch 46/50\n",
      "759/759 [==============================] - 2s 3ms/step - loss: 0.1303 - accuracy: 0.9552\n",
      "Epoch 47/50\n",
      "759/759 [==============================] - 2s 3ms/step - loss: 0.1325 - accuracy: 0.9556\n",
      "Epoch 48/50\n",
      "759/759 [==============================] - 2s 3ms/step - loss: 0.1300 - accuracy: 0.9556\n",
      "Epoch 49/50\n",
      "759/759 [==============================] - 2s 3ms/step - loss: 0.1305 - accuracy: 0.9555\n",
      "Epoch 50/50\n",
      "759/759 [==============================] - 2s 3ms/step - loss: 0.1286 - accuracy: 0.9568\n",
      "253/253 [==============================] - 0s 1ms/step - loss: 0.2296 - accuracy: 0.9398\n",
      "Epoch 1/50\n",
      "759/759 [==============================] - 3s 3ms/step - loss: 0.8772 - accuracy: 0.6710\n",
      "Epoch 2/50\n",
      "759/759 [==============================] - 2s 3ms/step - loss: 0.4744 - accuracy: 0.8350\n",
      "Epoch 3/50\n",
      "759/759 [==============================] - 2s 3ms/step - loss: 0.3725 - accuracy: 0.8716\n",
      "Epoch 4/50\n",
      "759/759 [==============================] - 2s 3ms/step - loss: 0.3230 - accuracy: 0.8930\n",
      "Epoch 5/50\n",
      "759/759 [==============================] - 2s 3ms/step - loss: 0.2909 - accuracy: 0.9011\n",
      "Epoch 6/50\n",
      "759/759 [==============================] - 2s 3ms/step - loss: 0.2646 - accuracy: 0.9101\n",
      "Epoch 7/50\n",
      "759/759 [==============================] - 2s 3ms/step - loss: 0.2523 - accuracy: 0.9154\n",
      "Epoch 8/50\n",
      "759/759 [==============================] - 3s 3ms/step - loss: 0.2395 - accuracy: 0.9187\n",
      "Epoch 9/50\n",
      "759/759 [==============================] - 2s 3ms/step - loss: 0.2291 - accuracy: 0.9225\n",
      "Epoch 10/50\n",
      "759/759 [==============================] - 2s 3ms/step - loss: 0.2151 - accuracy: 0.9260\n",
      "Epoch 11/50\n",
      "759/759 [==============================] - 2s 3ms/step - loss: 0.2086 - accuracy: 0.9292\n",
      "Epoch 12/50\n",
      "759/759 [==============================] - 2s 3ms/step - loss: 0.2059 - accuracy: 0.9311\n",
      "Epoch 13/50\n",
      "759/759 [==============================] - 2s 3ms/step - loss: 0.1947 - accuracy: 0.9338\n",
      "Epoch 14/50\n",
      "759/759 [==============================] - 2s 3ms/step - loss: 0.1930 - accuracy: 0.9338\n",
      "Epoch 15/50\n",
      "759/759 [==============================] - 3s 3ms/step - loss: 0.1873 - accuracy: 0.9359\n",
      "Epoch 16/50\n",
      "759/759 [==============================] - 2s 3ms/step - loss: 0.1839 - accuracy: 0.9386\n",
      "Epoch 17/50\n",
      "759/759 [==============================] - 2s 3ms/step - loss: 0.1806 - accuracy: 0.9380\n",
      "Epoch 18/50\n",
      "759/759 [==============================] - 3s 4ms/step - loss: 0.1764 - accuracy: 0.9414\n",
      "Epoch 19/50\n",
      "759/759 [==============================] - 3s 3ms/step - loss: 0.1684 - accuracy: 0.9416\n",
      "Epoch 20/50\n",
      "759/759 [==============================] - 3s 4ms/step - loss: 0.1694 - accuracy: 0.9423\n",
      "Epoch 21/50\n",
      "759/759 [==============================] - 3s 3ms/step - loss: 0.1672 - accuracy: 0.9442\n",
      "Epoch 22/50\n",
      "759/759 [==============================] - 2s 3ms/step - loss: 0.1644 - accuracy: 0.9451\n",
      "Epoch 23/50\n",
      "759/759 [==============================] - 2s 3ms/step - loss: 0.1609 - accuracy: 0.9450\n",
      "Epoch 24/50\n",
      "759/759 [==============================] - 2s 3ms/step - loss: 0.1581 - accuracy: 0.9464\n",
      "Epoch 25/50\n",
      "759/759 [==============================] - 2s 3ms/step - loss: 0.1558 - accuracy: 0.9467\n",
      "Epoch 26/50\n",
      "759/759 [==============================] - 3s 4ms/step - loss: 0.1508 - accuracy: 0.9479\n",
      "Epoch 27/50\n",
      "759/759 [==============================] - 3s 3ms/step - loss: 0.1521 - accuracy: 0.9480\n",
      "Epoch 28/50\n",
      "759/759 [==============================] - 3s 3ms/step - loss: 0.1500 - accuracy: 0.9487\n",
      "Epoch 29/50\n",
      "759/759 [==============================] - 2s 3ms/step - loss: 0.1481 - accuracy: 0.9494\n",
      "Epoch 30/50\n",
      "759/759 [==============================] - 2s 3ms/step - loss: 0.1470 - accuracy: 0.9503\n",
      "Epoch 31/50\n",
      "759/759 [==============================] - 3s 3ms/step - loss: 0.1426 - accuracy: 0.9514\n",
      "Epoch 32/50\n",
      "759/759 [==============================] - 3s 3ms/step - loss: 0.1437 - accuracy: 0.9516\n",
      "Epoch 33/50\n",
      "759/759 [==============================] - 3s 3ms/step - loss: 0.1473 - accuracy: 0.9511\n",
      "Epoch 34/50\n",
      "759/759 [==============================] - 3s 4ms/step - loss: 0.1441 - accuracy: 0.9510\n",
      "Epoch 35/50\n",
      "759/759 [==============================] - 3s 3ms/step - loss: 0.1422 - accuracy: 0.9509\n",
      "Epoch 36/50\n",
      "759/759 [==============================] - 3s 4ms/step - loss: 0.1391 - accuracy: 0.9535\n",
      "Epoch 37/50\n",
      "759/759 [==============================] - 2s 3ms/step - loss: 0.1400 - accuracy: 0.9521\n",
      "Epoch 38/50\n",
      "759/759 [==============================] - 2s 3ms/step - loss: 0.1367 - accuracy: 0.9540\n",
      "Epoch 39/50\n",
      "759/759 [==============================] - 4s 5ms/step - loss: 0.1373 - accuracy: 0.9539\n",
      "Epoch 40/50\n",
      "759/759 [==============================] - 3s 4ms/step - loss: 0.1365 - accuracy: 0.9520\n",
      "Epoch 41/50\n",
      "759/759 [==============================] - 3s 3ms/step - loss: 0.1372 - accuracy: 0.9535\n",
      "Epoch 42/50\n",
      "759/759 [==============================] - 3s 3ms/step - loss: 0.1362 - accuracy: 0.9540\n",
      "Epoch 43/50\n",
      "759/759 [==============================] - 2s 3ms/step - loss: 0.1335 - accuracy: 0.9541\n",
      "Epoch 44/50\n",
      "759/759 [==============================] - 3s 3ms/step - loss: 0.1325 - accuracy: 0.9548\n",
      "Epoch 45/50\n",
      "759/759 [==============================] - 3s 3ms/step - loss: 0.1330 - accuracy: 0.9546\n",
      "Epoch 46/50\n",
      "759/759 [==============================] - 3s 3ms/step - loss: 0.1294 - accuracy: 0.9561\n",
      "Epoch 47/50\n",
      "759/759 [==============================] - 2s 3ms/step - loss: 0.1282 - accuracy: 0.9562\n",
      "Epoch 48/50\n",
      "759/759 [==============================] - 2s 3ms/step - loss: 0.1291 - accuracy: 0.9559\n",
      "Epoch 49/50\n",
      "759/759 [==============================] - 2s 3ms/step - loss: 0.1280 - accuracy: 0.9560\n",
      "Epoch 50/50\n",
      "759/759 [==============================] - 2s 3ms/step - loss: 0.1287 - accuracy: 0.9573\n",
      "253/253 [==============================] - 1s 2ms/step - loss: 0.1904 - accuracy: 0.9419\n",
      "Epoch 1/50\n",
      "759/759 [==============================] - 3s 3ms/step - loss: 0.9750 - accuracy: 0.6310\n",
      "Epoch 2/50\n",
      "759/759 [==============================] - 3s 3ms/step - loss: 0.5051 - accuracy: 0.8224\n",
      "Epoch 3/50\n",
      "759/759 [==============================] - 2s 3ms/step - loss: 0.3916 - accuracy: 0.8655\n",
      "Epoch 4/50\n",
      "759/759 [==============================] - 2s 3ms/step - loss: 0.3406 - accuracy: 0.8842\n",
      "Epoch 5/50\n",
      "759/759 [==============================] - 2s 3ms/step - loss: 0.3047 - accuracy: 0.8966\n",
      "Epoch 6/50\n",
      "759/759 [==============================] - 2s 3ms/step - loss: 0.2778 - accuracy: 0.9051\n",
      "Epoch 7/50\n",
      "759/759 [==============================] - 2s 3ms/step - loss: 0.2634 - accuracy: 0.9089\n",
      "Epoch 8/50\n",
      "759/759 [==============================] - 3s 3ms/step - loss: 0.2484 - accuracy: 0.9153\n",
      "Epoch 9/50\n",
      "759/759 [==============================] - 2s 3ms/step - loss: 0.2377 - accuracy: 0.9193\n",
      "Epoch 10/50\n",
      "759/759 [==============================] - 2s 3ms/step - loss: 0.2293 - accuracy: 0.9237\n",
      "Epoch 11/50\n",
      "759/759 [==============================] - 2s 3ms/step - loss: 0.2204 - accuracy: 0.9235\n",
      "Epoch 12/50\n",
      "759/759 [==============================] - 2s 3ms/step - loss: 0.2174 - accuracy: 0.9260\n",
      "Epoch 13/50\n",
      "759/759 [==============================] - 2s 3ms/step - loss: 0.2116 - accuracy: 0.9283\n",
      "Epoch 14/50\n",
      "759/759 [==============================] - 2s 3ms/step - loss: 0.2049 - accuracy: 0.9300\n",
      "Epoch 15/50\n",
      "759/759 [==============================] - 3s 3ms/step - loss: 0.1977 - accuracy: 0.9316\n",
      "Epoch 16/50\n",
      "759/759 [==============================] - 2s 3ms/step - loss: 0.1910 - accuracy: 0.9340\n",
      "Epoch 17/50\n",
      "759/759 [==============================] - 2s 3ms/step - loss: 0.1892 - accuracy: 0.9356\n",
      "Epoch 18/50\n",
      "759/759 [==============================] - 2s 3ms/step - loss: 0.1862 - accuracy: 0.9359\n",
      "Epoch 19/50\n",
      "759/759 [==============================] - 2s 3ms/step - loss: 0.1812 - accuracy: 0.9389\n",
      "Epoch 20/50\n",
      "759/759 [==============================] - 2s 3ms/step - loss: 0.1786 - accuracy: 0.9380\n",
      "Epoch 21/50\n",
      "759/759 [==============================] - 3s 3ms/step - loss: 0.1729 - accuracy: 0.9420\n",
      "Epoch 22/50\n",
      "759/759 [==============================] - 3s 3ms/step - loss: 0.1707 - accuracy: 0.9404\n",
      "Epoch 23/50\n",
      "759/759 [==============================] - 2s 3ms/step - loss: 0.1665 - accuracy: 0.9423\n",
      "Epoch 24/50\n",
      "759/759 [==============================] - 2s 3ms/step - loss: 0.1674 - accuracy: 0.9438\n",
      "Epoch 25/50\n",
      "759/759 [==============================] - 2s 3ms/step - loss: 0.1680 - accuracy: 0.9431\n",
      "Epoch 26/50\n",
      "759/759 [==============================] - 2s 3ms/step - loss: 0.1602 - accuracy: 0.9454\n",
      "Epoch 27/50\n",
      "759/759 [==============================] - 2s 3ms/step - loss: 0.1606 - accuracy: 0.9449\n",
      "Epoch 28/50\n",
      "759/759 [==============================] - 3s 3ms/step - loss: 0.1592 - accuracy: 0.9474\n",
      "Epoch 29/50\n",
      "759/759 [==============================] - 2s 3ms/step - loss: 0.1546 - accuracy: 0.9470\n",
      "Epoch 30/50\n",
      "759/759 [==============================] - 2s 3ms/step - loss: 0.1556 - accuracy: 0.9470\n",
      "Epoch 31/50\n",
      "759/759 [==============================] - 2s 3ms/step - loss: 0.1496 - accuracy: 0.9488\n",
      "Epoch 32/50\n",
      "759/759 [==============================] - 2s 3ms/step - loss: 0.1537 - accuracy: 0.9499\n",
      "Epoch 33/50\n",
      "759/759 [==============================] - 2s 3ms/step - loss: 0.1467 - accuracy: 0.9501\n",
      "Epoch 34/50\n",
      "759/759 [==============================] - 2s 3ms/step - loss: 0.1484 - accuracy: 0.9488\n",
      "Epoch 35/50\n",
      "759/759 [==============================] - 3s 3ms/step - loss: 0.1472 - accuracy: 0.9490\n",
      "Epoch 36/50\n",
      "759/759 [==============================] - 2s 3ms/step - loss: 0.1427 - accuracy: 0.9499\n",
      "Epoch 37/50\n",
      "759/759 [==============================] - 2s 3ms/step - loss: 0.1474 - accuracy: 0.9514\n",
      "Epoch 38/50\n",
      "759/759 [==============================] - 2s 3ms/step - loss: 0.1432 - accuracy: 0.9518\n",
      "Epoch 39/50\n",
      "759/759 [==============================] - 2s 3ms/step - loss: 0.1427 - accuracy: 0.9519\n",
      "Epoch 40/50\n",
      "759/759 [==============================] - 2s 3ms/step - loss: 0.1421 - accuracy: 0.9514\n",
      "Epoch 41/50\n",
      "759/759 [==============================] - 3s 3ms/step - loss: 0.1391 - accuracy: 0.9512\n",
      "Epoch 42/50\n",
      "759/759 [==============================] - 2s 3ms/step - loss: 0.1410 - accuracy: 0.9531\n",
      "Epoch 43/50\n",
      "759/759 [==============================] - 2s 3ms/step - loss: 0.1364 - accuracy: 0.9544\n",
      "Epoch 44/50\n",
      "759/759 [==============================] - 2s 3ms/step - loss: 0.1378 - accuracy: 0.9530\n",
      "Epoch 45/50\n",
      "759/759 [==============================] - 2s 3ms/step - loss: 0.1346 - accuracy: 0.9548\n",
      "Epoch 46/50\n",
      "759/759 [==============================] - 2s 3ms/step - loss: 0.1368 - accuracy: 0.9542\n",
      "Epoch 47/50\n",
      "759/759 [==============================] - 2s 3ms/step - loss: 0.1345 - accuracy: 0.9546\n",
      "Epoch 48/50\n",
      "759/759 [==============================] - 3s 3ms/step - loss: 0.1344 - accuracy: 0.9541\n",
      "Epoch 49/50\n",
      "759/759 [==============================] - 3s 3ms/step - loss: 0.1341 - accuracy: 0.9546\n",
      "Epoch 50/50\n",
      "759/759 [==============================] - 2s 3ms/step - loss: 0.1363 - accuracy: 0.9538\n",
      "253/253 [==============================] - 0s 1ms/step - loss: 0.1702 - accuracy: 0.9485\n"
     ]
    }
   ],
   "source": [
    "k=4\n",
    "num_val_samples = len(features)//4\n",
    "val_scores=[]\n",
    "model=None\n",
    "for fold in range(k):\n",
    "    val_data = features[num_val_samples*fold:num_val_samples*(fold+1)]\n",
    "    val_label = labels[num_val_samples*fold:num_val_samples*(fold+1)]\n",
    "    train_data = np.concatenate((features[:num_val_samples*fold],features[num_val_samples*(fold+1):]))\n",
    "    train_label = np.concatenate((labels[:num_val_samples*fold],labels[num_val_samples*(fold+1):]))\n",
    "    model = get_model()\n",
    "    model.fit(train_data,train_label,epochs=50)\n",
    "    val_score = model.evaluate(val_data,val_label)\n",
    "    val_scores.append(val_score)"
   ]
  },
  {
   "cell_type": "code",
   "execution_count": 32,
   "id": "be133c0f",
   "metadata": {},
   "outputs": [
    {
     "data": {
      "text/plain": [
       "[[0.17535783350467682, 0.9459493160247803],\n",
       " [0.22964201867580414, 0.9397649765014648],\n",
       " [0.19044803082942963, 0.9418676495552063],\n",
       " [0.1702313870191574, 0.9485467076301575]]"
      ]
     },
     "execution_count": 32,
     "metadata": {},
     "output_type": "execute_result"
    }
   ],
   "source": [
    "val_scores"
   ]
  },
  {
   "cell_type": "code",
   "execution_count": 33,
   "id": "c21b321d",
   "metadata": {},
   "outputs": [
    {
     "data": {
      "text/plain": [
       "array([0.19141982, 0.94403216])"
      ]
     },
     "execution_count": 33,
     "metadata": {},
     "output_type": "execute_result"
    }
   ],
   "source": [
    "val_scores = np.array(val_scores)\n",
    "sum(val_scores)/len(val_scores)"
   ]
  },
  {
   "cell_type": "code",
   "execution_count": 26,
   "id": "b9531e30",
   "metadata": {},
   "outputs": [
    {
     "data": {
      "image/png": "[encoded data removed]",
      "text/plain": [
       "<Figure size 432x288 with 1 Axes>"
      ]
     },
     "metadata": {
      "needs_background": "light"
     },
     "output_type": "display_data"
    },
    {
     "data": {
      "image/png": "[encoded data removed]",
      "text/plain": [
       "<Figure size 432x288 with 1 Axes>"
      ]
     },
     "metadata": {
      "needs_background": "light"
     },
     "output_type": "display_data"
    },
    {
     "data": {
      "text/plain": [
       "<Figure size 432x288 with 0 Axes>"
      ]
     },
     "metadata": {},
     "output_type": "display_data"
    }
   ],
   "source": [
    "get_curves(model_history)"
   ]
  },
  {
   "cell_type": "code",
   "execution_count": 25,
   "id": "fd262894",
   "metadata": {},
   "outputs": [
    {
     "data": {
      "text/plain": [
       "(21892, 187)"
      ]
     },
     "execution_count": 25,
     "metadata": {},
     "output_type": "execute_result"
    }
   ],
   "source": [
    "test_data = pd.read_csv('mitbih_test.csv',header = None)\n",
    "test_data = np.array(test_data)\n",
    "test_labels = test_data[:,-1]\n",
    "test_data = test_data[:,:-1]\n",
    "test_data.shape"
   ]
  },
  {
   "cell_type": "code",
   "execution_count": 26,
   "id": "bb1676f0",
   "metadata": {},
   "outputs": [
    {
     "name": "stderr",
     "output_type": "stream",
     "text": [
      "C:\\Users\\Prafful\\AppData\\Local\\Temp\\ipykernel_15640\\1299854655.py:10: VisibleDeprecationWarning: Creating an ndarray from ragged nested sequences (which is a list-or-tuple of lists-or-tuples-or ndarrays with different lengths or shapes) is deprecated. If you meant to do this, you must specify 'dtype=object' when creating the ndarray.\n",
      "  samples = np.array([np.array(xi) for xi in samples])\n",
      "C:\\Users\\Prafful\\AppData\\Local\\Temp\\ipykernel_15640\\1046651556.py:7: VisibleDeprecationWarning: Creating an ndarray from ragged nested sequences (which is a list-or-tuple of lists-or-tuples-or ndarrays with different lengths or shapes) is deprecated. If you meant to do this, you must specify 'dtype=object' when creating the ndarray.\n",
      "  imfs = np.array(imfs)\n"
     ]
    }
   ],
   "source": [
    "temp0 = get_samples(test_data)\n",
    "test_imfs = get_imfs(temp0)"
   ]
  },
  {
   "cell_type": "code",
   "execution_count": 27,
   "id": "2d0f37a1",
   "metadata": {},
   "outputs": [
    {
     "data": {
      "text/plain": [
       "(21892,)"
      ]
     },
     "execution_count": 27,
     "metadata": {},
     "output_type": "execute_result"
    }
   ],
   "source": [
    "test_imfs.shape"
   ]
  },
  {
   "cell_type": "code",
   "execution_count": 28,
   "id": "b5d525e9",
   "metadata": {},
   "outputs": [],
   "source": [
    "final_features = pad_imfs(test_imfs)\n",
    "final_target = to_categorical(test_labels)"
   ]
  },
  {
   "cell_type": "code",
   "execution_count": 29,
   "id": "6b5f246f",
   "metadata": {},
   "outputs": [
    {
     "data": {
      "text/plain": [
       "((21892, 186, 6), (21892, 5))"
      ]
     },
     "execution_count": 29,
     "metadata": {},
     "output_type": "execute_result"
    }
   ],
   "source": [
    "(final_features.shape,final_target.shape)"
   ]
  },
  {
   "cell_type": "code",
   "execution_count": 34,
   "id": "47ccafbb",
   "metadata": {},
   "outputs": [
    {
     "name": "stdout",
     "output_type": "stream",
     "text": [
      "685/685 [==============================] - 1s 2ms/step - loss: 0.2696 - accuracy: 0.9306\n"
     ]
    },
    {
     "data": {
      "text/plain": [
       "[0.26955801248550415, 0.9305682182312012]"
      ]
     },
     "execution_count": 34,
     "metadata": {},
     "output_type": "execute_result"
    }
   ],
   "source": [
    "model.evaluate(final_features,final_target)"
   ]
  }
 ],
 "metadata": {
  "kernelspec": {
   "display_name": "Python 3 (ipykernel)",
   "language": "python",
   "name": "python3"
  },
  "language_info": {
   "codemirror_mode": {
    "name": "ipython",
    "version": 3
   },
   "file_extension": ".py",
   "mimetype": "text/x-python",
   "name": "python",
   "nbconvert_exporter": "python",
   "pygments_lexer": "ipython3",
   "version": "3.9.12"
  }
 },
 "nbformat": 4,
 "nbformat_minor": 5
}
