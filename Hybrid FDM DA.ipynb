{
 "cells": [
  {
   "cell_type": "code",
   "execution_count": 1,
   "id": "77ae267c",
   "metadata": {},
   "outputs": [],
   "source": [
    "from scipy.signal import hilbert\n",
    "import math\n",
    "from scipy.fft import fft\n",
    "from scipy.signal import unit_impulse as imp\n",
    "import numpy as np\n",
    "import pandas as pd\n",
    "import matplotlib.pyplot as plt\n",
    "import emd\n",
    "from fdm import fdm"
   ]
  },
  {
   "cell_type": "code",
   "execution_count": 2,
   "id": "e7b8a028",
   "metadata": {},
   "outputs": [],
   "source": [
    "data = pd.read_csv('mitbih_train.csv',header = None)\n",
    "data = np.array(data)\n",
    "labels = data[:,-1]\n",
    "data = data[:,0:-1]"
   ]
  },
  {
   "cell_type": "code",
   "execution_count": 3,
   "id": "d84749e7",
   "metadata": {},
   "outputs": [
    {
     "name": "stderr",
     "output_type": "stream",
     "text": [
      "C:\\Users\\Prafful\\AppData\\Local\\Temp\\ipykernel_14512\\1299854655.py:10: VisibleDeprecationWarning: Creating an ndarray from ragged nested sequences (which is a list-or-tuple of lists-or-tuples-or ndarrays with different lengths or shapes) is deprecated. If you meant to do this, you must specify 'dtype=object' when creating the ndarray.\n",
      "  samples = np.array([np.array(xi) for xi in samples])\n"
     ]
    }
   ],
   "source": [
    "def get_samples(data):\n",
    "    def remove_padding(data):\n",
    "        end = len(data)-1\n",
    "        while data[end]==0:\n",
    "            end=end-1\n",
    "        return data[:end]\n",
    "    samples = []\n",
    "    for i in range(len(data)):\n",
    "        samples.append(remove_padding(data[i]))\n",
    "    samples = np.array([np.array(xi) for xi in samples])\n",
    "    return samples\n",
    "sample = get_samples(data)"
   ]
  },
  {
   "cell_type": "code",
   "execution_count": 4,
   "id": "74a38656",
   "metadata": {},
   "outputs": [
    {
     "data": {
      "text/plain": [
       "87554"
      ]
     },
     "execution_count": 4,
     "metadata": {},
     "output_type": "execute_result"
    }
   ],
   "source": [
    "len(sample)"
   ]
  },
  {
   "cell_type": "code",
   "execution_count": 5,
   "id": "ac19e9ee",
   "metadata": {},
   "outputs": [
    {
     "data": {
      "text/plain": [
       "641"
      ]
     },
     "execution_count": 5,
     "metadata": {},
     "output_type": "execute_result"
    }
   ],
   "source": [
    "labelwise_data = [[],[],[],[],[]]\n",
    "for i in range(0,len(sample)):\n",
    "    val = labels[i]\n",
    "    val = int(val)\n",
    "    labelwise_data[val].append(sample[i])\n",
    "len(labelwise_data[3])"
   ]
  },
  {
   "cell_type": "code",
   "execution_count": 6,
   "id": "07f063ab",
   "metadata": {},
   "outputs": [
    {
     "data": {
      "text/plain": [
       "641"
      ]
     },
     "execution_count": 6,
     "metadata": {},
     "output_type": "execute_result"
    }
   ],
   "source": [
    "curr = 3\n",
    "label_data = labelwise_data[curr]\n",
    "len(label_data)"
   ]
  },
  {
   "cell_type": "code",
   "execution_count": 7,
   "id": "42503658",
   "metadata": {},
   "outputs": [
    {
     "data": {
      "text/plain": [
       "79"
      ]
     },
     "execution_count": 7,
     "metadata": {},
     "output_type": "execute_result"
    }
   ],
   "source": [
    "len(label_data[0])"
   ]
  },
  {
   "cell_type": "code",
   "execution_count": 8,
   "id": "16df6c4d",
   "metadata": {},
   "outputs": [],
   "source": [
    "def phase_shift(samples,alpha):\n",
    "    shifted = []\n",
    "    samples = np.array(samples)\n",
    "    for data in samples:\n",
    "        transformed = hilbert(data)\n",
    "        for val in alpha:\n",
    "            temp = data*math.cos(val) + transformed*math.sin(val)\n",
    "            shifted.append(np.array(temp.real))\n",
    "    return np.array(shifted)"
   ]
  },
  {
   "cell_type": "code",
   "execution_count": 9,
   "id": "a5d3aacf",
   "metadata": {},
   "outputs": [
    {
     "data": {
      "text/plain": [
       "[72471, 2223, 5788, 641, 6431]"
      ]
     },
     "execution_count": 9,
     "metadata": {},
     "output_type": "execute_result"
    }
   ],
   "source": [
    "label_length = [len(labelwise_data[0]),len(labelwise_data[1]),len(labelwise_data[2]),len(labelwise_data[3]),len(labelwise_data[4])]\n",
    "label_length"
   ]
  },
  {
   "cell_type": "code",
   "execution_count": 10,
   "id": "07100e94",
   "metadata": {},
   "outputs": [],
   "source": [
    "fs = 125\n",
    "def create_fibfs(samples):\n",
    "    fibfs = []\n",
    "    for i in range(0,len(samples),1):\n",
    "        sample = samples[i]\n",
    "        sample=np.reshape(sample,(len(sample),1))\n",
    "        fibfs.append(fdm(sample,fs=125,fc=np.array([0,10,20,30,40]),filter_type='dct',plot_subbands=False))\n",
    "    return np.array(fibfs)\n",
    "\n",
    "maximum=186\n",
    "        \n",
    "def create_spectrum(fibfs):\n",
    "    sample_rate = 125\n",
    "    f=0\n",
    "    hht=0\n",
    "    f_arr = []\n",
    "    hht_arr = []\n",
    "    for i in range(0,len(fibfs),1):\n",
    "        IP, IF, IA = emd.spectra.frequency_transform(fibfs[i],sample_rate,'hilbert')\n",
    "        freq_range = (0.1,10,80,'log')\n",
    "        f, hht = emd.spectra.hilberthuang(IF,IA,freq_range,sum_time=False)\n",
    "        \n",
    "        f_arr.append(np.asarray(f))\n",
    "        \n",
    "        \n",
    "        if len(hht[0])<maximum :\n",
    "            final_hht = []\n",
    "            for a in range(0,len(hht),1):\n",
    "                length = len(hht[0])\n",
    "                temp = list(hht[a])\n",
    "                for b in range(0,186-length,1):\n",
    "                    temp.append(0)\n",
    "                final_hht.append(temp)\n",
    "            hht_arr.append(np.asarray(final_hht))\n",
    "        \n",
    "        else:\n",
    "            hht_arr.append(hht)\n",
    "            \n",
    "            \n",
    "    return np.asarray(f_arr),np.asarray(hht_arr)"
   ]
  },
  {
   "cell_type": "code",
   "execution_count": 11,
   "id": "adde2a96",
   "metadata": {},
   "outputs": [
    {
     "name": "stderr",
     "output_type": "stream",
     "text": [
      "C:\\Users\\Prafful\\AppData\\Local\\Temp\\ipykernel_14512\\3316496239.py:1: VisibleDeprecationWarning: Creating an ndarray from ragged nested sequences (which is a list-or-tuple of lists-or-tuples-or ndarrays with different lengths or shapes) is deprecated. If you meant to do this, you must specify 'dtype=object' when creating the ndarray.\n",
      "  new_sample_0 = np.array(labelwise_data[0][0:6500])\n",
      "C:\\Users\\Prafful\\AppData\\Local\\Temp\\ipykernel_14512\\3316496239.py:4: VisibleDeprecationWarning: Creating an ndarray from ragged nested sequences (which is a list-or-tuple of lists-or-tuples-or ndarrays with different lengths or shapes) is deprecated. If you meant to do this, you must specify 'dtype=object' when creating the ndarray.\n",
      "  temp1 = np.array(labelwise_data[1][0:2223])\n",
      "C:\\Users\\Prafful\\AppData\\Local\\Temp\\ipykernel_14512\\4105871267.py:3: VisibleDeprecationWarning: Creating an ndarray from ragged nested sequences (which is a list-or-tuple of lists-or-tuples-or ndarrays with different lengths or shapes) is deprecated. If you meant to do this, you must specify 'dtype=object' when creating the ndarray.\n",
      "  samples = np.array(samples)\n",
      "C:\\Users\\Prafful\\AppData\\Local\\Temp\\ipykernel_14512\\4105871267.py:9: VisibleDeprecationWarning: Creating an ndarray from ragged nested sequences (which is a list-or-tuple of lists-or-tuples-or ndarrays with different lengths or shapes) is deprecated. If you meant to do this, you must specify 'dtype=object' when creating the ndarray.\n",
      "  return np.array(shifted)\n",
      "C:\\Users\\Prafful\\AppData\\Local\\Temp\\ipykernel_14512\\3316496239.py:14: VisibleDeprecationWarning: Creating an ndarray from ragged nested sequences (which is a list-or-tuple of lists-or-tuples-or ndarrays with different lengths or shapes) is deprecated. If you meant to do this, you must specify 'dtype=object' when creating the ndarray.\n",
      "  temp1 = np.array(labelwise_data[3][:])\n",
      "C:\\Users\\Prafful\\AppData\\Local\\Temp\\ipykernel_14512\\3316496239.py:19: VisibleDeprecationWarning: Creating an ndarray from ragged nested sequences (which is a list-or-tuple of lists-or-tuples-or ndarrays with different lengths or shapes) is deprecated. If you meant to do this, you must specify 'dtype=object' when creating the ndarray.\n",
      "  new_sample_4 = np.array(labelwise_data[4][:])\n"
     ]
    }
   ],
   "source": [
    "new_sample_0 = np.array(labelwise_data[0][0:6500])\n",
    "temp_label_0 = np.full(new_sample_0.shape[0],0)\n",
    "## for label 1:\n",
    "temp1 = np.array(labelwise_data[1][0:2223])\n",
    "temp2 = phase_shift(labelwise_data[1][0:2139],alpha = [math.pi/3,math.pi/6])\n",
    "new_sample_1 = np.concatenate((temp1,temp2))\n",
    "temp_label_1 = np.full(new_sample_1.shape[0],1)\n",
    "## for label 2:\n",
    "temp1 = np.array(labelwise_data[2][0:5788])\n",
    "temp2 = phase_shift(labelwise_data[2][0:356],alpha = [math.pi/3,math.pi/6])\n",
    "new_sample_2 = np.concatenate((temp1,temp2))\n",
    "temp_label_2 = np.full(new_sample_2.shape[0],2)\n",
    "## for label 3:\n",
    "temp1 = np.array(labelwise_data[3][:])\n",
    "temp2 = phase_shift(labelwise_data[3][:],alpha = [math.pi/3,math.pi/6,math.pi/8,math.pi/10,math.pi/12,math.pi/14,math.pi/16,math.pi/19,math.pi/20])\n",
    "new_sample_3 = np.concatenate((temp1,temp2))\n",
    "temp_label_3 = np.full(new_sample_3.shape[0],3)\n",
    "## for label 4:\n",
    "new_sample_4 = np.array(labelwise_data[4][:])\n",
    "temp_label_4 = np.full(new_sample_4.shape[0],4)\n",
    "\n",
    "temp_samples = np.concatenate((new_sample_0,new_sample_1,new_sample_2,new_sample_3,new_sample_4))\n",
    "temp_labels = np.concatenate((temp_label_0,temp_label_1,temp_label_2,temp_label_3,temp_label_4))"
   ]
  },
  {
   "cell_type": "code",
   "execution_count": 12,
   "id": "493622ae",
   "metadata": {},
   "outputs": [
    {
     "data": {
      "text/plain": [
       "(32342,)"
      ]
     },
     "execution_count": 12,
     "metadata": {},
     "output_type": "execute_result"
    }
   ],
   "source": [
    "temp_labels.shape"
   ]
  },
  {
   "cell_type": "code",
   "execution_count": 13,
   "id": "ebc91293",
   "metadata": {},
   "outputs": [
    {
     "data": {
      "text/plain": [
       "(32342,)"
      ]
     },
     "execution_count": 13,
     "metadata": {},
     "output_type": "execute_result"
    }
   ],
   "source": [
    "temp_samples.shape"
   ]
  },
  {
   "cell_type": "code",
   "execution_count": 14,
   "id": "6d653cd7",
   "metadata": {},
   "outputs": [],
   "source": [
    "idx = np.random.permutation(len(temp_samples))\n",
    "shuffled_samples , training_labels = temp_samples[idx], temp_labels[idx]"
   ]
  },
  {
   "cell_type": "code",
   "execution_count": 15,
   "id": "1aa5f9a5",
   "metadata": {},
   "outputs": [
    {
     "name": "stderr",
     "output_type": "stream",
     "text": [
      "C:\\Users\\Prafful\\AppData\\Local\\Temp\\ipykernel_14512\\2876654152.py:8: VisibleDeprecationWarning: Creating an ndarray from ragged nested sequences (which is a list-or-tuple of lists-or-tuples-or ndarrays with different lengths or shapes) is deprecated. If you meant to do this, you must specify 'dtype=object' when creating the ndarray.\n",
      "  return np.array(fibfs)\n"
     ]
    }
   ],
   "source": [
    "temp_features = create_fibfs(shuffled_samples)"
   ]
  },
  {
   "cell_type": "code",
   "execution_count": 16,
   "id": "a9bed993",
   "metadata": {},
   "outputs": [],
   "source": [
    "max_imfs = 0\n",
    "for imf in temp_features:\n",
    "    (x,y) = imf.shape\n",
    "    max_imfs = max(y,max_imfs)\n",
    "def pad_imfs(imfs):\n",
    "    final = []\n",
    "    for imf in imfs:\n",
    "        (x,y) = imf.shape\n",
    "        if y<6:\n",
    "            temp_imf = []\n",
    "            for each_period in imf:\n",
    "                temp_imf.append(np.pad(each_period,(0,6-y),'constant',constant_values=(0,0)))\n",
    "            imf = np.array(temp_imf)\n",
    "        \n",
    "        if x<maximum :\n",
    "            pading_log = np.zeros((maximum-x,6))\n",
    "            final.append(np.concatenate((imf,pading_log)))\n",
    "        else:\n",
    "            final.append(imf)\n",
    "    return np.array(final)\n",
    "features = pad_imfs(temp_features)"
   ]
  },
  {
   "cell_type": "code",
   "execution_count": 17,
   "id": "1f2470a3",
   "metadata": {
    "scrolled": true
   },
   "outputs": [
    {
     "data": {
      "text/plain": [
       "<AxesSubplot:xlabel='Time (samples)'>"
      ]
     },
     "execution_count": 17,
     "metadata": {},
     "output_type": "execute_result"
    },
    {
     "data": {
      "image/png": "[encoded data removed]",
      "text/plain": [
       "<Figure size 1152x720 with 1 Axes>"
      ]
     },
     "metadata": {
      "needs_background": "light"
     },
     "output_type": "display_data"
    }
   ],
   "source": [
    "emd.plotting.plot_imfs(features[0])"
   ]
  },
  {
   "cell_type": "code",
   "execution_count": 18,
   "id": "bb2c977c",
   "metadata": {},
   "outputs": [],
   "source": [
    "def create_spectrum(imfs):\n",
    "    sample_rate = 125\n",
    "    f=0\n",
    "    hht=0\n",
    "    f_arr = []\n",
    "    hht_arr = []\n",
    "    for i in range(0,len(imfs),1):\n",
    "        IP, IF, IA = emd.spectra.frequency_transform(imfs[i],sample_rate,'hilbert')\n",
    "        freq_range = (0.1,10,80,'log')\n",
    "        f, hht = emd.spectra.hilberthuang(IF,IA,freq_range,sum_time=False)\n",
    "        \n",
    "        \n",
    "        f_arr.append(np.asarray(f))\n",
    "        \n",
    "        \n",
    "        if len(hht[0])<maximum :\n",
    "            final_hht = []\n",
    "            for a in range(0,len(hht),1):\n",
    "                length = len(hht[0])\n",
    "                temp = list(hht[a])\n",
    "                for b in range(0,186-length,1):\n",
    "                    temp.append(0)\n",
    "                final_hht.append(temp)\n",
    "            hht_arr.append(np.asarray(final_hht))\n",
    "        else:\n",
    "            hht_arr.append(hht)\n",
    "            \n",
    "            \n",
    "    return np.asarray(f_arr),np.asarray(hht_arr)\n",
    "image_f,image_hht = create_spectrum(temp_features)"
   ]
  },
  {
   "cell_type": "markdown",
   "id": "ea9a3657",
   "metadata": {},
   "source": [
    "# Learning Arena"
   ]
  },
  {
   "cell_type": "code",
   "execution_count": 26,
   "id": "7176dd42",
   "metadata": {},
   "outputs": [],
   "source": [
    "def get_curves(history):\n",
    "    acc = history.history['accuracy']\n",
    "    val_acc = history.history['val_accuracy']\n",
    "    loss = history.history['loss']\n",
    "    val_loss = history.history['val_loss']\n",
    "    \n",
    "    epochs = range(1,len(acc)+1)\n",
    "    \n",
    "    plt.plot(epochs,acc,'bo',label = 'Training and Validation acc')\n",
    "    plt.plot(epochs,val_acc,'b',label = 'Validation acc')\n",
    "    plt.title('Training Accuracy')\n",
    "    plt.legend()\n",
    "    plt.figure()\n",
    "    \n",
    "    plt.plot(epochs,loss,'bo',label='Training and Validation Loss')\n",
    "    plt.plot(epochs,val_loss,'b',label='Validation Loss')\n",
    "    plt.title('Training Loss')\n",
    "    plt.legend()\n",
    "    plt.figure()"
   ]
  },
  {
   "cell_type": "code",
   "execution_count": 20,
   "id": "42feccba",
   "metadata": {},
   "outputs": [],
   "source": [
    "from keras.utils import to_categorical\n",
    "labels = to_categorical(training_labels)"
   ]
  },
  {
   "cell_type": "code",
   "execution_count": 21,
   "id": "56569b1b",
   "metadata": {},
   "outputs": [],
   "source": [
    "from keras import layers,models\n",
    "\n",
    "def get_1dconv():\n",
    "    input_seq = layers.Input(shape = (186,6))\n",
    "    conv1 = layers.Conv1D(24,7,padding=\"same\", activation=\"relu\")(input_seq)\n",
    "    pool1 = layers.MaxPooling1D(5)(conv1)\n",
    "    conv2 = layers.Conv1D(24,7,padding=\"same\", activation=\"relu\")(pool1)\n",
    "    processed = layers.GlobalMaxPooling1D()(conv2)\n",
    "    compressed = layers.Dense(50, activation=\"relu\")(processed)\n",
    "    compressed = layers.Dropout(0.3)(compressed)\n",
    "    model = models.Model(inputs=input_seq,outputs=compressed)\n",
    "    return model\n",
    "\n",
    "def get_2dconv():\n",
    "    model = models.Sequential()\n",
    "    model.add(layers.Conv2D(32,(3,3),activation = 'relu', input_shape=(80,186,1)))\n",
    "    model.add(layers.MaxPooling2D((2,2)))\n",
    "    model.add(layers.Conv2D(64,(3,3),activation='relu'))\n",
    "    model.add(layers.MaxPooling2D((2,2)))\n",
    "    model.add(layers.Dropout(0.5))\n",
    "    model.add(layers.Flatten())\n",
    "    model.add(layers.Dense(64,activation='relu'))\n",
    "    model.add(layers.Dropout(0.5))\n",
    "    return model\n",
    "\n",
    "def get_model():\n",
    "    conv1D = get_1dconv()\n",
    "    conv2D = get_2dconv()\n",
    "    t_series_input = layers.Input(shape=(186,6))\n",
    "    image_input = layers.Input(shape=(80,186,1))\n",
    "\n",
    "    inp1 = conv1D(t_series_input)\n",
    "    inp2 = conv2D(image_input)\n",
    "\n",
    "    merged = layers.Concatenate()([inp1,inp2])\n",
    "\n",
    "    out = layers.Dense(5, activation='softmax')(merged)\n",
    "\n",
    "    model = models.Model(inputs=[t_series_input,image_input], outputs=out)\n",
    "    model.compile(optimizer = 'RMSprop',loss='categorical_crossentropy',metrics=['accuracy'])\n",
    "    return model\n",
    "##model_history = model.fit(features,labels,epochs=75,validation_split=0.2)"
   ]
  },
  {
   "cell_type": "code",
   "execution_count": 22,
   "id": "6b7d8e22",
   "metadata": {},
   "outputs": [
    {
     "name": "stdout",
     "output_type": "stream",
     "text": [
      "Epoch 1/50\n",
      "809/809 [==============================] - 194s 238ms/step - loss: 0.5376 - accuracy: 0.8146 - val_loss: 0.3215 - val_accuracy: 0.8816\n",
      "Epoch 2/50\n",
      "809/809 [==============================] - 207s 255ms/step - loss: 0.3391 - accuracy: 0.8861 - val_loss: 0.2832 - val_accuracy: 0.9020\n",
      "Epoch 3/50\n",
      "809/809 [==============================] - 189s 233ms/step - loss: 0.2807 - accuracy: 0.9045 - val_loss: 0.2583 - val_accuracy: 0.9139\n",
      "Epoch 4/50\n",
      "809/809 [==============================] - 189s 234ms/step - loss: 0.2502 - accuracy: 0.9132 - val_loss: 0.2226 - val_accuracy: 0.9252\n",
      "Epoch 5/50\n",
      "809/809 [==============================] - 191s 237ms/step - loss: 0.2278 - accuracy: 0.9213 - val_loss: 0.2244 - val_accuracy: 0.9277\n",
      "Epoch 6/50\n",
      "809/809 [==============================] - 190s 235ms/step - loss: 0.2134 - accuracy: 0.9272 - val_loss: 0.2022 - val_accuracy: 0.9326\n",
      "Epoch 7/50\n",
      "809/809 [==============================] - 192s 238ms/step - loss: 0.2011 - accuracy: 0.9330 - val_loss: 0.1657 - val_accuracy: 0.9423\n",
      "Epoch 8/50\n",
      "809/809 [==============================] - 192s 238ms/step - loss: 0.1895 - accuracy: 0.9348 - val_loss: 0.1653 - val_accuracy: 0.9437\n",
      "Epoch 9/50\n",
      "809/809 [==============================] - 192s 237ms/step - loss: 0.1849 - accuracy: 0.9371 - val_loss: 0.1422 - val_accuracy: 0.9518\n",
      "Epoch 10/50\n",
      "809/809 [==============================] - 210s 259ms/step - loss: 0.1775 - accuracy: 0.9392 - val_loss: 0.1410 - val_accuracy: 0.9518\n",
      "Epoch 11/50\n",
      "809/809 [==============================] - 207s 256ms/step - loss: 0.1661 - accuracy: 0.9430 - val_loss: 0.1555 - val_accuracy: 0.9479\n",
      "Epoch 12/50\n",
      "809/809 [==============================] - 192s 237ms/step - loss: 0.1635 - accuracy: 0.9440 - val_loss: 0.1865 - val_accuracy: 0.9428\n",
      "Epoch 13/50\n",
      "809/809 [==============================] - 192s 237ms/step - loss: 0.1653 - accuracy: 0.9444 - val_loss: 0.1863 - val_accuracy: 0.9345\n",
      "Epoch 14/50\n",
      "809/809 [==============================] - 192s 237ms/step - loss: 0.1541 - accuracy: 0.9478 - val_loss: 0.1741 - val_accuracy: 0.9476\n",
      "Epoch 15/50\n",
      "809/809 [==============================] - 192s 237ms/step - loss: 0.1556 - accuracy: 0.9481 - val_loss: 0.1682 - val_accuracy: 0.9416\n",
      "Epoch 16/50\n",
      "809/809 [==============================] - 191s 236ms/step - loss: 0.1486 - accuracy: 0.9504 - val_loss: 0.1313 - val_accuracy: 0.9553\n",
      "Epoch 17/50\n",
      "809/809 [==============================] - 191s 237ms/step - loss: 0.1475 - accuracy: 0.9496 - val_loss: 0.1934 - val_accuracy: 0.9445\n",
      "Epoch 18/50\n",
      "809/809 [==============================] - 191s 236ms/step - loss: 0.1450 - accuracy: 0.9517 - val_loss: 0.1276 - val_accuracy: 0.9587\n",
      "Epoch 19/50\n",
      "809/809 [==============================] - 192s 237ms/step - loss: 0.1484 - accuracy: 0.9516 - val_loss: 0.1261 - val_accuracy: 0.9566\n",
      "Epoch 20/50\n",
      "809/809 [==============================] - 191s 236ms/step - loss: 0.1511 - accuracy: 0.9532 - val_loss: 0.1272 - val_accuracy: 0.9590\n",
      "Epoch 21/50\n",
      "809/809 [==============================] - 191s 236ms/step - loss: 0.1438 - accuracy: 0.9522 - val_loss: 0.1457 - val_accuracy: 0.9501\n",
      "Epoch 22/50\n",
      "809/809 [==============================] - 191s 236ms/step - loss: 0.1496 - accuracy: 0.9526 - val_loss: 0.1732 - val_accuracy: 0.9495\n",
      "Epoch 23/50\n",
      "809/809 [==============================] - 191s 236ms/step - loss: 0.1481 - accuracy: 0.9528 - val_loss: 0.1558 - val_accuracy: 0.9487\n",
      "Epoch 24/50\n",
      "809/809 [==============================] - 193s 238ms/step - loss: 0.1472 - accuracy: 0.9518 - val_loss: 0.1422 - val_accuracy: 0.9478\n",
      "Epoch 25/50\n",
      "809/809 [==============================] - 191s 236ms/step - loss: 0.1398 - accuracy: 0.9551 - val_loss: 0.1390 - val_accuracy: 0.9559\n",
      "Epoch 26/50\n",
      "809/809 [==============================] - 191s 236ms/step - loss: 0.1415 - accuracy: 0.9558 - val_loss: 0.1355 - val_accuracy: 0.9563\n",
      "Epoch 27/50\n",
      "809/809 [==============================] - 191s 236ms/step - loss: 0.1387 - accuracy: 0.9564 - val_loss: 0.1319 - val_accuracy: 0.9587\n",
      "Epoch 28/50\n",
      "809/809 [==============================] - 191s 236ms/step - loss: 0.1383 - accuracy: 0.9567 - val_loss: 0.1153 - val_accuracy: 0.9623\n",
      "Epoch 29/50\n",
      "809/809 [==============================] - 191s 237ms/step - loss: 0.1322 - accuracy: 0.9569 - val_loss: 0.1476 - val_accuracy: 0.9515\n",
      "Epoch 30/50\n",
      "809/809 [==============================] - 191s 236ms/step - loss: 0.1287 - accuracy: 0.9571 - val_loss: 0.1329 - val_accuracy: 0.9556\n",
      "Epoch 31/50\n",
      "809/809 [==============================] - 191s 236ms/step - loss: 0.1217 - accuracy: 0.9590 - val_loss: 0.1188 - val_accuracy: 0.9612\n",
      "Epoch 32/50\n",
      "809/809 [==============================] - 191s 236ms/step - loss: 0.1283 - accuracy: 0.9581 - val_loss: 0.1258 - val_accuracy: 0.9620\n",
      "Epoch 33/50\n",
      "809/809 [==============================] - 191s 236ms/step - loss: 0.1261 - accuracy: 0.9593 - val_loss: 0.1174 - val_accuracy: 0.9612\n",
      "Epoch 34/50\n",
      "809/809 [==============================] - 191s 236ms/step - loss: 0.1241 - accuracy: 0.9597 - val_loss: 0.1406 - val_accuracy: 0.9570\n",
      "Epoch 35/50\n",
      "809/809 [==============================] - 191s 236ms/step - loss: 0.1274 - accuracy: 0.9594 - val_loss: 0.1263 - val_accuracy: 0.9609\n",
      "Epoch 36/50\n",
      "809/809 [==============================] - 191s 236ms/step - loss: 0.1217 - accuracy: 0.9610 - val_loss: 0.1151 - val_accuracy: 0.9604\n",
      "Epoch 37/50\n",
      "809/809 [==============================] - 191s 236ms/step - loss: 0.1240 - accuracy: 0.9611 - val_loss: 0.1319 - val_accuracy: 0.9587\n",
      "Epoch 38/50\n",
      "809/809 [==============================] - 192s 237ms/step - loss: 0.1208 - accuracy: 0.9610 - val_loss: 0.1383 - val_accuracy: 0.9576\n",
      "Epoch 39/50\n",
      "809/809 [==============================] - 192s 237ms/step - loss: 0.1269 - accuracy: 0.9615 - val_loss: 0.1243 - val_accuracy: 0.9606\n",
      "Epoch 40/50\n",
      "809/809 [==============================] - 191s 236ms/step - loss: 0.1251 - accuracy: 0.9622 - val_loss: 0.1348 - val_accuracy: 0.9559\n",
      "Epoch 41/50\n",
      "809/809 [==============================] - 191s 236ms/step - loss: 0.1229 - accuracy: 0.9624 - val_loss: 0.2571 - val_accuracy: 0.9266\n",
      "Epoch 42/50\n",
      "809/809 [==============================] - 191s 236ms/step - loss: 0.1162 - accuracy: 0.9641 - val_loss: 0.1306 - val_accuracy: 0.9573\n",
      "Epoch 43/50\n",
      "809/809 [==============================] - 192s 238ms/step - loss: 0.1187 - accuracy: 0.9621 - val_loss: 0.1358 - val_accuracy: 0.9576\n",
      "Epoch 44/50\n",
      "809/809 [==============================] - 191s 236ms/step - loss: 0.1187 - accuracy: 0.9648 - val_loss: 0.2698 - val_accuracy: 0.9400\n",
      "Epoch 45/50\n",
      "809/809 [==============================] - 191s 236ms/step - loss: 0.1200 - accuracy: 0.9630 - val_loss: 0.1740 - val_accuracy: 0.9564\n",
      "Epoch 46/50\n",
      "809/809 [==============================] - 191s 236ms/step - loss: 0.1186 - accuracy: 0.9634 - val_loss: 0.1518 - val_accuracy: 0.9587\n",
      "Epoch 47/50\n",
      "809/809 [==============================] - 191s 236ms/step - loss: 0.1197 - accuracy: 0.9636 - val_loss: 0.1362 - val_accuracy: 0.9589\n",
      "Epoch 48/50\n",
      "809/809 [==============================] - 192s 237ms/step - loss: 0.1208 - accuracy: 0.9617 - val_loss: 0.1941 - val_accuracy: 0.9518\n",
      "Epoch 49/50\n",
      "809/809 [==============================] - 191s 236ms/step - loss: 0.1163 - accuracy: 0.9640 - val_loss: 0.1376 - val_accuracy: 0.9556\n",
      "Epoch 50/50\n",
      "809/809 [==============================] - 191s 236ms/step - loss: 0.1224 - accuracy: 0.9639 - val_loss: 0.1109 - val_accuracy: 0.9638\n"
     ]
    },
    {
     "data": {
      "image/png": "[encoded data removed]",
      "text/plain": [
       "<Figure size 432x288 with 1 Axes>"
      ]
     },
     "metadata": {
      "needs_background": "light"
     },
     "output_type": "display_data"
    },
    {
     "data": {
      "image/png": "[encoded data removed]",
      "text/plain": [
       "<Figure size 432x288 with 1 Axes>"
      ]
     },
     "metadata": {
      "needs_background": "light"
     },
     "output_type": "display_data"
    },
    {
     "data": {
      "text/plain": [
       "<Figure size 432x288 with 0 Axes>"
      ]
     },
     "metadata": {},
     "output_type": "display_data"
    }
   ],
   "source": [
    "temp_model = get_model()\n",
    "history = temp_model.fit([features,image_hht],labels,epochs=50,validation_split=0.2)\n",
    "get_curves(history)"
   ]
  },
  {
   "cell_type": "code",
   "execution_count": 27,
   "id": "f85d6b50",
   "metadata": {},
   "outputs": [
    {
     "data": {
      "image/png": "[encoded data removed]",
      "text/plain": [
       "<Figure size 432x288 with 1 Axes>"
      ]
     },
     "metadata": {
      "needs_background": "light"
     },
     "output_type": "display_data"
    },
    {
     "data": {
      "image/png": "[encoded data removed]",
      "text/plain": [
       "<Figure size 432x288 with 1 Axes>"
      ]
     },
     "metadata": {
      "needs_background": "light"
     },
     "output_type": "display_data"
    },
    {
     "data": {
      "text/plain": [
       "<Figure size 432x288 with 0 Axes>"
      ]
     },
     "metadata": {},
     "output_type": "display_data"
    }
   ],
   "source": [
    "get_curves(history)"
   ]
  },
  {
   "cell_type": "code",
   "execution_count": 27,
   "id": "13d2f15d",
   "metadata": {
    "scrolled": true
   },
   "outputs": [
    {
     "name": "stdout",
     "output_type": "stream",
     "text": [
      "Epoch 1/50\n",
      "759/759 [==============================] - 172s 224ms/step - loss: 0.5492 - accuracy: 0.8136\n",
      "Epoch 2/50\n",
      "759/759 [==============================] - 170s 223ms/step - loss: 0.3485 - accuracy: 0.8829\n",
      "Epoch 3/50\n",
      "759/759 [==============================] - 172s 227ms/step - loss: 0.2937 - accuracy: 0.9009\n",
      "Epoch 4/50\n",
      "759/759 [==============================] - 172s 227ms/step - loss: 0.2569 - accuracy: 0.9125\n",
      "Epoch 5/50\n",
      "759/759 [==============================] - 175s 230ms/step - loss: 0.2361 - accuracy: 0.9206\n",
      "Epoch 6/50\n",
      "759/759 [==============================] - 173s 228ms/step - loss: 0.2212 - accuracy: 0.9256\n",
      "Epoch 7/50\n",
      "759/759 [==============================] - 173s 228ms/step - loss: 0.2044 - accuracy: 0.9298\n",
      "Epoch 8/50\n",
      "759/759 [==============================] - 174s 230ms/step - loss: 0.1965 - accuracy: 0.9332\n",
      "Epoch 9/50\n",
      "759/759 [==============================] - 175s 230ms/step - loss: 0.1917 - accuracy: 0.9347\n",
      "Epoch 10/50\n",
      "759/759 [==============================] - 180s 238ms/step - loss: 0.1799 - accuracy: 0.9387\n",
      "Epoch 11/50\n",
      "759/759 [==============================] - 173s 228ms/step - loss: 0.1785 - accuracy: 0.9394\n",
      "Epoch 12/50\n",
      "759/759 [==============================] - 172s 227ms/step - loss: 0.1723 - accuracy: 0.9433\n",
      "Epoch 13/50\n",
      "759/759 [==============================] - 173s 228ms/step - loss: 0.1702 - accuracy: 0.9428\n",
      "Epoch 14/50\n",
      "759/759 [==============================] - 173s 228ms/step - loss: 0.1655 - accuracy: 0.9448\n",
      "Epoch 15/50\n",
      "759/759 [==============================] - 173s 228ms/step - loss: 0.1595 - accuracy: 0.9455\n",
      "Epoch 16/50\n",
      "759/759 [==============================] - 173s 228ms/step - loss: 0.1617 - accuracy: 0.9471\n",
      "Epoch 17/50\n",
      "759/759 [==============================] - 173s 228ms/step - loss: 0.1624 - accuracy: 0.9475\n",
      "Epoch 18/50\n",
      "759/759 [==============================] - 173s 228ms/step - loss: 0.1579 - accuracy: 0.9501\n",
      "Epoch 19/50\n",
      "759/759 [==============================] - 173s 229ms/step - loss: 0.1630 - accuracy: 0.9488\n",
      "Epoch 20/50\n",
      "759/759 [==============================] - 173s 228ms/step - loss: 0.1506 - accuracy: 0.9532\n",
      "Epoch 21/50\n",
      "759/759 [==============================] - 173s 228ms/step - loss: 0.1493 - accuracy: 0.9525\n",
      "Epoch 22/50\n",
      "759/759 [==============================] - 173s 228ms/step - loss: 0.1464 - accuracy: 0.9519\n",
      "Epoch 23/50\n",
      "759/759 [==============================] - 174s 229ms/step - loss: 0.1394 - accuracy: 0.9540\n",
      "Epoch 24/50\n",
      "759/759 [==============================] - 178s 235ms/step - loss: 0.1531 - accuracy: 0.9525\n",
      "Epoch 25/50\n",
      "759/759 [==============================] - 173s 228ms/step - loss: 0.1449 - accuracy: 0.9550\n",
      "Epoch 26/50\n",
      "759/759 [==============================] - 174s 229ms/step - loss: 0.1509 - accuracy: 0.9547\n",
      "Epoch 27/50\n",
      "759/759 [==============================] - 173s 228ms/step - loss: 0.1543 - accuracy: 0.9542\n",
      "Epoch 28/50\n",
      "759/759 [==============================] - 174s 229ms/step - loss: 0.1382 - accuracy: 0.9551\n",
      "Epoch 29/50\n",
      "759/759 [==============================] - 174s 229ms/step - loss: 0.1294 - accuracy: 0.9581\n",
      "Epoch 30/50\n",
      "759/759 [==============================] - 173s 228ms/step - loss: 0.1358 - accuracy: 0.9554\n",
      "Epoch 31/50\n",
      "759/759 [==============================] - 173s 228ms/step - loss: 0.1332 - accuracy: 0.9570\n",
      "Epoch 32/50\n",
      "759/759 [==============================] - 173s 227ms/step - loss: 0.1305 - accuracy: 0.9591\n",
      "Epoch 33/50\n",
      "759/759 [==============================] - 173s 228ms/step - loss: 0.1460 - accuracy: 0.9572\n",
      "Epoch 34/50\n",
      "759/759 [==============================] - 173s 228ms/step - loss: 0.1321 - accuracy: 0.9576\n",
      "Epoch 35/50\n",
      "759/759 [==============================] - 173s 228ms/step - loss: 0.1304 - accuracy: 0.9587\n",
      "Epoch 36/50\n",
      "759/759 [==============================] - 173s 227ms/step - loss: 0.1432 - accuracy: 0.9570\n",
      "Epoch 37/50\n",
      "759/759 [==============================] - 173s 228ms/step - loss: 0.1302 - accuracy: 0.9590\n",
      "Epoch 38/50\n",
      "759/759 [==============================] - 173s 228ms/step - loss: 0.1227 - accuracy: 0.9595\n",
      "Epoch 39/50\n",
      "759/759 [==============================] - 173s 228ms/step - loss: 0.1250 - accuracy: 0.9614\n",
      "Epoch 40/50\n",
      "759/759 [==============================] - 173s 228ms/step - loss: 0.1251 - accuracy: 0.9609\n",
      "Epoch 41/50\n",
      "759/759 [==============================] - 173s 227ms/step - loss: 0.1217 - accuracy: 0.9618\n",
      "Epoch 42/50\n",
      "759/759 [==============================] - 173s 227ms/step - loss: 0.1299 - accuracy: 0.9619\n",
      "Epoch 43/50\n",
      "759/759 [==============================] - 173s 228ms/step - loss: 0.1208 - accuracy: 0.9622\n",
      "Epoch 44/50\n",
      "759/759 [==============================] - 173s 228ms/step - loss: 0.1134 - accuracy: 0.9637\n",
      "Epoch 45/50\n",
      "759/759 [==============================] - 173s 228ms/step - loss: 0.1190 - accuracy: 0.9641\n",
      "Epoch 46/50\n",
      "759/759 [==============================] - 173s 228ms/step - loss: 0.1178 - accuracy: 0.9623\n",
      "Epoch 47/50\n",
      "759/759 [==============================] - 29662s 39s/step - loss: 0.1175 - accuracy: 0.9634\n",
      "Epoch 48/50\n",
      "759/759 [==============================] - 164s 216ms/step - loss: 0.1133 - accuracy: 0.9629\n",
      "Epoch 49/50\n",
      "759/759 [==============================] - 166s 219ms/step - loss: 0.1143 - accuracy: 0.9646\n",
      "Epoch 50/50\n",
      "759/759 [==============================] - 165s 217ms/step - loss: 0.1194 - accuracy: 0.9634\n",
      "253/253 [==============================] - 12s 46ms/step - loss: 0.1336 - accuracy: 0.9603\n",
      "Epoch 1/50\n",
      "759/759 [==============================] - 169s 221ms/step - loss: 0.5312 - accuracy: 0.8187\n",
      "Epoch 2/50\n",
      "759/759 [==============================] - 166s 219ms/step - loss: 0.3388 - accuracy: 0.8849\n",
      "Epoch 3/50\n",
      "759/759 [==============================] - 166s 219ms/step - loss: 0.2799 - accuracy: 0.9058\n",
      "Epoch 4/50\n",
      "759/759 [==============================] - 166s 218ms/step - loss: 0.2468 - accuracy: 0.9161\n",
      "Epoch 5/50\n",
      "759/759 [==============================] - 176s 232ms/step - loss: 0.2252 - accuracy: 0.9241\n",
      "Epoch 6/50\n",
      "759/759 [==============================] - 172s 226ms/step - loss: 0.2096 - accuracy: 0.9279\n",
      "Epoch 7/50\n",
      "759/759 [==============================] - 170s 224ms/step - loss: 0.1994 - accuracy: 0.9329\n",
      "Epoch 8/50\n",
      "759/759 [==============================] - 170s 224ms/step - loss: 0.1868 - accuracy: 0.9364\n",
      "Epoch 9/50\n",
      "759/759 [==============================] - 170s 224ms/step - loss: 0.1866 - accuracy: 0.9371\n",
      "Epoch 10/50\n",
      "759/759 [==============================] - 170s 224ms/step - loss: 0.1762 - accuracy: 0.9402\n",
      "Epoch 11/50\n",
      "759/759 [==============================] - 173s 228ms/step - loss: 0.1704 - accuracy: 0.9419\n",
      "Epoch 12/50\n",
      "759/759 [==============================] - 170s 224ms/step - loss: 0.1695 - accuracy: 0.9435\n",
      "Epoch 13/50\n",
      "759/759 [==============================] - 170s 224ms/step - loss: 0.1616 - accuracy: 0.9458\n",
      "Epoch 14/50\n",
      "759/759 [==============================] - 170s 224ms/step - loss: 0.1596 - accuracy: 0.9480\n",
      "Epoch 15/50\n",
      "759/759 [==============================] - 170s 224ms/step - loss: 0.1583 - accuracy: 0.9482\n",
      "Epoch 16/50\n",
      "759/759 [==============================] - 170s 224ms/step - loss: 0.1549 - accuracy: 0.9504\n",
      "Epoch 17/50\n",
      "759/759 [==============================] - 171s 225ms/step - loss: 0.1506 - accuracy: 0.9504\n",
      "Epoch 18/50\n",
      "759/759 [==============================] - 171s 225ms/step - loss: 0.1472 - accuracy: 0.9512\n",
      "Epoch 19/50\n",
      "759/759 [==============================] - 170s 225ms/step - loss: 0.1520 - accuracy: 0.9524\n",
      "Epoch 20/50\n",
      "759/759 [==============================] - 170s 225ms/step - loss: 0.1400 - accuracy: 0.9543\n",
      "Epoch 21/50\n",
      "759/759 [==============================] - 170s 224ms/step - loss: 0.1370 - accuracy: 0.9551\n",
      "Epoch 22/50\n",
      "759/759 [==============================] - 171s 225ms/step - loss: 0.1340 - accuracy: 0.9570\n",
      "Epoch 23/50\n",
      "759/759 [==============================] - 170s 224ms/step - loss: 0.1357 - accuracy: 0.9559\n",
      "Epoch 24/50\n",
      "759/759 [==============================] - 170s 224ms/step - loss: 0.1329 - accuracy: 0.9575\n",
      "Epoch 25/50\n",
      "759/759 [==============================] - 170s 224ms/step - loss: 0.1311 - accuracy: 0.9571\n",
      "Epoch 26/50\n",
      "759/759 [==============================] - 170s 224ms/step - loss: 0.1299 - accuracy: 0.9574\n",
      "Epoch 27/50\n",
      "759/759 [==============================] - 170s 224ms/step - loss: 0.1372 - accuracy: 0.9602\n",
      "Epoch 28/50\n",
      "759/759 [==============================] - 170s 224ms/step - loss: 0.1320 - accuracy: 0.9587\n",
      "Epoch 29/50\n",
      "759/759 [==============================] - 170s 224ms/step - loss: 0.1350 - accuracy: 0.9599\n",
      "Epoch 30/50\n",
      "759/759 [==============================] - 170s 224ms/step - loss: 0.1299 - accuracy: 0.9604\n",
      "Epoch 31/50\n",
      "759/759 [==============================] - 170s 224ms/step - loss: 0.1143 - accuracy: 0.9620\n",
      "Epoch 32/50\n",
      "759/759 [==============================] - 173s 228ms/step - loss: 0.1163 - accuracy: 0.9633\n",
      "Epoch 33/50\n",
      "759/759 [==============================] - 183s 241ms/step - loss: 0.1125 - accuracy: 0.9632\n",
      "Epoch 34/50\n",
      "759/759 [==============================] - 174s 230ms/step - loss: 0.1131 - accuracy: 0.9634\n",
      "Epoch 35/50\n",
      "759/759 [==============================] - 174s 230ms/step - loss: 0.1197 - accuracy: 0.9640\n",
      "Epoch 36/50\n",
      "759/759 [==============================] - 175s 231ms/step - loss: 0.1202 - accuracy: 0.9642\n",
      "Epoch 37/50\n",
      "759/759 [==============================] - 174s 229ms/step - loss: 0.1158 - accuracy: 0.9648\n",
      "Epoch 38/50\n",
      "759/759 [==============================] - 176s 231ms/step - loss: 0.1073 - accuracy: 0.9655\n",
      "Epoch 39/50\n",
      "759/759 [==============================] - 174s 230ms/step - loss: 0.1112 - accuracy: 0.9655\n",
      "Epoch 40/50\n",
      "759/759 [==============================] - 177s 233ms/step - loss: 0.1105 - accuracy: 0.9662\n",
      "Epoch 41/50\n",
      "759/759 [==============================] - 175s 230ms/step - loss: 0.1077 - accuracy: 0.9659\n",
      "Epoch 42/50\n",
      "759/759 [==============================] - 174s 229ms/step - loss: 0.1024 - accuracy: 0.9672\n",
      "Epoch 43/50\n",
      "759/759 [==============================] - 174s 230ms/step - loss: 0.1090 - accuracy: 0.9653\n",
      "Epoch 44/50\n",
      "759/759 [==============================] - 174s 229ms/step - loss: 0.0977 - accuracy: 0.9690\n",
      "Epoch 45/50\n",
      "759/759 [==============================] - 174s 229ms/step - loss: 0.1009 - accuracy: 0.9679\n",
      "Epoch 46/50\n",
      "759/759 [==============================] - 174s 230ms/step - loss: 0.1023 - accuracy: 0.9685\n",
      "Epoch 47/50\n",
      "759/759 [==============================] - 174s 229ms/step - loss: 0.0958 - accuracy: 0.9682\n",
      "Epoch 48/50\n",
      "759/759 [==============================] - 174s 230ms/step - loss: 0.0965 - accuracy: 0.9692\n",
      "Epoch 49/50\n",
      "759/759 [==============================] - 175s 230ms/step - loss: 0.0968 - accuracy: 0.9681\n",
      "Epoch 50/50\n",
      "759/759 [==============================] - 175s 230ms/step - loss: 0.0942 - accuracy: 0.9680\n",
      "253/253 [==============================] - 13s 51ms/step - loss: 0.1642 - accuracy: 0.9635\n",
      "Epoch 1/50\n",
      "759/759 [==============================] - 179s 234ms/step - loss: 0.5532 - accuracy: 0.8143\n",
      "Epoch 2/50\n",
      "759/759 [==============================] - 177s 233ms/step - loss: 0.3449 - accuracy: 0.8838\n",
      "Epoch 3/50\n",
      "759/759 [==============================] - 177s 234ms/step - loss: 0.2877 - accuracy: 0.9011\n",
      "Epoch 4/50\n",
      "759/759 [==============================] - 178s 234ms/step - loss: 0.2540 - accuracy: 0.9128\n",
      "Epoch 5/50\n",
      "759/759 [==============================] - 184s 242ms/step - loss: 0.2313 - accuracy: 0.9191\n",
      "Epoch 6/50\n",
      "759/759 [==============================] - 194s 256ms/step - loss: 0.2220 - accuracy: 0.9242\n",
      "Epoch 7/50\n",
      "759/759 [==============================] - 172s 227ms/step - loss: 0.2082 - accuracy: 0.9312\n",
      "Epoch 8/50\n",
      "759/759 [==============================] - 172s 226ms/step - loss: 0.2017 - accuracy: 0.9315\n",
      "Epoch 9/50\n",
      "759/759 [==============================] - 178s 235ms/step - loss: 0.1967 - accuracy: 0.9354\n",
      "Epoch 10/50\n",
      "759/759 [==============================] - 185s 244ms/step - loss: 0.1856 - accuracy: 0.9375\n",
      "Epoch 11/50\n",
      "759/759 [==============================] - 176s 232ms/step - loss: 0.1790 - accuracy: 0.9397\n",
      "Epoch 12/50\n",
      "759/759 [==============================] - 183s 242ms/step - loss: 0.1718 - accuracy: 0.9438\n",
      "Epoch 13/50\n",
      "759/759 [==============================] - 187s 246ms/step - loss: 0.1641 - accuracy: 0.9467\n",
      "Epoch 14/50\n",
      "759/759 [==============================] - 185s 244ms/step - loss: 0.1655 - accuracy: 0.9456\n",
      "Epoch 15/50\n",
      "759/759 [==============================] - 185s 244ms/step - loss: 0.1569 - accuracy: 0.9483\n",
      "Epoch 16/50\n",
      "759/759 [==============================] - 205s 270ms/step - loss: 0.1618 - accuracy: 0.9464\n",
      "Epoch 17/50\n",
      "759/759 [==============================] - 192s 254ms/step - loss: 0.1554 - accuracy: 0.9496\n",
      "Epoch 18/50\n",
      "759/759 [==============================] - 230s 303ms/step - loss: 0.1592 - accuracy: 0.9484\n",
      "Epoch 19/50\n",
      "759/759 [==============================] - 193s 255ms/step - loss: 0.1551 - accuracy: 0.9499\n",
      "Epoch 20/50\n",
      "759/759 [==============================] - 196s 258ms/step - loss: 0.1499 - accuracy: 0.9514\n",
      "Epoch 21/50\n",
      "759/759 [==============================] - 178s 235ms/step - loss: 0.1558 - accuracy: 0.9515\n",
      "Epoch 22/50\n",
      "759/759 [==============================] - 185s 243ms/step - loss: 0.1467 - accuracy: 0.9518\n",
      "Epoch 23/50\n",
      "759/759 [==============================] - 183s 241ms/step - loss: 0.1533 - accuracy: 0.9520\n",
      "Epoch 24/50\n",
      "759/759 [==============================] - 192s 253ms/step - loss: 0.1400 - accuracy: 0.9543\n",
      "Epoch 25/50\n",
      "759/759 [==============================] - 187s 247ms/step - loss: 0.1509 - accuracy: 0.9542\n",
      "Epoch 26/50\n",
      "759/759 [==============================] - 179s 236ms/step - loss: 0.1386 - accuracy: 0.9565\n",
      "Epoch 27/50\n",
      "759/759 [==============================] - 185s 244ms/step - loss: 0.1429 - accuracy: 0.9557\n",
      "Epoch 28/50\n",
      "759/759 [==============================] - 185s 244ms/step - loss: 0.1314 - accuracy: 0.9574\n",
      "Epoch 29/50\n",
      "759/759 [==============================] - 201s 265ms/step - loss: 0.1373 - accuracy: 0.9582\n",
      "Epoch 30/50\n",
      "759/759 [==============================] - 182s 240ms/step - loss: 0.1293 - accuracy: 0.9591\n",
      "Epoch 31/50\n",
      "759/759 [==============================] - 171s 226ms/step - loss: 0.1339 - accuracy: 0.9583\n",
      "Epoch 32/50\n",
      "759/759 [==============================] - 172s 226ms/step - loss: 0.1332 - accuracy: 0.9576\n",
      "Epoch 33/50\n",
      "759/759 [==============================] - 171s 225ms/step - loss: 0.1337 - accuracy: 0.9586\n",
      "Epoch 34/50\n",
      "759/759 [==============================] - 171s 226ms/step - loss: 0.1277 - accuracy: 0.9600\n",
      "Epoch 35/50\n",
      "759/759 [==============================] - 171s 226ms/step - loss: 0.1264 - accuracy: 0.9612\n",
      "Epoch 36/50\n",
      "759/759 [==============================] - 175s 230ms/step - loss: 0.1272 - accuracy: 0.9609\n",
      "Epoch 37/50\n",
      "759/759 [==============================] - 178s 234ms/step - loss: 0.1250 - accuracy: 0.9622\n",
      "Epoch 38/50\n",
      "759/759 [==============================] - 171s 225ms/step - loss: 0.1291 - accuracy: 0.9588\n",
      "Epoch 39/50\n",
      "759/759 [==============================] - 171s 225ms/step - loss: 0.1187 - accuracy: 0.9632\n",
      "Epoch 40/50\n",
      "759/759 [==============================] - 181s 239ms/step - loss: 0.1352 - accuracy: 0.9577\n",
      "Epoch 41/50\n",
      "759/759 [==============================] - 176s 231ms/step - loss: 0.1192 - accuracy: 0.9621\n",
      "Epoch 42/50\n",
      "759/759 [==============================] - 176s 231ms/step - loss: 0.1231 - accuracy: 0.9611\n",
      "Epoch 43/50\n",
      "759/759 [==============================] - 175s 231ms/step - loss: 0.1211 - accuracy: 0.9622\n",
      "Epoch 44/50\n",
      "759/759 [==============================] - 175s 231ms/step - loss: 0.1181 - accuracy: 0.9626\n",
      "Epoch 45/50\n",
      "759/759 [==============================] - 176s 232ms/step - loss: 0.1160 - accuracy: 0.9633\n",
      "Epoch 46/50\n",
      "759/759 [==============================] - 177s 234ms/step - loss: 0.1108 - accuracy: 0.9645\n",
      "Epoch 47/50\n",
      "759/759 [==============================] - 176s 231ms/step - loss: 0.1160 - accuracy: 0.9638\n",
      "Epoch 48/50\n",
      "759/759 [==============================] - 176s 232ms/step - loss: 0.1113 - accuracy: 0.9657\n",
      "Epoch 49/50\n",
      "759/759 [==============================] - 176s 232ms/step - loss: 0.1109 - accuracy: 0.9647\n",
      "Epoch 50/50\n",
      "759/759 [==============================] - 176s 232ms/step - loss: 0.1100 - accuracy: 0.9651\n",
      "253/253 [==============================] - 13s 51ms/step - loss: 0.1311 - accuracy: 0.9602\n",
      "Epoch 1/50\n",
      "759/759 [==============================] - 184s 238ms/step - loss: 0.5308 - accuracy: 0.8186\n",
      "Epoch 2/50\n",
      "759/759 [==============================] - 172s 226ms/step - loss: 0.3415 - accuracy: 0.8828\n",
      "Epoch 3/50\n",
      "759/759 [==============================] - 176s 232ms/step - loss: 0.2782 - accuracy: 0.9048\n",
      "Epoch 4/50\n"
     ]
    },
    {
     "name": "stdout",
     "output_type": "stream",
     "text": [
      "759/759 [==============================] - 207s 273ms/step - loss: 0.2492 - accuracy: 0.9149\n",
      "Epoch 5/50\n",
      "759/759 [==============================] - 172s 227ms/step - loss: 0.2274 - accuracy: 0.9204\n",
      "Epoch 6/50\n",
      "759/759 [==============================] - 200s 263ms/step - loss: 0.2141 - accuracy: 0.9260\n",
      "Epoch 7/50\n",
      "759/759 [==============================] - 206s 271ms/step - loss: 0.2010 - accuracy: 0.9325\n",
      "Epoch 8/50\n",
      "759/759 [==============================] - 214s 282ms/step - loss: 0.1967 - accuracy: 0.9342\n",
      "Epoch 9/50\n",
      "759/759 [==============================] - 212s 279ms/step - loss: 0.1859 - accuracy: 0.9384\n",
      "Epoch 10/50\n",
      "759/759 [==============================] - 192s 252ms/step - loss: 0.1755 - accuracy: 0.9409\n",
      "Epoch 11/50\n",
      "759/759 [==============================] - 183s 241ms/step - loss: 0.1709 - accuracy: 0.9415\n",
      "Epoch 12/50\n",
      "759/759 [==============================] - 184s 242ms/step - loss: 0.1768 - accuracy: 0.9404\n",
      "Epoch 13/50\n",
      "759/759 [==============================] - 180s 238ms/step - loss: 0.1593 - accuracy: 0.9450\n",
      "Epoch 14/50\n",
      "759/759 [==============================] - 225s 296ms/step - loss: 0.1609 - accuracy: 0.9457\n",
      "Epoch 15/50\n",
      "759/759 [==============================] - 223s 294ms/step - loss: 0.1592 - accuracy: 0.9477\n",
      "Epoch 16/50\n",
      "759/759 [==============================] - 225s 296ms/step - loss: 0.1481 - accuracy: 0.9492\n",
      "Epoch 17/50\n",
      "759/759 [==============================] - 224s 295ms/step - loss: 0.1534 - accuracy: 0.9495\n",
      "Epoch 18/50\n",
      "759/759 [==============================] - 225s 297ms/step - loss: 0.1448 - accuracy: 0.9531\n",
      "Epoch 19/50\n",
      "759/759 [==============================] - 224s 296ms/step - loss: 0.1452 - accuracy: 0.9518\n",
      "Epoch 20/50\n",
      "759/759 [==============================] - 224s 295ms/step - loss: 0.1414 - accuracy: 0.9534\n",
      "Epoch 21/50\n",
      "759/759 [==============================] - 224s 295ms/step - loss: 0.1421 - accuracy: 0.9521\n",
      "Epoch 22/50\n",
      "759/759 [==============================] - 172s 227ms/step - loss: 0.1367 - accuracy: 0.9543\n",
      "Epoch 23/50\n",
      "759/759 [==============================] - 173s 228ms/step - loss: 0.1372 - accuracy: 0.9545\n",
      "Epoch 24/50\n",
      "759/759 [==============================] - 175s 230ms/step - loss: 0.1294 - accuracy: 0.9563\n",
      "Epoch 25/50\n",
      "759/759 [==============================] - 175s 230ms/step - loss: 0.1337 - accuracy: 0.9566\n",
      "Epoch 26/50\n",
      "759/759 [==============================] - 177s 233ms/step - loss: 0.1338 - accuracy: 0.9548\n",
      "Epoch 27/50\n",
      "759/759 [==============================] - 178s 234ms/step - loss: 0.1341 - accuracy: 0.9564\n",
      "Epoch 28/50\n",
      "759/759 [==============================] - 177s 234ms/step - loss: 0.1394 - accuracy: 0.9562\n",
      "Epoch 29/50\n",
      "759/759 [==============================] - 178s 234ms/step - loss: 0.1449 - accuracy: 0.9560\n",
      "Epoch 30/50\n",
      "759/759 [==============================] - 177s 234ms/step - loss: 0.1465 - accuracy: 0.9560\n",
      "Epoch 31/50\n",
      "759/759 [==============================] - 177s 234ms/step - loss: 0.1325 - accuracy: 0.9563\n",
      "Epoch 32/50\n",
      "759/759 [==============================] - 177s 234ms/step - loss: 0.1292 - accuracy: 0.9594\n",
      "Epoch 33/50\n",
      "759/759 [==============================] - 177s 234ms/step - loss: 0.1300 - accuracy: 0.9591\n",
      "Epoch 34/50\n",
      "759/759 [==============================] - 177s 234ms/step - loss: 0.1266 - accuracy: 0.9596\n",
      "Epoch 35/50\n",
      "759/759 [==============================] - 178s 234ms/step - loss: 0.1251 - accuracy: 0.9608\n",
      "Epoch 36/50\n",
      "759/759 [==============================] - 178s 234ms/step - loss: 0.1213 - accuracy: 0.9601\n",
      "Epoch 37/50\n",
      "759/759 [==============================] - 177s 234ms/step - loss: 0.1309 - accuracy: 0.9587\n",
      "Epoch 38/50\n",
      "759/759 [==============================] - 178s 234ms/step - loss: 0.1244 - accuracy: 0.9615\n",
      "Epoch 39/50\n",
      "759/759 [==============================] - 177s 234ms/step - loss: 0.1243 - accuracy: 0.9612\n",
      "Epoch 40/50\n",
      "759/759 [==============================] - 178s 234ms/step - loss: 0.1257 - accuracy: 0.9601\n",
      "Epoch 41/50\n",
      "759/759 [==============================] - 177s 234ms/step - loss: 0.1191 - accuracy: 0.9627\n",
      "Epoch 42/50\n",
      "759/759 [==============================] - 177s 234ms/step - loss: 0.1264 - accuracy: 0.9605\n",
      "Epoch 43/50\n",
      "759/759 [==============================] - 179s 235ms/step - loss: 0.1192 - accuracy: 0.9632\n",
      "Epoch 44/50\n",
      "759/759 [==============================] - 177s 233ms/step - loss: 0.1144 - accuracy: 0.9629\n",
      "Epoch 45/50\n",
      "759/759 [==============================] - 177s 234ms/step - loss: 0.1186 - accuracy: 0.9624\n",
      "Epoch 46/50\n",
      "759/759 [==============================] - 177s 233ms/step - loss: 0.1150 - accuracy: 0.9636\n",
      "Epoch 47/50\n",
      "759/759 [==============================] - 175s 230ms/step - loss: 0.1088 - accuracy: 0.9645\n",
      "Epoch 48/50\n",
      "759/759 [==============================] - 175s 230ms/step - loss: 0.1103 - accuracy: 0.9639\n",
      "Epoch 49/50\n",
      "759/759 [==============================] - 174s 230ms/step - loss: 0.1091 - accuracy: 0.9644\n",
      "Epoch 50/50\n",
      "759/759 [==============================] - 175s 230ms/step - loss: 0.1118 - accuracy: 0.9657\n",
      "253/253 [==============================] - 13s 50ms/step - loss: 0.1764 - accuracy: 0.9546\n"
     ]
    }
   ],
   "source": [
    "k=4\n",
    "num_val_samples = len(features)//4\n",
    "val_scores=[]\n",
    "diff_models = []\n",
    "histories = []\n",
    "for fold in range(k):\n",
    "    val_data = features[num_val_samples*fold:num_val_samples*(fold+1)]\n",
    "    val_img_data = image_hht[num_val_samples*fold:num_val_samples*(fold+1)]\n",
    "    val_label = labels[num_val_samples*fold:num_val_samples*(fold+1)]\n",
    "    \n",
    "    train_data = np.concatenate((features[:num_val_samples*fold],features[num_val_samples*(fold+1):]))\n",
    "    train_img_data = np.concatenate((image_hht[:num_val_samples*fold],image_hht[num_val_samples*(fold+1):]))\n",
    "    train_label = np.concatenate((labels[:num_val_samples*fold],labels[num_val_samples*(fold+1):]))\n",
    "    \n",
    "    model = get_model()\n",
    "    history = model.fit([train_data,train_img_data],train_label,epochs=50)\n",
    "    histories.append(history)\n",
    "    diff_models.append(model)\n",
    "    val_score = model.evaluate([val_data,val_img_data],val_label)\n",
    "    val_scores.append(val_score)"
   ]
  },
  {
   "cell_type": "code",
   "execution_count": 28,
   "id": "be133c0f",
   "metadata": {},
   "outputs": [
    {
     "data": {
      "text/plain": [
       "[[0.1336345374584198, 0.9602968692779541],\n",
       " [0.16417884826660156, 0.963512659072876],\n",
       " [0.13109727203845978, 0.9601731896400452],\n",
       " [0.17638486623764038, 0.9546073079109192]]"
      ]
     },
     "execution_count": 28,
     "metadata": {},
     "output_type": "execute_result"
    }
   ],
   "source": [
    "val_scores"
   ]
  },
  {
   "cell_type": "code",
   "execution_count": 29,
   "id": "aa2209f1",
   "metadata": {},
   "outputs": [
    {
     "data": {
      "text/plain": [
       "array([0.15132388, 0.95964751])"
      ]
     },
     "execution_count": 29,
     "metadata": {},
     "output_type": "execute_result"
    }
   ],
   "source": [
    "val_scores = np.array(val_scores)\n",
    "sum(val_scores)/len(val_scores)"
   ]
  },
  {
   "cell_type": "code",
   "execution_count": 30,
   "id": "fd262894",
   "metadata": {},
   "outputs": [
    {
     "data": {
      "text/plain": [
       "(21892, 187)"
      ]
     },
     "execution_count": 30,
     "metadata": {},
     "output_type": "execute_result"
    }
   ],
   "source": [
    "test_data = pd.read_csv('mitbih_test.csv',header = None)\n",
    "test_data = np.array(test_data)\n",
    "test_labels = test_data[:,-1]\n",
    "test_data = test_data[:,:-1]\n",
    "test_data.shape"
   ]
  },
  {
   "cell_type": "code",
   "execution_count": 31,
   "id": "bb1676f0",
   "metadata": {},
   "outputs": [
    {
     "name": "stderr",
     "output_type": "stream",
     "text": [
      "C:\\Users\\Prafful\\AppData\\Local\\Temp\\ipykernel_8628\\1299854655.py:10: VisibleDeprecationWarning: Creating an ndarray from ragged nested sequences (which is a list-or-tuple of lists-or-tuples-or ndarrays with different lengths or shapes) is deprecated. If you meant to do this, you must specify 'dtype=object' when creating the ndarray.\n",
      "  samples = np.array([np.array(xi) for xi in samples])\n",
      "C:\\Users\\Prafful\\AppData\\Local\\Temp\\ipykernel_8628\\2876654152.py:8: VisibleDeprecationWarning: Creating an ndarray from ragged nested sequences (which is a list-or-tuple of lists-or-tuples-or ndarrays with different lengths or shapes) is deprecated. If you meant to do this, you must specify 'dtype=object' when creating the ndarray.\n",
      "  return np.array(fibfs)\n"
     ]
    }
   ],
   "source": [
    "temp0 = get_samples(test_data)\n",
    "test_imfs = create_fibfs(temp0)"
   ]
  },
  {
   "cell_type": "code",
   "execution_count": 32,
   "id": "2d0f37a1",
   "metadata": {},
   "outputs": [
    {
     "data": {
      "text/plain": [
       "(21892,)"
      ]
     },
     "execution_count": 32,
     "metadata": {},
     "output_type": "execute_result"
    }
   ],
   "source": [
    "test_imfs.shape"
   ]
  },
  {
   "cell_type": "code",
   "execution_count": 33,
   "id": "b5d525e9",
   "metadata": {},
   "outputs": [],
   "source": [
    "final_features = pad_imfs(test_imfs)\n",
    "final_target = to_categorical(test_labels)"
   ]
  },
  {
   "cell_type": "code",
   "execution_count": 34,
   "id": "d3a5e3ec",
   "metadata": {},
   "outputs": [],
   "source": [
    "test_f,final_images = create_spectrum(test_imfs)"
   ]
  },
  {
   "cell_type": "code",
   "execution_count": 35,
   "id": "6b5f246f",
   "metadata": {},
   "outputs": [
    {
     "data": {
      "text/plain": [
       "((21892, 186, 6), (21892, 5))"
      ]
     },
     "execution_count": 35,
     "metadata": {},
     "output_type": "execute_result"
    }
   ],
   "source": [
    "(final_features.shape,final_target.shape)"
   ]
  },
  {
   "cell_type": "code",
   "execution_count": 36,
   "id": "47ccafbb",
   "metadata": {},
   "outputs": [
    {
     "name": "stdout",
     "output_type": "stream",
     "text": [
      "685/685 [==============================] - 33s 48ms/step - loss: 0.1771 - accuracy: 0.9603\n"
     ]
    },
    {
     "data": {
      "text/plain": [
       "[0.1770755499601364, 0.9603051543235779]"
      ]
     },
     "execution_count": 36,
     "metadata": {},
     "output_type": "execute_result"
    }
   ],
   "source": [
    "model.evaluate([final_features,final_images],final_target)"
   ]
  },
  {
   "cell_type": "code",
   "execution_count": 45,
   "id": "c2a2d68d",
   "metadata": {},
   "outputs": [
    {
     "data": {
      "image/png": "[encoded data removed]",
      "text/plain": [
       "<Figure size 432x288 with 1 Axes>"
      ]
     },
     "metadata": {
      "needs_background": "light"
     },
     "output_type": "display_data"
    },
    {
     "data": {
      "image/png": "[encoded data removed]",
      "text/plain": [
       "<Figure size 432x288 with 1 Axes>"
      ]
     },
     "metadata": {
      "needs_background": "light"
     },
     "output_type": "display_data"
    },
    {
     "data": {
      "text/plain": [
       "<Figure size 432x288 with 0 Axes>"
      ]
     },
     "metadata": {},
     "output_type": "display_data"
    }
   ],
   "source": [
    "get_curves(histories[2])"
   ]
  },
  {
   "cell_type": "code",
   "execution_count": null,
   "id": "f3c4b161",
   "metadata": {},
   "outputs": [],
   "source": []
  }
 ],
 "metadata": {
  "kernelspec": {
   "display_name": "Python 3 (ipykernel)",
   "language": "python",
   "name": "python3"
  },
  "language_info": {
   "codemirror_mode": {
    "name": "ipython",
    "version": 3
   },
   "file_extension": ".py",
   "mimetype": "text/x-python",
   "name": "python",
   "nbconvert_exporter": "python",
   "pygments_lexer": "ipython3",
   "version": "3.9.12"
  }
 },
 "nbformat": 4,
 "nbformat_minor": 5
}
